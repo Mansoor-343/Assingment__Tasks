{
 "cells": [
  {
   "cell_type": "markdown",
   "id": "a8c96189",
   "metadata": {},
   "source": [
    "Task 1: Dictionary Basics Create a Python program that defines a dictionary to store information about your favorite book. Include the title, author, publication year, and genre as key-value pairs. Print out the dictionary.and do atleast 5 dictionary methods on it.\n",
    "\n",
    "Task 2: Dictionary Lookup Write a Python program that simulates a simple dictionary for translating English words to Spanish. Define a dictionary containing a few English words as keys and their corresponding Spanish translations as values. Allow users to enter an English word, and then display its Spanish translation if it exists in the dictionary.(use google for English to Spanish translator)\n",
    "\n",
    "Task 3: Student Grades Create a Python program that stores the grades of five students in a dictionary. Allow users to input the names of the students and their respective grades. Calculate and display the average grade of the students.\n",
    "\n",
    "Task 4: Contact List Build a basic contact list using a dictionary. Initially, the dictionary can be empty. Allow users to add new contacts with names and phone numbers. Users should also be able to search for contacts by name and display their phone numbers(use in operator).\n",
    "\n",
    "Task 5: Dictionary Iteration Write a Python program that defines a dictionary containing the names of fruits as keys and their corresponding colors as values (e.g., 'apple': 'red').Do atleast 5 dictionary methods on it.\n",
    "\n",
    " "
   ]
  },
  {
   "cell_type": "markdown",
   "id": "8cdbca25",
   "metadata": {},
   "source": [
    "Task 1: Dictionary Basics Create a Python program that defines a dictionary to store information about your favorite book. Include the title, author, publication year, and genre as key-value pairs. Print out the dictionary.and do atleast 5 dictionary methods on it."
   ]
  },
  {
   "cell_type": "code",
   "execution_count": 1,
   "id": "f621d0f3",
   "metadata": {},
   "outputs": [],
   "source": [
    "fav_book = {\n",
    "    \"title\":\"Harry Potter: The Prequel\",\n",
    "     \"author\":\"J.K. Rowling\",\n",
    "    \"publication year\":2008,\n",
    "    \"genre\": \"Action and comedy\"\n",
    "}"
   ]
  },
  {
   "cell_type": "code",
   "execution_count": 2,
   "id": "cc4fb761",
   "metadata": {},
   "outputs": [
    {
     "data": {
      "text/plain": [
       "{'title': 'Harry Potter: The Prequel',\n",
       " 'author': 'J.K. Rowling',\n",
       " 'publication year': 2008,\n",
       " 'genre': 'Action and comedy'}"
      ]
     },
     "execution_count": 2,
     "metadata": {},
     "output_type": "execute_result"
    }
   ],
   "source": [
    "fav_book"
   ]
  },
  {
   "cell_type": "code",
   "execution_count": 3,
   "id": "61e3b5f4",
   "metadata": {},
   "outputs": [
    {
     "data": {
      "text/plain": [
       "dict_items([('title', 'Harry Potter: The Prequel'), ('author', 'J.K. Rowling'), ('publication year', 2008), ('genre', 'Action and comedy')])"
      ]
     },
     "execution_count": 3,
     "metadata": {},
     "output_type": "execute_result"
    }
   ],
   "source": [
    "fav_book.items()"
   ]
  },
  {
   "cell_type": "code",
   "execution_count": 4,
   "id": "98acab80",
   "metadata": {},
   "outputs": [
    {
     "data": {
      "text/plain": [
       "dict_keys(['title', 'author', 'publication year', 'genre'])"
      ]
     },
     "execution_count": 4,
     "metadata": {},
     "output_type": "execute_result"
    }
   ],
   "source": [
    "fav_book.keys()"
   ]
  },
  {
   "cell_type": "code",
   "execution_count": 5,
   "id": "427acb02",
   "metadata": {},
   "outputs": [
    {
     "data": {
      "text/plain": [
       "dict_values(['Harry Potter: The Prequel', 'J.K. Rowling', 2008, 'Action and comedy'])"
      ]
     },
     "execution_count": 5,
     "metadata": {},
     "output_type": "execute_result"
    }
   ],
   "source": [
    "fav_book.values()"
   ]
  },
  {
   "cell_type": "code",
   "execution_count": 10,
   "id": "387bf0fc",
   "metadata": {},
   "outputs": [
    {
     "data": {
      "text/plain": [
       "'Harry Potter: The Prequel'"
      ]
     },
     "execution_count": 10,
     "metadata": {},
     "output_type": "execute_result"
    }
   ],
   "source": [
    "fav_book.pop(\"title\")"
   ]
  },
  {
   "cell_type": "code",
   "execution_count": 11,
   "id": "46246b87",
   "metadata": {},
   "outputs": [
    {
     "data": {
      "text/plain": [
       "{'author': 'J.K. Rowling',\n",
       " 'publication year': 2008,\n",
       " 'genre': 'Action and comedy'}"
      ]
     },
     "execution_count": 11,
     "metadata": {},
     "output_type": "execute_result"
    }
   ],
   "source": [
    "fav_book"
   ]
  },
  {
   "cell_type": "code",
   "execution_count": 12,
   "id": "56fb9202",
   "metadata": {},
   "outputs": [
    {
     "data": {
      "text/plain": [
       "('genre', 'Action and comedy')"
      ]
     },
     "execution_count": 12,
     "metadata": {},
     "output_type": "execute_result"
    }
   ],
   "source": [
    "fav_book.popitem()"
   ]
  },
  {
   "cell_type": "code",
   "execution_count": 13,
   "id": "524264ea",
   "metadata": {},
   "outputs": [
    {
     "data": {
      "text/plain": [
       "{'author': 'J.K. Rowling', 'publication year': 2008}"
      ]
     },
     "execution_count": 13,
     "metadata": {},
     "output_type": "execute_result"
    }
   ],
   "source": [
    "fav_book"
   ]
  },
  {
   "cell_type": "markdown",
   "id": "152fd68c",
   "metadata": {},
   "source": [
    "Task 2: Dictionary Lookup Write a Python program that simulates a simple dictionary for translating English words to Spanish. Define a dictionary containing a few English words as keys and their corresponding Spanish translations as values. Allow users to enter an English word, and then display its Spanish translation if it exists in the dictionary.(use google for English to Spanish translator)"
   ]
  },
  {
   "cell_type": "code",
   "execution_count": 14,
   "id": "22645243",
   "metadata": {},
   "outputs": [
    {
     "name": "stdout",
     "output_type": "stream",
     "text": [
      "enter a word: hello\n"
     ]
    },
    {
     "data": {
      "text/plain": [
       "'hola'"
      ]
     },
     "execution_count": 14,
     "metadata": {},
     "output_type": "execute_result"
    }
   ],
   "source": [
    "lookup = {\"hello\":\"hola\", \"good morning\": \"buen día\",\"have a great day\":\"qué tengas un lindo día\"}\n",
    "\n",
    "words = input(\"enter a word: \")\n",
    "\n",
    "lookup.get(words)"
   ]
  },
  {
   "cell_type": "markdown",
   "id": "4446df24",
   "metadata": {},
   "source": [
    "Task 3: Student Grades Create a Python program that stores the grades of five students in a dictionary. Allow users to input the names of the students and their respective grades. Calculate and display the average grade of the students."
   ]
  },
  {
   "cell_type": "code",
   "execution_count": 16,
   "id": "fa82df7f",
   "metadata": {},
   "outputs": [
    {
     "name": "stdout",
     "output_type": "stream",
     "text": [
      "Enter the student name: mansoor \n",
      "Enter the grade : 9.3\n",
      "Enter the student name: satish\n",
      "Enter the grade : 9.5\n",
      "Enter the student name: rahim\n",
      "Enter the grade : 9.7\n",
      "Enter the student name: adnan\n",
      "Enter the grade : 9.8\n",
      "Enter the student name: sathish\n",
      "Enter the grade : 10\n"
     ]
    }
   ],
   "source": [
    "students = {}\n",
    "name1 = input(\"Enter the student name: \")\n",
    "grade1 = float(input(\"Enter the grade : \"))\n",
    "name2 = input(\"Enter the student name: \")\n",
    "grade2 = float(input(\"Enter the grade : \"))\n",
    "name3 = input(\"Enter the student name: \")\n",
    "grade3 = float(input(\"Enter the grade : \"))\n",
    "name4 = input(\"Enter the student name: \")\n",
    "grade4 = float(input(\"Enter the grade : \"))\n",
    "name5 = input(\"Enter the student name: \")\n",
    "grade5 = float(input(\"Enter the grade : \"))\n",
    "students[name1] = grade1\n",
    "students[name2] = grade2\n",
    "students[name3] = grade3\n",
    "students[name4] = grade4\n",
    "students[name5] = grade5"
   ]
  },
  {
   "cell_type": "code",
   "execution_count": 17,
   "id": "f1fcb845",
   "metadata": {},
   "outputs": [
    {
     "data": {
      "text/plain": [
       "{'mansoor ': 9.3, 'satish': 9.5, 'rahim': 9.7, 'adnan': 9.8, 'sathish': 10.0}"
      ]
     },
     "execution_count": 17,
     "metadata": {},
     "output_type": "execute_result"
    }
   ],
   "source": [
    "students"
   ]
  },
  {
   "cell_type": "code",
   "execution_count": 19,
   "id": "85049752",
   "metadata": {},
   "outputs": [],
   "source": [
    " sum1 = sum(students.values())"
   ]
  },
  {
   "cell_type": "code",
   "execution_count": 20,
   "id": "8e6b4008",
   "metadata": {},
   "outputs": [],
   "source": [
    "no_of_values = len(students)"
   ]
  },
  {
   "cell_type": "code",
   "execution_count": 21,
   "id": "fc0ced74",
   "metadata": {},
   "outputs": [],
   "source": [
    "avearage = sum1/no_of_values"
   ]
  },
  {
   "cell_type": "code",
   "execution_count": 22,
   "id": "389b2186",
   "metadata": {},
   "outputs": [
    {
     "data": {
      "text/plain": [
       "9.66"
      ]
     },
     "execution_count": 22,
     "metadata": {},
     "output_type": "execute_result"
    }
   ],
   "source": [
    "avearage "
   ]
  },
  {
   "cell_type": "markdown",
   "id": "5bce5747",
   "metadata": {},
   "source": [
    "Task 4: Contact List Build a basic contact list using a dictionary. Initially, the dictionary can be empty. Allow users to add new contacts with names and phone numbers. Users should also be able to search for contacts by name and display their phone numbers(use in operator)."
   ]
  },
  {
   "cell_type": "code",
   "execution_count": 25,
   "id": "26111ac2",
   "metadata": {},
   "outputs": [
    {
     "name": "stdout",
     "output_type": "stream",
     "text": [
      "enter a name :mansoor\n",
      "enter a phn number:9876543210\n",
      "enter a name :satish\n",
      "enter a phn number:9807645321\n",
      "enter a name :rahim\n",
      "enter a phn number:9780645321\n"
     ]
    }
   ],
   "source": [
    "Phn_list = {}\n",
    "name1 = input(\"enter a name :\")\n",
    "phn1 = int(input(\"enter a phn number:\"))\n",
    "name2 = input(\"enter a name :\")\n",
    "phn2 = int(input(\"enter a phn number:\"))\n",
    "name3 = input(\"enter a name :\")\n",
    "phn3 = int(input(\"enter a phn number:\"))\n",
    "\n",
    "Phn_list.update({name1:phn1,name2:phn2,name3:phn3})"
   ]
  },
  {
   "cell_type": "code",
   "execution_count": 27,
   "id": "e7093fe4",
   "metadata": {},
   "outputs": [
    {
     "data": {
      "text/plain": [
       "{'mansoor': 9876543210, 'satish': 9807645321, 'rahim': 9780645321}"
      ]
     },
     "execution_count": 27,
     "metadata": {},
     "output_type": "execute_result"
    }
   ],
   "source": [
    "Phn_list"
   ]
  },
  {
   "cell_type": "code",
   "execution_count": 28,
   "id": "39d1a14a",
   "metadata": {},
   "outputs": [
    {
     "name": "stdout",
     "output_type": "stream",
     "text": [
      "enter a contact name :mansoor\n"
     ]
    },
    {
     "data": {
      "text/plain": [
       "9876543210"
      ]
     },
     "execution_count": 28,
     "metadata": {},
     "output_type": "execute_result"
    }
   ],
   "source": [
    "contact = input(\"enter a contact name :\")\n",
    "Phn_list.get(contact)"
   ]
  },
  {
   "cell_type": "code",
   "execution_count": 30,
   "id": "d25e19a2",
   "metadata": {},
   "outputs": [
    {
     "data": {
      "text/plain": [
       "True"
      ]
     },
     "execution_count": 30,
     "metadata": {},
     "output_type": "execute_result"
    }
   ],
   "source": [
    "\"mansoor\" in Phn_list"
   ]
  },
  {
   "cell_type": "markdown",
   "id": "d01ba627",
   "metadata": {},
   "source": [
    "Task 5: Dictionary Iteration Write a Python program that defines a dictionary containing the names of fruits as keys and their corresponding colors as values (e.g., 'apple': 'red').Do atleast 5 dictionary methods on it."
   ]
  },
  {
   "cell_type": "code",
   "execution_count": 31,
   "id": "3a2a3351",
   "metadata": {},
   "outputs": [],
   "source": [
    "fruits = {\"banana\": \"yellow\",\"grape\":\"green\",\"apple\":\"red\",\"orange\":\"orange\"}"
   ]
  },
  {
   "cell_type": "code",
   "execution_count": 32,
   "id": "56d106f3",
   "metadata": {},
   "outputs": [
    {
     "data": {
      "text/plain": [
       "{'banana': 'yellow', 'grape': 'green', 'apple': 'red', 'orange': 'orange'}"
      ]
     },
     "execution_count": 32,
     "metadata": {},
     "output_type": "execute_result"
    }
   ],
   "source": [
    "fruits"
   ]
  },
  {
   "cell_type": "code",
   "execution_count": 33,
   "id": "9e526104",
   "metadata": {},
   "outputs": [
    {
     "data": {
      "text/plain": [
       "'orange'"
      ]
     },
     "execution_count": 33,
     "metadata": {},
     "output_type": "execute_result"
    }
   ],
   "source": [
    "fruits.get(\"orange\")"
   ]
  },
  {
   "cell_type": "code",
   "execution_count": 34,
   "id": "8ce11cf5",
   "metadata": {},
   "outputs": [
    {
     "data": {
      "text/plain": [
       "dict_keys(['banana', 'grape', 'apple', 'orange'])"
      ]
     },
     "execution_count": 34,
     "metadata": {},
     "output_type": "execute_result"
    }
   ],
   "source": [
    "fruits.keys()"
   ]
  },
  {
   "cell_type": "code",
   "execution_count": 35,
   "id": "66676288",
   "metadata": {},
   "outputs": [
    {
     "data": {
      "text/plain": [
       "dict_values(['yellow', 'green', 'red', 'orange'])"
      ]
     },
     "execution_count": 35,
     "metadata": {},
     "output_type": "execute_result"
    }
   ],
   "source": [
    "fruits.values()"
   ]
  },
  {
   "cell_type": "code",
   "execution_count": 36,
   "id": "1fcb99bd",
   "metadata": {},
   "outputs": [
    {
     "data": {
      "text/plain": [
       "dict_items([('banana', 'yellow'), ('grape', 'green'), ('apple', 'red'), ('orange', 'orange')])"
      ]
     },
     "execution_count": 36,
     "metadata": {},
     "output_type": "execute_result"
    }
   ],
   "source": [
    "fruits.items()"
   ]
  },
  {
   "cell_type": "code",
   "execution_count": 37,
   "id": "af581677",
   "metadata": {},
   "outputs": [
    {
     "data": {
      "text/plain": [
       "'orange'"
      ]
     },
     "execution_count": 37,
     "metadata": {},
     "output_type": "execute_result"
    }
   ],
   "source": [
    "fruits.pop(\"orange\")"
   ]
  },
  {
   "cell_type": "code",
   "execution_count": 38,
   "id": "3a498110",
   "metadata": {},
   "outputs": [
    {
     "data": {
      "text/plain": [
       "{'banana': 'yellow', 'grape': 'green', 'apple': 'red'}"
      ]
     },
     "execution_count": 38,
     "metadata": {},
     "output_type": "execute_result"
    }
   ],
   "source": [
    "fruits"
   ]
  },
  {
   "cell_type": "code",
   "execution_count": 39,
   "id": "9841cc2f",
   "metadata": {},
   "outputs": [
    {
     "data": {
      "text/plain": [
       "('apple', 'red')"
      ]
     },
     "execution_count": 39,
     "metadata": {},
     "output_type": "execute_result"
    }
   ],
   "source": [
    "fruits.popitem()"
   ]
  },
  {
   "cell_type": "code",
   "execution_count": 40,
   "id": "16cd977e",
   "metadata": {},
   "outputs": [
    {
     "data": {
      "text/plain": [
       "{'banana': 'yellow', 'grape': 'green'}"
      ]
     },
     "execution_count": 40,
     "metadata": {},
     "output_type": "execute_result"
    }
   ],
   "source": [
    "fruits"
   ]
  },
  {
   "cell_type": "code",
   "execution_count": 41,
   "id": "d21da4db",
   "metadata": {},
   "outputs": [],
   "source": [
    "fruits.clear()"
   ]
  },
  {
   "cell_type": "code",
   "execution_count": 42,
   "id": "fd5c59d3",
   "metadata": {},
   "outputs": [
    {
     "data": {
      "text/plain": [
       "{}"
      ]
     },
     "execution_count": 42,
     "metadata": {},
     "output_type": "execute_result"
    }
   ],
   "source": [
    "fruits"
   ]
  },
  {
   "cell_type": "code",
   "execution_count": null,
   "id": "b435c610",
   "metadata": {},
   "outputs": [],
   "source": []
  }
 ],
 "metadata": {
  "kernelspec": {
   "display_name": "Python 3 (ipykernel)",
   "language": "python",
   "name": "python3"
  },
  "language_info": {
   "codemirror_mode": {
    "name": "ipython",
    "version": 3
   },
   "file_extension": ".py",
   "mimetype": "text/x-python",
   "name": "python",
   "nbconvert_exporter": "python",
   "pygments_lexer": "ipython3",
   "version": "3.10.12"
  }
 },
 "nbformat": 4,
 "nbformat_minor": 5
}
