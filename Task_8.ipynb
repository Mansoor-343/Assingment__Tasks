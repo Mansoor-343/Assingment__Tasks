{
 "cells": [
  {
   "cell_type": "markdown",
   "id": "bbba1dc0",
   "metadata": {},
   "source": [
    "Task 1: Basic If-Else Statements Write a Python program that takes an integer as input from the user and prints whether it is multiple of 3 or not using if-else statements.\n",
    "\n",
    "Task 2: Nested If Statements Create a program that asks the user for their age and nationality. Depending on their age and nationality, display a different message using nested if statements. For example, if they are under 18 and from the USA, display \"You are a minor from the USA.\"\n",
    "\n",
    "Task 3: Grade Calculator Write a program that takes a student's score as input and converts it to a letter grade (A, B, C, D, or F) using if-elif-else statements. Use the following grading scale:\n",
    "\n",
    "A: 90-100\n",
    "B: 80-89\n",
    "C: 70-79\n",
    "D: 60-69\n",
    "F: Below 60\n",
    "\n",
    "Task 4: Leap Year Checker Create a Python program that checks if a given year is a leap year or not. Use conditional statements to determine whether the year is divisible by 4, 100, and 400 to decide if it's a leap year.\n",
    "\n",
    "Task 5: BMI Calculator Write a program that calculates a person's Body Mass Index (BMI) based on their height and weight. Then, use conditional statements to categorize the BMI as Underweight, Normal, Overweight, or Obese. Provide guidance on the healthy range for BMI.(use BMI Formula)\n",
    "\n",
    "Task 6: Calculator with Menu Build a simple calculator program that provides a menu with options for addition, subtraction, multiplication, and division. Take user input for two numbersand an operation choice. Use conditional statements to perform the selected operation and display the result.\n",
    "\n",
    "Task 7: Temperature Converter Write a program that converts temperatures between Celsius and Fahrenheit. Allow the user to choose the conversion direction and input the temperature value. Use conditional statements to perform the conversion based on the user's choice.(Do with conversion formula)"
   ]
  },
  {
   "cell_type": "markdown",
   "id": "f064c87b",
   "metadata": {},
   "source": [
    "Task 1: Basic If-Else Statements Write a Python program that takes an integer as input from the user and prints whether it is multiple of 3 or not using if-else statements."
   ]
  },
  {
   "cell_type": "code",
   "execution_count": 2,
   "id": "7c5a73d1",
   "metadata": {},
   "outputs": [
    {
     "name": "stdout",
     "output_type": "stream",
     "text": [
      "Enter a integer::27\n",
      "its a multiple of 3\n"
     ]
    }
   ],
   "source": [
    "number = int(input(\"Enter a integer::\"))\n",
    "if (number%3==0):\n",
    "    print(\"its a multiple of 3\")\n",
    "else:\n",
    "    print(\"its not a nultiple of 3\")"
   ]
  },
  {
   "cell_type": "markdown",
   "id": "898f3bcb",
   "metadata": {},
   "source": [
    "Task 2: Nested If Statements Create a program that asks the user for their age and nationality. Depending on their age and nationality, display a different message using nested if statements. For example, if they are under 18 and from the USA, display \"You are a minor from the USA.\""
   ]
  },
  {
   "cell_type": "code",
   "execution_count": 6,
   "id": "b8c102ae",
   "metadata": {},
   "outputs": [
    {
     "name": "stdout",
     "output_type": "stream",
     "text": [
      "enter a age:: 17 \n",
      "enter a nationalityUSA\n",
      "you are a minor from the USA\n"
     ]
    }
   ],
   "source": [
    "age = int(input(\"enter a age:: \"))\n",
    "if age<=18:\n",
    "    nationality = input(\"enter a nationality\")\n",
    "    print(\"you are a minor from the\",nationality)\n",
    "else:\n",
    "    nationality = input(\"enter a nationality\")\n",
    "    print(\"you are a major from the\",nationality)"
   ]
  },
  {
   "cell_type": "markdown",
   "id": "c03b9d7f",
   "metadata": {},
   "source": [
    "Task 3: Grade Calculator Write a program that takes a student's score as input and converts it to a letter grade (A, B, C, D, or F) using if-elif-else statements. Use the following grading scale:\n",
    "\n",
    "A: 90-100\n",
    "B: 80-89\n",
    "C: 70-79\n",
    "D: 60-69\n",
    "F: Below 60"
   ]
  },
  {
   "cell_type": "code",
   "execution_count": 9,
   "id": "ec753d51",
   "metadata": {},
   "outputs": [
    {
     "name": "stdout",
     "output_type": "stream",
     "text": [
      "enter a marks::67\n",
      "D\n"
     ]
    }
   ],
   "source": [
    "marks = int(input(\"enter a marks::\"))\n",
    "if (marks >= 90) and (marks <= 100):\n",
    "    print(\"A\")\n",
    "elif (marks >= 80) and (marks <89):\n",
    "    print(\"B\")\n",
    "elif (marks >= 70) and (marks < 79):\n",
    "    print(\"C\")\n",
    "elif (marks >= 60) and (marks < 69):\n",
    "    print(\"D\")\n",
    "elif (marks<0) or (marks>100):\n",
    "    print(\"enter a valid marks \")\n",
    "else:\n",
    "    print(\"F\")\n"
   ]
  },
  {
   "cell_type": "markdown",
   "id": "837cb9e5",
   "metadata": {},
   "source": [
    "Task 4: Leap Year Checker Create a Python program that checks if a given year is a leap year or not. Use conditional statements to determine whether the year is divisible by 4, 100, and 400 to decide if it's a leap year."
   ]
  },
  {
   "cell_type": "code",
   "execution_count": 13,
   "id": "1e03349c",
   "metadata": {},
   "outputs": [
    {
     "name": "stdout",
     "output_type": "stream",
     "text": [
      "Enter a year:: 4\n",
      "its a leap year\n"
     ]
    }
   ],
   "source": [
    "year = int(input(\"Enter a year:: \"))\n",
    "if (year%4==0) and (year%100!=0):\n",
    "    print(\"its a leap year\")\n",
    "elif (year%400==0) and (year%100==0):\n",
    "    print(\"its a leap year\")\n",
    "else:\n",
    "    print(\"its not a leap year\")"
   ]
  },
  {
   "cell_type": "markdown",
   "id": "6738e3d1",
   "metadata": {},
   "source": [
    "Task 5: BMI Calculator Write a program that calculates a person's Body Mass Index (BMI) based on their height and weight. Then, use conditional statements to categorize the BMI as Underweight, Normal, Overweight, or Obese. Provide guidance on the healthy range for BMI.(use BMI Formula)\n"
   ]
  },
  {
   "cell_type": "code",
   "execution_count": 1,
   "id": "2b29135e",
   "metadata": {},
   "outputs": [
    {
     "name": "stdout",
     "output_type": "stream",
     "text": [
      "enter a weight::100\n",
      "enter a height::1.3\n",
      "Obese\n"
     ]
    }
   ],
   "source": [
    "weight = float(input(\"enter a weight::\"))\n",
    "height = float(input(\"enter a height::\"))\n",
    "BMI = weight/height**2 # weightsin kgs and height in meters\n",
    "if BMI < 18.5:\n",
    "    print(\"Under weight\")\n",
    "elif (BMI>=18.5) and (BMI<=24.9):\n",
    "    print(\"Normal weight\")\n",
    "elif (BMI>=25) and (BMI<24.9):\n",
    "    print(\"Over weight\")\n",
    "else:\n",
    "    print(\"Obese\")"
   ]
  },
  {
   "cell_type": "markdown",
   "id": "32e1ef6b",
   "metadata": {},
   "source": [
    "Task 6: Calculator with Menu Build a simple calculator program that provides a menu with options for addition, subtraction, multiplication, and division. Take user input for two numbersand an operation choice. Use conditional statements to perform the selected operation and display the result."
   ]
  },
  {
   "cell_type": "code",
   "execution_count": 6,
   "id": "c1e9d0dc",
   "metadata": {},
   "outputs": [
    {
     "name": "stdout",
     "output_type": "stream",
     "text": [
      "enter a number::340\n",
      "enter a number::100\n",
      "Enter a operator::+\n",
      "Addition of two numbers is  440.0\n"
     ]
    }
   ],
   "source": [
    "num1 = float(input(\"enter a number::\"))\n",
    "num2 = float(input(\"enter a number::\"))\n",
    "operation = input(\"Enter a operator::\")\n",
    "if operation  == \"+\":\n",
    "    add = num1+num2\n",
    "    print(\"Addition of two numbers is \",add)\n",
    "elif operation == \"-\":\n",
    "    sub = num1 - num2\n",
    "    print(\"subtraction of two numbers is \",sub)\n",
    "elif operation == \"*\":\n",
    "    mul = num1*num2\n",
    "    print(\"multiplication of two numbers is \",mul)\n",
    "elif operation == \"/\":\n",
    "    div = num1/num2\n",
    "    print(\"division of two numbers is \",div)\n",
    "else:\n",
    "    print(\"enter a valid operator\")"
   ]
  },
  {
   "cell_type": "markdown",
   "id": "e5b52ef7",
   "metadata": {},
   "source": [
    "Task 7: Temperature Converter Write a program that converts temperatures between Celsius and Fahrenheit. Allow the user to choose the conversion direction and input the temperature value. Use conditional statements to perform the conversion based on the user's choice.(Do with conversion formula)"
   ]
  },
  {
   "cell_type": "code",
   "execution_count": 8,
   "id": "55b91c5b",
   "metadata": {},
   "outputs": [
    {
     "name": "stdout",
     "output_type": "stream",
     "text": [
      "Enter a temperature:: 34\n",
      "Enter a conversionFahrenheit\n",
      "Fahrenheit 93.2\n"
     ]
    }
   ],
   "source": [
    "temp = float(input(\"Enter a temperature:: \"))\n",
    "conversion = input(\"Enter a conversion\")\n",
    "if conversion == \"Celsius\":\n",
    "    Celsius = (temp-32)/1.8\n",
    "    print(\"Celsius\",Celsius)\n",
    "elif conversion == \"Fahrenheit\":\n",
    "    fahrenheit = temp * 1.8 + 32\n",
    "    print(\"Fahrenheit\",fahrenheit)\n",
    "else: \n",
    "    print(\"Enter a valid conversion\")"
   ]
  },
  {
   "cell_type": "code",
   "execution_count": null,
   "id": "73f9b9a4",
   "metadata": {},
   "outputs": [],
   "source": []
  }
 ],
 "metadata": {
  "kernelspec": {
   "display_name": "Python 3 (ipykernel)",
   "language": "python",
   "name": "python3"
  },
  "language_info": {
   "codemirror_mode": {
    "name": "ipython",
    "version": 3
   },
   "file_extension": ".py",
   "mimetype": "text/x-python",
   "name": "python",
   "nbconvert_exporter": "python",
   "pygments_lexer": "ipython3",
   "version": "3.10.12"
  }
 },
 "nbformat": 4,
 "nbformat_minor": 5
}
