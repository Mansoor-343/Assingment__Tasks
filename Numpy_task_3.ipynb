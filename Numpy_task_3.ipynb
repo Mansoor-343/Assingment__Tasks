{
 "cells": [
  {
   "cell_type": "markdown",
   "id": "55170a88",
   "metadata": {},
   "source": [
    "Data Cleaning using numpy\n",
    "The following are the student marks of a class [44,24,np.nan,59,32,96,188,52,62,58,52,120,np.nan,np.nan,3,56,81,59,,122,92,np.nan,87,96,97,1,19,2,53, 44]\n",
    "\n",
    "Find the no of outliers and missing values?\n",
    "replace the outliers with 45 and missing value with 87.\n",
    "what is the average marks of students after 2nd step?\n",
    "How many students got less than 60 marks?\n",
    "what is the maximum marks?\n",
    "Convert the marks to float32.\n",
    "Solving Linear Equations\n",
    "2x + 3y - z = 10\n",
    "\n",
    "x - y + 2z = 5\n",
    "\n",
    "3x + 2y + z = 12\n",
    "\n",
    "2x + y - z + 3w = 8\n",
    "\n",
    "3x - 2y + 2z + 2w = 1\n",
    "\n",
    "x + 3y - 2z + w = 7\n",
    "\n",
    "4x - y + z - 2w = 3\n",
    "\n",
    "4x + 2y - 3z = 10\n",
    "\n",
    "-2x + 3y + z = -3\n",
    "\n",
    "x - y + 2z = 4\n",
    "\n",
    "Solve the system of equations using NumPy's linalg.solve function.\n",
    "\n",
    "Conditional Selection with np.where()\n",
    "Generate a random 1D array A of 10 integers between 1 and 100.\n",
    "\n",
    "Use np.where() to find the indices where the elements of A are greater than 50.\n",
    "\n",
    "Create a new array B that contains elements from A where the condition is met.\n",
    "\n",
    "Calculate the mean of array B and print it along with arrays A and B.\n",
    "\n",
    "Replace Values with np.where()\n",
    "Create a 4x4 random integer matrix C with values between -10 and 10.\n",
    "\n",
    "Use np.where() to replace all negative values in matrix C with 0.\n",
    "\n",
    "Print the original matrix C and the modified matrix."
   ]
  },
  {
   "cell_type": "code",
   "execution_count": null,
   "id": "46cc505e",
   "metadata": {},
   "outputs": [],
   "source": []
  },
  {
   "cell_type": "markdown",
   "id": "3e639a12",
   "metadata": {},
   "source": [
    "Data Cleaning using numpy The following are the student marks of a class [44,24,np.nan,59,32,96,188,52,62,58,52,120,np.nan,np.nan,3,56,81,59,,122,92,np.nan,87,96,97,1,19,2,53, 44]\n",
    "\n",
    "Find the no of outliers and missing values? replace the outliers with 45 and missing value with 87. what is the average marks of students after 2nd step? How many students got less than 60 marks? what is the maximum marks? Convert the marks to float32."
   ]
  },
  {
   "cell_type": "code",
   "execution_count": 1,
   "id": "27417b8c",
   "metadata": {},
   "outputs": [],
   "source": [
    "import numpy as np"
   ]
  },
  {
   "cell_type": "code",
   "execution_count": 2,
   "id": "5a2337c3",
   "metadata": {},
   "outputs": [
    {
     "data": {
      "text/plain": [
       "array([ 44.,  24.,  nan,  59.,  32.,  96., 188.,  52.,  62.,  58.,  52.,\n",
       "       120.,  nan,  nan,   3.,  56.,  81.,  59., 122.,  92.,  nan,  87.,\n",
       "        96.,  97.,   1.,  19.,   2.,  53.,  44.])"
      ]
     },
     "execution_count": 2,
     "metadata": {},
     "output_type": "execute_result"
    }
   ],
   "source": [
    "marks = np.array([44,24,np.nan,59,32,96,188,52,62,58,52,120,np.nan,np.nan,3,56,81,59,122,92,np.nan,87,96,97,1,19,2,53, 44])\n",
    "marks"
   ]
  },
  {
   "cell_type": "code",
   "execution_count": 4,
   "id": "6675f5ea",
   "metadata": {},
   "outputs": [
    {
     "data": {
      "text/plain": [
       "array([False, False,  True, False, False, False, False, False, False,\n",
       "       False, False, False,  True,  True, False, False, False, False,\n",
       "       False, False,  True, False, False, False, False, False, False,\n",
       "       False, False])"
      ]
     },
     "execution_count": 4,
     "metadata": {},
     "output_type": "execute_result"
    }
   ],
   "source": [
    "a =  np.isnan(marks)\n",
    "a"
   ]
  },
  {
   "cell_type": "code",
   "execution_count": 5,
   "id": "2ad24e22",
   "metadata": {},
   "outputs": [
    {
     "data": {
      "text/plain": [
       "4"
      ]
     },
     "execution_count": 5,
     "metadata": {},
     "output_type": "execute_result"
    }
   ],
   "source": [
    "missing_values = np.sum(a)\n",
    "missing_values"
   ]
  },
  {
   "cell_type": "code",
   "execution_count": 8,
   "id": "980f7c66",
   "metadata": {},
   "outputs": [
    {
     "data": {
      "text/plain": [
       "3"
      ]
     },
     "execution_count": 8,
     "metadata": {},
     "output_type": "execute_result"
    }
   ],
   "source": [
    "outliers = (marks[(marks > 100) | (marks < 0)])\n",
    "len(outliers) # no.of outliers"
   ]
  },
  {
   "cell_type": "code",
   "execution_count": 9,
   "id": "4457a53a",
   "metadata": {},
   "outputs": [
    {
     "data": {
      "text/plain": [
       "array([188., 120., 122.])"
      ]
     },
     "execution_count": 9,
     "metadata": {},
     "output_type": "execute_result"
    }
   ],
   "source": [
    "outliers"
   ]
  },
  {
   "cell_type": "code",
   "execution_count": 10,
   "id": "3b310561",
   "metadata": {},
   "outputs": [
    {
     "data": {
      "text/plain": [
       "array([ 44.,  24.,  87.,  59.,  32.,  96., 188.,  52.,  62.,  58.,  52.,\n",
       "       120.,  87.,  87.,   3.,  56.,  81.,  59., 122.,  92.,  87.,  87.,\n",
       "        96.,  97.,   1.,  19.,   2.,  53.,  44.])"
      ]
     },
     "execution_count": 10,
     "metadata": {},
     "output_type": "execute_result"
    }
   ],
   "source": [
    "marks_1 = np.where(np.isnan(marks),87,marks)\n",
    "marks_1"
   ]
  },
  {
   "cell_type": "code",
   "execution_count": 21,
   "id": "58ce4270",
   "metadata": {},
   "outputs": [
    {
     "data": {
      "text/plain": [
       "array([44., 24., 87., 59., 32., 96., 45., 52., 62., 58., 52., 45., 87.,\n",
       "       87.,  3., 56., 81., 59., 45., 92., 87., 87., 96., 97.,  1., 19.,\n",
       "        2., 53., 44.])"
      ]
     },
     "execution_count": 21,
     "metadata": {},
     "output_type": "execute_result"
    }
   ],
   "source": [
    "marks_2= np.where((marks_1 > 100) | (marks_1 < 0),45,marks_1)\n",
    "marks_2"
   ]
  },
  {
   "cell_type": "code",
   "execution_count": 13,
   "id": "807b825a",
   "metadata": {},
   "outputs": [
    {
     "data": {
      "text/plain": [
       "56.96551724137931"
      ]
     },
     "execution_count": 13,
     "metadata": {},
     "output_type": "execute_result"
    }
   ],
   "source": [
    "np.mean(marks_2)  # avg"
   ]
  },
  {
   "cell_type": "code",
   "execution_count": 14,
   "id": "2e323780",
   "metadata": {},
   "outputs": [
    {
     "data": {
      "text/plain": [
       "97.0"
      ]
     },
     "execution_count": 14,
     "metadata": {},
     "output_type": "execute_result"
    }
   ],
   "source": [
    "max(marks_2)  # maximum marks"
   ]
  },
  {
   "cell_type": "code",
   "execution_count": 16,
   "id": "113b4c6c",
   "metadata": {},
   "outputs": [
    {
     "data": {
      "text/plain": [
       "18"
      ]
     },
     "execution_count": 16,
     "metadata": {},
     "output_type": "execute_result"
    }
   ],
   "source": [
    "np.sum(marks_2 < 60)    #  students got less than 60 marks"
   ]
  },
  {
   "cell_type": "code",
   "execution_count": 22,
   "id": "25bedf0e",
   "metadata": {},
   "outputs": [
    {
     "data": {
      "text/plain": [
       "array([44., 24., 87., 59., 32., 96., 45., 52., 62., 58., 52., 45., 87.,\n",
       "       87.,  3., 56., 81., 59., 45., 92., 87., 87., 96., 97.,  1., 19.,\n",
       "        2., 53., 44.], dtype=float32)"
      ]
     },
     "execution_count": 22,
     "metadata": {},
     "output_type": "execute_result"
    }
   ],
   "source": [
    "np.array(marks_2.astype('float32'))  # Convert the marks to float32."
   ]
  },
  {
   "cell_type": "code",
   "execution_count": null,
   "id": "311314fc",
   "metadata": {},
   "outputs": [],
   "source": []
  },
  {
   "cell_type": "markdown",
   "id": "2909ab99",
   "metadata": {},
   "source": [
    "Solving Linear Equations\n",
    "\n",
    "2x + 3y - z = 10\n",
    "\n",
    "x - y + 2z = 5\n",
    "\n",
    "3x + 2y + z = 12\n",
    "\n",
    "2x + y - z + 3w = 8\n",
    "\n",
    "3x - 2y + 2z + 2w = 1\n",
    "\n",
    "x + 3y - 2z + w = 7\n",
    "\n",
    "4x - y + z - 2w = 3\n",
    "\n",
    "4x + 2y - 3z = 10\n",
    "\n",
    "-2x + 3y + z = -3\n",
    "\n",
    "x - y + 2z = 4\n",
    "\n",
    "Solve the system of equations using NumPy's linalg.solve function."
   ]
  },
  {
   "cell_type": "markdown",
   "id": "a88dba36",
   "metadata": {},
   "source": [
    "1.2x + 3y - z = 10\n",
    "\n",
    "x - y + 2z = 5\n",
    "\n",
    "3x + 2y + z = 12"
   ]
  },
  {
   "cell_type": "code",
   "execution_count": 23,
   "id": "bdd06b34",
   "metadata": {},
   "outputs": [],
   "source": [
    "s1 = np.array([[2,3,-1],[1,-1,2],[3,2,1]])"
   ]
  },
  {
   "cell_type": "code",
   "execution_count": 24,
   "id": "c0726b85",
   "metadata": {},
   "outputs": [],
   "source": [
    "a = np.array([10,5,12])"
   ]
  },
  {
   "cell_type": "code",
   "execution_count": 25,
   "id": "7d67163b",
   "metadata": {},
   "outputs": [
    {
     "data": {
      "text/plain": [
       "array([-6.75539944e+15,  6.75539944e+15,  6.75539944e+15])"
      ]
     },
     "execution_count": 25,
     "metadata": {},
     "output_type": "execute_result"
    }
   ],
   "source": [
    "np.linalg.solve(s1,a)"
   ]
  },
  {
   "cell_type": "code",
   "execution_count": null,
   "id": "d4bf5c1a",
   "metadata": {},
   "outputs": [],
   "source": []
  },
  {
   "cell_type": "markdown",
   "id": "3213b7d5",
   "metadata": {},
   "source": [
    "2.\n",
    "2x + y - z + 3w = 8\n",
    "\n",
    "3x - 2y + 2z + 2w = 1\n",
    "\n",
    "x + 3y - 2z + w = 7\n",
    "\n",
    "4x - y + z - 2w = 3"
   ]
  },
  {
   "cell_type": "code",
   "execution_count": 26,
   "id": "a1d53503",
   "metadata": {},
   "outputs": [],
   "source": [
    "s2 = np.array([[2,1,-1,3],[3,-2,2,2],[1,3,-2,1],[4,-1,1,-2]])"
   ]
  },
  {
   "cell_type": "code",
   "execution_count": 27,
   "id": "5af43f81",
   "metadata": {},
   "outputs": [],
   "source": [
    "b = np.array([8,1,7,3])"
   ]
  },
  {
   "cell_type": "code",
   "execution_count": 28,
   "id": "bf72262f",
   "metadata": {},
   "outputs": [
    {
     "data": {
      "text/plain": [
       "array([ 1.73170732, -0.75609756, -3.46341463,  0.6097561 ])"
      ]
     },
     "execution_count": 28,
     "metadata": {},
     "output_type": "execute_result"
    }
   ],
   "source": [
    "np.linalg.solve(s2,b)"
   ]
  },
  {
   "cell_type": "markdown",
   "id": "4add4798",
   "metadata": {},
   "source": [
    "3.\n",
    "\n",
    "4x + 2y - 3z = 10\n",
    "\n",
    "-2x + 3y + z = -3\n",
    "\n",
    "x - y + 2z = 4"
   ]
  },
  {
   "cell_type": "code",
   "execution_count": 29,
   "id": "add659a6",
   "metadata": {},
   "outputs": [],
   "source": [
    "s3 = np.array([[4,2,-3],[-2,3,1],[1,-1,2]])"
   ]
  },
  {
   "cell_type": "code",
   "execution_count": 30,
   "id": "ea02d88f",
   "metadata": {},
   "outputs": [],
   "source": [
    "c = np.array([10,-3,4])"
   ]
  },
  {
   "cell_type": "code",
   "execution_count": 31,
   "id": "68977b04",
   "metadata": {},
   "outputs": [
    {
     "data": {
      "text/plain": [
       "array([2.85365854, 0.6097561 , 0.87804878])"
      ]
     },
     "execution_count": 31,
     "metadata": {},
     "output_type": "execute_result"
    }
   ],
   "source": [
    "np.linalg.solve(s3,c)"
   ]
  },
  {
   "cell_type": "code",
   "execution_count": null,
   "id": "87323621",
   "metadata": {},
   "outputs": [],
   "source": []
  },
  {
   "cell_type": "markdown",
   "id": "bafc847c",
   "metadata": {},
   "source": [
    "Conditional Selection with np.where() Generate a random 1D array A of 10 integers between 1 and 100.\n",
    "\n",
    "Use np.where() to find the indices where the elements of A are greater than 50.\n",
    "\n",
    "Create a new array B that contains elements from A where the condition is met.\n",
    "\n",
    "Calculate the mean of array B and print it along with arrays A and B."
   ]
  },
  {
   "cell_type": "code",
   "execution_count": 35,
   "id": "ffaf65d7",
   "metadata": {},
   "outputs": [],
   "source": [
    "a = np.arange(1,100,10)"
   ]
  },
  {
   "cell_type": "code",
   "execution_count": 36,
   "id": "f9b8222d",
   "metadata": {},
   "outputs": [
    {
     "data": {
      "text/plain": [
       "array([ 1, 11, 21, 31, 41, 51, 61, 71, 81, 91])"
      ]
     },
     "execution_count": 36,
     "metadata": {},
     "output_type": "execute_result"
    }
   ],
   "source": [
    "a"
   ]
  },
  {
   "cell_type": "code",
   "execution_count": 37,
   "id": "19d17131",
   "metadata": {},
   "outputs": [
    {
     "data": {
      "text/plain": [
       "(array([5, 6, 7, 8, 9], dtype=int64),)"
      ]
     },
     "execution_count": 37,
     "metadata": {},
     "output_type": "execute_result"
    }
   ],
   "source": [
    "b = np.where((a>50))  # Use np.where() to find the indices where the elements of A are greater than 50.\n",
    "b"
   ]
  },
  {
   "cell_type": "code",
   "execution_count": 39,
   "id": "dda483c4",
   "metadata": {},
   "outputs": [
    {
     "data": {
      "text/plain": [
       "array([51, 61, 71, 81, 91])"
      ]
     },
     "execution_count": 39,
     "metadata": {},
     "output_type": "execute_result"
    }
   ],
   "source": [
    "B = np.array(a[a>50])  #Create a new array B that contains elements from A where the condition is met.\n",
    "B"
   ]
  },
  {
   "cell_type": "code",
   "execution_count": 40,
   "id": "cf8a44bd",
   "metadata": {},
   "outputs": [
    {
     "data": {
      "text/plain": [
       "46.0"
      ]
     },
     "execution_count": 40,
     "metadata": {},
     "output_type": "execute_result"
    }
   ],
   "source": [
    "np.mean(a)"
   ]
  },
  {
   "cell_type": "code",
   "execution_count": 41,
   "id": "f6b0f086",
   "metadata": {},
   "outputs": [
    {
     "data": {
      "text/plain": [
       "71.0"
      ]
     },
     "execution_count": 41,
     "metadata": {},
     "output_type": "execute_result"
    }
   ],
   "source": [
    "np.mean(B)"
   ]
  },
  {
   "cell_type": "code",
   "execution_count": null,
   "id": "14d2c8ca",
   "metadata": {},
   "outputs": [],
   "source": []
  },
  {
   "cell_type": "markdown",
   "id": "3c07162c",
   "metadata": {},
   "source": [
    "Replace Values with np.where() Create a 4x4 random integer matrix C with values between -10 and 10.\n",
    "\n",
    "Use np.where() to replace all negative values in matrix C with 0.\n",
    "\n",
    "Print the original matrix C and the modified matrix."
   ]
  },
  {
   "cell_type": "code",
   "execution_count": 42,
   "id": "957fcd6a",
   "metadata": {},
   "outputs": [
    {
     "data": {
      "text/plain": [
       "array([[-6, -2,  9, -5],\n",
       "       [-4, -7,  2, -1],\n",
       "       [ 4, -4, -6,  2],\n",
       "       [ 5, -2, -6, -9]])"
      ]
     },
     "execution_count": 42,
     "metadata": {},
     "output_type": "execute_result"
    }
   ],
   "source": [
    "matrix_c = np.random.randint(-10,10,16).reshape(4,4)\n",
    "matrix_c"
   ]
  },
  {
   "cell_type": "code",
   "execution_count": 43,
   "id": "545ba9a0",
   "metadata": {},
   "outputs": [],
   "source": [
    "neg = np.where(matrix_c<0,0,matrix_c)"
   ]
  },
  {
   "cell_type": "code",
   "execution_count": 44,
   "id": "688cf901",
   "metadata": {},
   "outputs": [
    {
     "data": {
      "text/plain": [
       "array([[0, 0, 9, 0],\n",
       "       [0, 0, 2, 0],\n",
       "       [4, 0, 0, 2],\n",
       "       [5, 0, 0, 0]])"
      ]
     },
     "execution_count": 44,
     "metadata": {},
     "output_type": "execute_result"
    }
   ],
   "source": [
    "neg"
   ]
  },
  {
   "cell_type": "code",
   "execution_count": 45,
   "id": "a8e94b4f",
   "metadata": {},
   "outputs": [
    {
     "data": {
      "text/plain": [
       "array([[-6, -2,  9, -5],\n",
       "       [-4, -7,  2, -1],\n",
       "       [ 4, -4, -6,  2],\n",
       "       [ 5, -2, -6, -9]])"
      ]
     },
     "execution_count": 45,
     "metadata": {},
     "output_type": "execute_result"
    }
   ],
   "source": [
    "matrix_c"
   ]
  },
  {
   "cell_type": "code",
   "execution_count": 46,
   "id": "0cba4617",
   "metadata": {},
   "outputs": [
    {
     "data": {
      "text/plain": [
       "array([[0, 0, 9, 0],\n",
       "       [0, 0, 2, 0],\n",
       "       [4, 0, 0, 2],\n",
       "       [5, 0, 0, 0]])"
      ]
     },
     "execution_count": 46,
     "metadata": {},
     "output_type": "execute_result"
    }
   ],
   "source": [
    "neg"
   ]
  },
  {
   "cell_type": "code",
   "execution_count": null,
   "id": "044bb331",
   "metadata": {},
   "outputs": [],
   "source": []
  }
 ],
 "metadata": {
  "kernelspec": {
   "display_name": "Python 3 (ipykernel)",
   "language": "python",
   "name": "python3"
  },
  "language_info": {
   "codemirror_mode": {
    "name": "ipython",
    "version": 3
   },
   "file_extension": ".py",
   "mimetype": "text/x-python",
   "name": "python",
   "nbconvert_exporter": "python",
   "pygments_lexer": "ipython3",
   "version": "3.10.12"
  }
 },
 "nbformat": 4,
 "nbformat_minor": 5
}
