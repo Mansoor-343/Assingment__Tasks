{
 "cells": [
  {
   "cell_type": "markdown",
   "id": "d2045b28",
   "metadata": {},
   "source": [
    "Assignment Tasks on String Escape Characters, Indexing, and Slicing:\n",
    "\n",
    "String Escape Characters:\n",
    "\n",
    "Task 1:\n",
    "\n",
    "Create a string containing a sentence that includes both single and double quotes.\n",
    "\n",
    "Use escape characters to include quotes within the string.\n",
    "\n",
    "Print the modified string.\n",
    "\n",
    "Task 2:\n",
    "\n",
    "Declare a string with a backslash \\ character in it.\n",
    "\n",
    "Demonstrate the use of the escape character to print the backslash itself.\n",
    "\n",
    "Print the resulting string.\n",
    "\n",
    "Task 3:\n",
    "\n",
    "Construct a string containing newline and tab escape sequences.\n",
    "\n",
    "Print the string to display the formatted output.\n",
    "\n",
    "Indexing and Slicing:\n",
    "\n",
    "Task 4:\n",
    "\n",
    "sentence = \"I want to become Data Scientist\".\n",
    "\n",
    "Access and print the first character of the string using indexing.\n",
    "\n",
    "Access and print the last character of the string using negative indexing.\n",
    "\n",
    "Task 5:\n",
    "\n",
    "What are possible ways yo extract Scientist(use forward and reverse)\n",
    "\n",
    "Use slicing to extract and print the first word from the string.\n",
    "\n",
    "Use slicing to extract and print the last three characters of the string.\n",
    "\n",
    "Task 6:\n",
    "\n",
    "name = \"Innomatics Reserach Labs\"\n",
    "\n",
    "Apply slicing to extract a substring that includes the second to fifth characters.\n",
    "\n",
    "Print the extracted substring.\n",
    "\n",
    "Task 7:\n",
    "\n",
    "string = \"Python@1234\"\n",
    "\n",
    "Use slicing to extract every second character from the string.\n",
    "\n",
    "Print the resulting sliced string.\n",
    "\n",
    "Task 8:\n",
    "\n",
    "print last five letters.\n",
    "\n",
    "Utilize slicing to reverse the word order in the string.\n",
    "\n",
    "Print the string with the words in the reversed order.\n",
    "\n",
    "Task 9:\n",
    "\n",
    "a = \"123123123\"\n",
    "\n",
    "Apply slicing to extract only the numeric characters at odd positions.\n",
    "\n",
    "Print the sliced result.\n",
    "\n",
    "Remember to include explanations or comments for each task's code to ensure clarity. Additionally, encourage students to experiment further with different escape characters and slicing techniques beyond the provided tasks to deepen their understanding.\n",
    "\n",
    " "
   ]
  },
  {
   "cell_type": "markdown",
   "id": "45409174",
   "metadata": {},
   "source": [
    "Task 1:\n",
    "\n",
    "1)Create a string containing a sentence that includes both single and double quotes.\n",
    "\n",
    "2)Use escape characters to include quotes within the string.\n",
    "\n",
    "3)Print the modified string."
   ]
  },
  {
   "cell_type": "markdown",
   "id": "e15b1dd4",
   "metadata": {},
   "source": [
    "These can be done in this twp ways "
   ]
  },
  {
   "cell_type": "code",
   "execution_count": 3,
   "id": "3011ebb1",
   "metadata": {},
   "outputs": [
    {
     "name": "stdout",
     "output_type": "stream",
     "text": [
      "mansoor's plane\n"
     ]
    },
    {
     "data": {
      "text/plain": [
       "\"mansoor's plane\""
      ]
     },
     "execution_count": 3,
     "metadata": {},
     "output_type": "execute_result"
    }
   ],
   "source": [
    "#Task -1\n",
    "string = \"mansoor's plane\"  # here for single quote in string that why  i use double quote to string\n",
    "print(string)\n",
    "string"
   ]
  },
  {
   "cell_type": "code",
   "execution_count": 5,
   "id": "4911f13d",
   "metadata": {},
   "outputs": [
    {
     "name": "stdout",
     "output_type": "stream",
     "text": [
      "mansoor has \"Plane\" \n"
     ]
    },
    {
     "data": {
      "text/plain": [
       "'mansoor has \"Plane\" '"
      ]
     },
     "execution_count": 5,
     "metadata": {},
     "output_type": "execute_result"
    }
   ],
   "source": [
    "string = 'mansoor has \"Plane\" '  # here for double quote in string that why i use double quote to string\n",
    "\n",
    "print(string)\n",
    "string"
   ]
  },
  {
   "cell_type": "code",
   "execution_count": 73,
   "id": "47238e31",
   "metadata": {},
   "outputs": [
    {
     "name": "stdout",
     "output_type": "stream",
     "text": [
      "mansoor's plane\n"
     ]
    }
   ],
   "source": [
    "string = 'mansoor\\'s plane' # if we want use single quote in single quote string then we use slash(\\) before the quote.\n",
    "print(string)"
   ]
  },
  {
   "cell_type": "code",
   "execution_count": 10,
   "id": "44942be3",
   "metadata": {},
   "outputs": [
    {
     "data": {
      "text/plain": [
       "'mansoor has \"Plane\" '"
      ]
     },
     "execution_count": 10,
     "metadata": {},
     "output_type": "execute_result"
    }
   ],
   "source": [
    "string = \"mansoor has \\\"Plane\\\" \" # if we want use double quote in double quote string then we use slash(\\) before the quotes.\n",
    "string"
   ]
  },
  {
   "cell_type": "markdown",
   "id": "5d50ce18",
   "metadata": {},
   "source": [
    "Task 2:\n",
    "\n",
    "Declare a string with a backslash \\ character in it.\n",
    "\n",
    "Demonstrate the use of the escape character to print the backslash itself.\n",
    "\n",
    "Print the resulting string."
   ]
  },
  {
   "cell_type": "code",
   "execution_count": 11,
   "id": "bae9d31c",
   "metadata": {},
   "outputs": [
    {
     "name": "stdout",
     "output_type": "stream",
     "text": [
      "hello \bworld\n"
     ]
    }
   ],
   "source": [
    "# Task-2\n",
    "string = \"hello \\bworld\" # by using \\b we can backspace one character \n",
    "print(string)"
   ]
  },
  {
   "cell_type": "code",
   "execution_count": 15,
   "id": "a7946f63",
   "metadata": {},
   "outputs": [
    {
     "name": "stdout",
     "output_type": "stream",
     "text": [
      "hello\\bob\n"
     ]
    }
   ],
   "source": [
    "string = \"hello\\\\bob\"   # if we need backslash in string we need to give extra slash(\\) to the slash.\n",
    "print(string)"
   ]
  },
  {
   "cell_type": "code",
   "execution_count": 16,
   "id": "725b0110",
   "metadata": {},
   "outputs": [
    {
     "name": "stdout",
     "output_type": "stream",
     "text": [
      "hello\\bob\n"
     ]
    }
   ],
   "source": [
    "print(string)"
   ]
  },
  {
   "cell_type": "markdown",
   "id": "7a28d460",
   "metadata": {},
   "source": [
    "Task 3:\n",
    "\n",
    "Construct a string containing newline and tab escape sequences.\n",
    "\n",
    "Print the string to display the formatted output.\n",
    "\n",
    "Indexing and Slicing:"
   ]
  },
  {
   "cell_type": "code",
   "execution_count": 19,
   "id": "260cb2e2",
   "metadata": {},
   "outputs": [
    {
     "name": "stdout",
     "output_type": "stream",
     "text": [
      " i am mansoor ahammed  and \n",
      " i am from hyderabad\n"
     ]
    }
   ],
   "source": [
    "# Task - 3\n",
    "string = \" i am mansoor ahammed  and \\n i am from hyderabad\"  # if we need to the string to the new line we use (\\n)\n",
    "print(string)"
   ]
  },
  {
   "cell_type": "code",
   "execution_count": 20,
   "id": "e7d0d631",
   "metadata": {},
   "outputs": [
    {
     "name": "stdout",
     "output_type": "stream",
     "text": [
      "sum of numbers \\no.of numbers \n"
     ]
    }
   ],
   "source": [
    "average = \"sum of numbers \\\\no.of numbers \"  # if we need backslash in string we need to give extra slash(\\) to the slash.\n",
    "print(average)"
   ]
  },
  {
   "cell_type": "markdown",
   "id": "5a74551d",
   "metadata": {},
   "source": [
    "#### indexing"
   ]
  },
  {
   "cell_type": "markdown",
   "id": "147646f9",
   "metadata": {},
   "source": [
    "indexing - extracting single character\n",
    "\n",
    "-- var_name[index number]\n",
    "\n",
    "-- index starts from \"0\""
   ]
  },
  {
   "cell_type": "code",
   "execution_count": 25,
   "id": "1f83a22f",
   "metadata": {},
   "outputs": [],
   "source": [
    "name = \"hyderabad\"\n"
   ]
  },
  {
   "cell_type": "code",
   "execution_count": 23,
   "id": "93dbcdaf",
   "metadata": {},
   "outputs": [
    {
     "data": {
      "text/plain": [
       "'h'"
      ]
     },
     "execution_count": 23,
     "metadata": {},
     "output_type": "execute_result"
    }
   ],
   "source": [
    "name[0]  # starts from \"0\""
   ]
  },
  {
   "cell_type": "code",
   "execution_count": 24,
   "id": "cd486564",
   "metadata": {},
   "outputs": [
    {
     "data": {
      "text/plain": [
       "'d'"
      ]
     },
     "execution_count": 24,
     "metadata": {},
     "output_type": "execute_result"
    }
   ],
   "source": [
    "name[-1]  # last character index value starts from -1"
   ]
  },
  {
   "cell_type": "markdown",
   "id": "406886fb",
   "metadata": {},
   "source": [
    "### slicing"
   ]
  },
  {
   "cell_type": "markdown",
   "id": "8d7eb319",
   "metadata": {},
   "source": [
    "accessing group of character  from the data\n",
    "\n",
    "-variable_name[start:stop:step]"
   ]
  },
  {
   "cell_type": "code",
   "execution_count": 26,
   "id": "f7003968",
   "metadata": {},
   "outputs": [],
   "source": [
    "name = \"hyderabad\""
   ]
  },
  {
   "cell_type": "code",
   "execution_count": 27,
   "id": "2236df9e",
   "metadata": {},
   "outputs": [
    {
     "data": {
      "text/plain": [
       "'hyder'"
      ]
     },
     "execution_count": 27,
     "metadata": {},
     "output_type": "execute_result"
    }
   ],
   "source": [
    "name[0:5:1] "
   ]
  },
  {
   "cell_type": "code",
   "execution_count": 28,
   "id": "1209a200",
   "metadata": {},
   "outputs": [
    {
     "data": {
      "text/plain": [
       "'hdr'"
      ]
     },
     "execution_count": 28,
     "metadata": {},
     "output_type": "execute_result"
    }
   ],
   "source": [
    "name[0:6:2]"
   ]
  },
  {
   "cell_type": "markdown",
   "id": "75978c55",
   "metadata": {},
   "source": [
    "-Start : if we don't provide start value then it takes first value (index[0])\n",
    "\n",
    "-step : if we don't provide step value, its takes \"1\" as default value\n",
    "\n",
    "-stop : if we don't provide stop value , its takes untill last value\n",
    "\n",
    "In slicing we give more than index number still it accepts the number and print upto the last index number"
   ]
  },
  {
   "cell_type": "code",
   "execution_count": 29,
   "id": "3015f3f4",
   "metadata": {},
   "outputs": [
    {
     "data": {
      "text/plain": [
       "'hyderab'"
      ]
     },
     "execution_count": 29,
     "metadata": {},
     "output_type": "execute_result"
    }
   ],
   "source": [
    "name[:7:1]"
   ]
  },
  {
   "cell_type": "code",
   "execution_count": 30,
   "id": "8203f46b",
   "metadata": {},
   "outputs": [
    {
     "data": {
      "text/plain": [
       "'deraba'"
      ]
     },
     "execution_count": 30,
     "metadata": {},
     "output_type": "execute_result"
    }
   ],
   "source": [
    "name[2:8]"
   ]
  },
  {
   "cell_type": "code",
   "execution_count": 31,
   "id": "a0f93fe3",
   "metadata": {},
   "outputs": [
    {
     "data": {
      "text/plain": [
       "'erabad'"
      ]
     },
     "execution_count": 31,
     "metadata": {},
     "output_type": "execute_result"
    }
   ],
   "source": [
    "name[3::1]"
   ]
  },
  {
   "cell_type": "code",
   "execution_count": 33,
   "id": "bc05259c",
   "metadata": {},
   "outputs": [
    {
     "data": {
      "text/plain": [
       "'hyderabad'"
      ]
     },
     "execution_count": 33,
     "metadata": {},
     "output_type": "execute_result"
    }
   ],
   "source": [
    "name[0:23]"
   ]
  },
  {
   "cell_type": "markdown",
   "id": "156431a6",
   "metadata": {},
   "source": [
    "Task 4:\n",
    "\n",
    "sentence = \"I want to become Data Scientist\".\n",
    "\n",
    "1)Access and print the first character of the string using indexing.\n",
    "\n",
    "2)Access and print the last character of the string using negative indexing."
   ]
  },
  {
   "cell_type": "code",
   "execution_count": 34,
   "id": "53d012ee",
   "metadata": {},
   "outputs": [],
   "source": [
    "sentence = \"I want to become Data Scientist\""
   ]
  },
  {
   "cell_type": "code",
   "execution_count": 35,
   "id": "88c93cbb",
   "metadata": {},
   "outputs": [
    {
     "data": {
      "text/plain": [
       "'I'"
      ]
     },
     "execution_count": 35,
     "metadata": {},
     "output_type": "execute_result"
    }
   ],
   "source": [
    "#1)\n",
    "sentence[0]  # starts from '0' index number is 0"
   ]
  },
  {
   "cell_type": "code",
   "execution_count": 36,
   "id": "93334ba2",
   "metadata": {},
   "outputs": [
    {
     "data": {
      "text/plain": [
       "'t'"
      ]
     },
     "execution_count": 36,
     "metadata": {},
     "output_type": "execute_result"
    }
   ],
   "source": [
    "#2)\n",
    "sentence[-1] # last character index value starts from -1"
   ]
  },
  {
   "cell_type": "markdown",
   "id": "29a5615d",
   "metadata": {},
   "source": [
    "Task 5:\n",
    "\n",
    "1)What are possible ways yo extract Scientist(use forward and reverse)\n",
    "\n",
    "2)Use slicing to extract and print the first word from the string.\n",
    "\n",
    "3)Use slicing to extract and print the last three characters of the string.\n"
   ]
  },
  {
   "cell_type": "code",
   "execution_count": 38,
   "id": "27997595",
   "metadata": {},
   "outputs": [],
   "source": [
    "#1) They are tw0 ways we can extract by using forward and reverse slicing\n"
   ]
  },
  {
   "cell_type": "code",
   "execution_count": 39,
   "id": "6a374b11",
   "metadata": {},
   "outputs": [],
   "source": [
    "sentence = \"I want to become Data Scientist\""
   ]
  },
  {
   "cell_type": "code",
   "execution_count": 40,
   "id": "79505a34",
   "metadata": {},
   "outputs": [
    {
     "data": {
      "text/plain": [
       "'Scientist'"
      ]
     },
     "execution_count": 40,
     "metadata": {},
     "output_type": "execute_result"
    }
   ],
   "source": [
    "# forward slicing\n",
    "sentence[22::]  # start index value is  22 whivh meanss \"s\" from this  we no need give any value to stop and step its take default value as 1"
   ]
  },
  {
   "cell_type": "code",
   "execution_count": 44,
   "id": "e7368eac",
   "metadata": {},
   "outputs": [
    {
     "data": {
      "text/plain": [
       "' Scientist'"
      ]
     },
     "execution_count": 44,
     "metadata": {},
     "output_type": "execute_result"
    }
   ],
   "source": [
    "sentence[-10::]   # reverse silicing"
   ]
  },
  {
   "cell_type": "code",
   "execution_count": 45,
   "id": "d73953e2",
   "metadata": {},
   "outputs": [
    {
     "data": {
      "text/plain": [
       "'I'"
      ]
     },
     "execution_count": 45,
     "metadata": {},
     "output_type": "execute_result"
    }
   ],
   "source": [
    "#2)\n",
    "sentence[0:1] #  from sentence first word is I so its starts from 0 and stops at 1"
   ]
  },
  {
   "cell_type": "code",
   "execution_count": 47,
   "id": "6c8e000a",
   "metadata": {},
   "outputs": [
    {
     "data": {
      "text/plain": [
       "'I w'"
      ]
     },
     "execution_count": 47,
     "metadata": {},
     "output_type": "execute_result"
    }
   ],
   "source": [
    "#3)\n",
    "sentence[0:3]    # first three characters are start -0, stop-3 and step is 1"
   ]
  },
  {
   "cell_type": "markdown",
   "id": "c010b224",
   "metadata": {},
   "source": [
    "Task 6:\n",
    "\n",
    "name = \"Innomatics Reserach Labs\"\n",
    "\n",
    "1)Apply slicing to extract a substring that includes the second to fifth characters.\n",
    "\n",
    "2)Print the extracted substring."
   ]
  },
  {
   "cell_type": "code",
   "execution_count": 48,
   "id": "429c772b",
   "metadata": {},
   "outputs": [],
   "source": [
    "name = \"Innomatics Reserach Labs\""
   ]
  },
  {
   "cell_type": "code",
   "execution_count": 52,
   "id": "0d98776a",
   "metadata": {},
   "outputs": [],
   "source": [
    "#1)\n",
    "extracted_subString = name[1:5]  # starts-1 and stops 5 means its prints nnom which is 2-5 , step value by default its 1\n",
    " "
   ]
  },
  {
   "cell_type": "code",
   "execution_count": 53,
   "id": "23e55ca4",
   "metadata": {},
   "outputs": [
    {
     "name": "stdout",
     "output_type": "stream",
     "text": [
      "nnom\n"
     ]
    }
   ],
   "source": [
    "#2)\n",
    "print(extracted_subString)"
   ]
  },
  {
   "cell_type": "markdown",
   "id": "cea892ad",
   "metadata": {},
   "source": [
    "Task 7:\n",
    "\n",
    "string = \"Python@1234\"\n",
    "\n",
    "1)Use slicing to extract every second character from the string.\n",
    "\n",
    "2)Print the resulting sliced string.\n"
   ]
  },
  {
   "cell_type": "code",
   "execution_count": 57,
   "id": "59e19a35",
   "metadata": {},
   "outputs": [
    {
     "data": {
      "text/plain": [
       "'yhn13'"
      ]
     },
     "execution_count": 57,
     "metadata": {},
     "output_type": "execute_result"
    }
   ],
   "source": [
    "string = \"Python@1234\"\n",
    "resulted_string = string[1::2] # here i use step as 2 because we need every second character from the string  and starts with 1 because i didn't reqire first char\n",
    "string[1::2]"
   ]
  },
  {
   "cell_type": "code",
   "execution_count": 58,
   "id": "67bbddb0",
   "metadata": {},
   "outputs": [
    {
     "name": "stdout",
     "output_type": "stream",
     "text": [
      "yhn13\n"
     ]
    }
   ],
   "source": [
    "print(resulted_string)"
   ]
  },
  {
   "cell_type": "markdown",
   "id": "b48e3f24",
   "metadata": {},
   "source": [
    "Task 8:\n",
    "\n",
    "print last five letters.\n",
    "\n",
    "Utilize slicing to reverse the word order in the string.\n",
    "\n",
    "Print the string with the words in the reversed order."
   ]
  },
  {
   "cell_type": "code",
   "execution_count": 60,
   "id": "6bef42f1",
   "metadata": {},
   "outputs": [],
   "source": [
    "string = \"Python@1234\""
   ]
  },
  {
   "cell_type": "code",
   "execution_count": 61,
   "id": "806b901f",
   "metadata": {},
   "outputs": [
    {
     "data": {
      "text/plain": [
       "'@1234'"
      ]
     },
     "execution_count": 61,
     "metadata": {},
     "output_type": "execute_result"
    }
   ],
   "source": [
    "string[6:]  # last five chars starting index value is 6 which is \"@\"\" , so starts with 6."
   ]
  },
  {
   "cell_type": "code",
   "execution_count": 62,
   "id": "ded33336",
   "metadata": {},
   "outputs": [
    {
     "name": "stdout",
     "output_type": "stream",
     "text": [
      "@1234\n"
     ]
    }
   ],
   "source": [
    "print(string[6:])"
   ]
  },
  {
   "cell_type": "code",
   "execution_count": 63,
   "id": "acbbeb3f",
   "metadata": {},
   "outputs": [
    {
     "data": {
      "text/plain": [
       "'4321@nohtyP'"
      ]
     },
     "execution_count": 63,
     "metadata": {},
     "output_type": "execute_result"
    }
   ],
   "source": [
    "string[::-1]   # here starts default is 0  and step is -1 which means start + step  values -1,-2,-3,-4,-5.... which means revesing the string"
   ]
  },
  {
   "cell_type": "code",
   "execution_count": 64,
   "id": "65d6c839",
   "metadata": {},
   "outputs": [
    {
     "name": "stdout",
     "output_type": "stream",
     "text": [
      "4321@nohtyP\n"
     ]
    }
   ],
   "source": [
    "print(string[::-1])"
   ]
  },
  {
   "cell_type": "markdown",
   "id": "bf1b232b",
   "metadata": {},
   "source": [
    "Task 9:\n",
    "\n",
    "a = \"123123123\"\n",
    "\n",
    "Apply slicing to extract only the numeric characters at odd positions.\n",
    "\n",
    "Print the sliced result."
   ]
  },
  {
   "cell_type": "code",
   "execution_count": 65,
   "id": "d4493048",
   "metadata": {},
   "outputs": [],
   "source": [
    "a = \"123123123\""
   ]
  },
  {
   "cell_type": "code",
   "execution_count": 71,
   "id": "18474721",
   "metadata": {},
   "outputs": [
    {
     "data": {
      "text/plain": [
       "'13213'"
      ]
     },
     "execution_count": 71,
     "metadata": {},
     "output_type": "execute_result"
    }
   ],
   "source": [
    "result = a[0::2]  # for odd place we need step as 2 which means  index value are  0,2,4,5,6...\n",
    "a[0::2]"
   ]
  },
  {
   "cell_type": "code",
   "execution_count": 72,
   "id": "cabf3585",
   "metadata": {},
   "outputs": [
    {
     "name": "stdout",
     "output_type": "stream",
     "text": [
      "13213\n"
     ]
    }
   ],
   "source": [
    "print(result)"
   ]
  },
  {
   "cell_type": "code",
   "execution_count": null,
   "id": "7a4bc27c",
   "metadata": {},
   "outputs": [],
   "source": []
  }
 ],
 "metadata": {
  "kernelspec": {
   "display_name": "Python 3 (ipykernel)",
   "language": "python",
   "name": "python3"
  },
  "language_info": {
   "codemirror_mode": {
    "name": "ipython",
    "version": 3
   },
   "file_extension": ".py",
   "mimetype": "text/x-python",
   "name": "python",
   "nbconvert_exporter": "python",
   "pygments_lexer": "ipython3",
   "version": "3.10.12"
  }
 },
 "nbformat": 4,
 "nbformat_minor": 5
}
