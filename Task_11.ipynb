{
 "cells": [
  {
   "cell_type": "markdown",
   "id": "5f60ea43",
   "metadata": {},
   "source": [
    "Task 1: Counting Numbers\n",
    "\n",
    "write a program that prints the numbers from 1 to 10, each on a new line.\n",
    "\n",
    "\n",
    "Task 2: Even Numbers\n",
    "\n",
    "write a program that prints the even numbers from 1 to 20, each on a new line.\n",
    "\n",
    "\n",
    "Task 3: Square Numbers\n",
    "\n",
    "Write a program that calculates and prints the square of each number from 1 to 5.\n",
    "\n",
    "\n",
    "Task 4: Multiples of Three\n",
    "\n",
    "write a program that prints the multiples of 3 from 3 to 30, each on a new line.\n",
    "\n",
    "Task 5: Reverse Counting\n",
    "\n",
    "Write a program that prints the numbers from 10 to 1 in descending order, each on a new line."
   ]
  },
  {
   "cell_type": "code",
   "execution_count": null,
   "id": "c6655203",
   "metadata": {},
   "outputs": [],
   "source": []
  },
  {
   "cell_type": "markdown",
   "id": "c0d0bff1",
   "metadata": {},
   "source": [
    "Task 1: Counting Numbers\n",
    "\n",
    "write a program that prints the numbers from 1 to 10, each on a new line."
   ]
  },
  {
   "cell_type": "code",
   "execution_count": 5,
   "id": "dc239bcc",
   "metadata": {},
   "outputs": [
    {
     "name": "stdout",
     "output_type": "stream",
     "text": [
      "1\n",
      "2\n",
      "3\n",
      "4\n",
      "5\n",
      "6\n",
      "7\n",
      "8\n",
      "9\n",
      "10\n"
     ]
    }
   ],
   "source": [
    "# for loop\n",
    "for i in range(1,11):\n",
    "    print(i)"
   ]
  },
  {
   "cell_type": "code",
   "execution_count": 6,
   "id": "964c72c0",
   "metadata": {},
   "outputs": [
    {
     "name": "stdout",
     "output_type": "stream",
     "text": [
      "1\n",
      "2\n",
      "3\n",
      "4\n",
      "5\n",
      "6\n",
      "7\n",
      "8\n",
      "9\n",
      "10\n"
     ]
    }
   ],
   "source": [
    "# while loop\n",
    "a = 1\n",
    "while a<11:\n",
    "    print(a)\n",
    "    a += 1"
   ]
  },
  {
   "cell_type": "code",
   "execution_count": null,
   "id": "b1116d61",
   "metadata": {},
   "outputs": [],
   "source": []
  },
  {
   "cell_type": "markdown",
   "id": "5440823c",
   "metadata": {},
   "source": [
    "Task 2: Even Numbers\n",
    "\n",
    "write a program that prints the even numbers from 1 to 20, each on a new line."
   ]
  },
  {
   "cell_type": "code",
   "execution_count": 7,
   "id": "e4a0484a",
   "metadata": {},
   "outputs": [
    {
     "name": "stdout",
     "output_type": "stream",
     "text": [
      "2\n",
      "4\n",
      "6\n",
      "8\n",
      "10\n",
      "12\n",
      "14\n",
      "16\n",
      "18\n",
      "20\n"
     ]
    }
   ],
   "source": [
    "# for loop\n",
    "for i in range(1,21):\n",
    "    if i%2==0:\n",
    "        print(i)\n",
    "        "
   ]
  },
  {
   "cell_type": "code",
   "execution_count": 8,
   "id": "b4e4dc4e",
   "metadata": {},
   "outputs": [
    {
     "name": "stdout",
     "output_type": "stream",
     "text": [
      "2\n",
      "4\n",
      "6\n",
      "8\n",
      "10\n",
      "12\n",
      "14\n",
      "16\n",
      "18\n",
      "20\n"
     ]
    }
   ],
   "source": [
    "# while loop\n",
    "# one method\n",
    "a = 1 \n",
    "while a<21:\n",
    "    if a%2==0:\n",
    "        print(a)\n",
    "    a +=1"
   ]
  },
  {
   "cell_type": "code",
   "execution_count": 11,
   "id": "193acef9",
   "metadata": {},
   "outputs": [
    {
     "name": "stdout",
     "output_type": "stream",
     "text": [
      "2\n",
      "4\n",
      "6\n",
      "8\n",
      "10\n",
      "12\n",
      "14\n",
      "16\n",
      "18\n",
      "20\n"
     ]
    }
   ],
   "source": [
    "# second method\n",
    "a = 2 \n",
    "while a<21:\n",
    "    print(a)\n",
    "    a +=2"
   ]
  },
  {
   "cell_type": "code",
   "execution_count": null,
   "id": "faa9b640",
   "metadata": {},
   "outputs": [],
   "source": []
  },
  {
   "cell_type": "markdown",
   "id": "97e76e7b",
   "metadata": {},
   "source": [
    "Task 3: Square Numbers\n",
    "\n",
    "Write a program that calculates and prints the square of each number from 1 to 5."
   ]
  },
  {
   "cell_type": "code",
   "execution_count": 12,
   "id": "0a6f8369",
   "metadata": {},
   "outputs": [
    {
     "name": "stdout",
     "output_type": "stream",
     "text": [
      "1\n",
      "4\n",
      "9\n",
      "16\n",
      "25\n"
     ]
    }
   ],
   "source": [
    "# for loop\n",
    "for i in range(1,6):\n",
    "    print(i**2)"
   ]
  },
  {
   "cell_type": "code",
   "execution_count": 13,
   "id": "519e3500",
   "metadata": {},
   "outputs": [
    {
     "name": "stdout",
     "output_type": "stream",
     "text": [
      "1\n",
      "4\n",
      "9\n",
      "16\n",
      "25\n"
     ]
    }
   ],
   "source": [
    "# while loop\n",
    "a = 1\n",
    "while a<6:\n",
    "    print(a**2)\n",
    "    a += 1"
   ]
  },
  {
   "cell_type": "code",
   "execution_count": null,
   "id": "37eedd86",
   "metadata": {},
   "outputs": [],
   "source": []
  },
  {
   "cell_type": "markdown",
   "id": "854e29ff",
   "metadata": {},
   "source": [
    "Task 4: Multiples of Three\n",
    "\n",
    "write a program that prints the multiples of 3 from 3 to 30, each on a new line."
   ]
  },
  {
   "cell_type": "code",
   "execution_count": 14,
   "id": "70efb29c",
   "metadata": {},
   "outputs": [
    {
     "name": "stdout",
     "output_type": "stream",
     "text": [
      "3\n",
      "6\n",
      "9\n",
      "12\n",
      "15\n",
      "18\n",
      "21\n",
      "24\n",
      "27\n",
      "30\n"
     ]
    }
   ],
   "source": [
    "# for loop\n",
    "for i in range(3,31):\n",
    "    if i%3==0:\n",
    "        print(i)"
   ]
  },
  {
   "cell_type": "code",
   "execution_count": 15,
   "id": "831aaf05",
   "metadata": {},
   "outputs": [
    {
     "name": "stdout",
     "output_type": "stream",
     "text": [
      "3\n",
      "6\n",
      "9\n",
      "12\n",
      "15\n",
      "18\n",
      "21\n",
      "24\n",
      "27\n",
      "30\n"
     ]
    }
   ],
   "source": [
    "# while loop\n",
    "a=3\n",
    "while a<31:\n",
    "    if a%3==0:\n",
    "        print(a)\n",
    "    a +=1"
   ]
  },
  {
   "cell_type": "code",
   "execution_count": null,
   "id": "114b6ccc",
   "metadata": {},
   "outputs": [],
   "source": []
  },
  {
   "cell_type": "markdown",
   "id": "0449d2a3",
   "metadata": {},
   "source": [
    "\n",
    "Task 5: Reverse Counting\n",
    "\n",
    "Write a program that prints the numbers from 10 to 1 in descending order, each on a new line."
   ]
  },
  {
   "cell_type": "code",
   "execution_count": 16,
   "id": "21ba1b0d",
   "metadata": {},
   "outputs": [
    {
     "name": "stdout",
     "output_type": "stream",
     "text": [
      "10\n",
      "9\n",
      "8\n",
      "7\n",
      "6\n",
      "5\n",
      "4\n",
      "3\n",
      "2\n",
      "1\n"
     ]
    }
   ],
   "source": [
    "# for loop\n",
    "for i in range(10,0,-1):\n",
    "    print(i)"
   ]
  },
  {
   "cell_type": "code",
   "execution_count": 1,
   "id": "5e3e7cab",
   "metadata": {},
   "outputs": [
    {
     "name": "stdout",
     "output_type": "stream",
     "text": [
      "10\n",
      "9\n",
      "8\n",
      "7\n",
      "6\n",
      "5\n",
      "4\n",
      "3\n",
      "2\n",
      "1\n"
     ]
    }
   ],
   "source": [
    "# while loop\n",
    "# first method\n",
    "a = 10\n",
    "while a>=1:\n",
    "    print(a)\n",
    "    a -=1"
   ]
  },
  {
   "cell_type": "code",
   "execution_count": 2,
   "id": "7ab483fe",
   "metadata": {},
   "outputs": [
    {
     "name": "stdout",
     "output_type": "stream",
     "text": [
      "10\n",
      "9\n",
      "8\n",
      "7\n",
      "6\n",
      "5\n",
      "4\n",
      "3\n",
      "2\n",
      "1\n"
     ]
    }
   ],
   "source": [
    "# second method\n",
    "a = 10\n",
    "while range(a,0,-1):\n",
    "    print(a)\n",
    "    a -= 1"
   ]
  },
  {
   "cell_type": "code",
   "execution_count": null,
   "id": "999f4b79",
   "metadata": {},
   "outputs": [],
   "source": []
  }
 ],
 "metadata": {
  "kernelspec": {
   "display_name": "Python 3 (ipykernel)",
   "language": "python",
   "name": "python3"
  },
  "language_info": {
   "codemirror_mode": {
    "name": "ipython",
    "version": 3
   },
   "file_extension": ".py",
   "mimetype": "text/x-python",
   "name": "python",
   "nbconvert_exporter": "python",
   "pygments_lexer": "ipython3",
   "version": "3.10.12"
  }
 },
 "nbformat": 4,
 "nbformat_minor": 5
}
