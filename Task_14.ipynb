{
 "cells": [
  {
   "cell_type": "markdown",
   "id": "9191dd47",
   "metadata": {},
   "source": [
    "1.  Create a lambda function that takes two arguments and returns their sum.\n",
    "\n",
    "    Create another lambda function that takes a single argument and returns its square.\n",
    "    \n",
    "    Use the lambda functions to calculate the sum and square of various numbers and print the results.\n",
    "    \n",
    "2.  Define a list of integers.\n",
    "\n",
    "    Use the filter function to create a new list that contains only the even numbers from the original list.\n",
    "    \n",
    "    Use the filter function again to create a new list that contains only numbers greater than 10 from the original list.\n",
    "    \n",
    "    Print both filtered lists.\n",
    "    \n",
    "3.  Define a list of strings where each string represents a number (e.g., [\"1\", \"2\", \"3\"]).\n",
    "\n",
    "    Use the map function to convert each string to an integer and store the result in a new list.\n",
    "    \n",
    "    Use the map function again to square each integer in the new list and store the result in another new list.\n",
    "    \n",
    "    Print both new lists.\n",
    "    \n",
    "4.  Create a list of dictionaries, where each dictionary represents a person with keys \"name\" and \"age\". Example: [{\"name\": \"Alice\", \"age\": 30}, {\"name\": \"Bob\", \"age\": 25}, ...]\n",
    "\n",
    "    Use the filter function to create a new list that contains only the people who are older than 25.\n",
    "    \n",
    "    Use the map function to create a new list that contains the names of the filtered people.\n",
    "    \n",
    "    Print the list of names.\n",
    "    \n",
    "5.  Create a program that reads a list of numbers from the user (you can use the input function for this).\n",
    "\n",
    "    Use map and filter functions to perform the following operations:\n",
    "    \n",
    "    Square each number.\n",
    "    \n",
    "    Filter out numbers that are not divisible by 3.\n",
    "    \n",
    "    Print the result."
   ]
  },
  {
   "cell_type": "code",
   "execution_count": null,
   "id": "97ac53cd",
   "metadata": {},
   "outputs": [],
   "source": []
  },
  {
   "cell_type": "markdown",
   "id": "25a0a234",
   "metadata": {},
   "source": [
    "Create a lambda function that takes two arguments and returns their sum.\n",
    "\n",
    "Create another lambda function that takes a single argument and returns its square.\n",
    "\n",
    "Use the lambda functions to calculate the sum and square of various numbers and print the results."
   ]
  },
  {
   "cell_type": "code",
   "execution_count": 1,
   "id": "886ec89d",
   "metadata": {},
   "outputs": [
    {
     "data": {
      "text/plain": [
       "5"
      ]
     },
     "execution_count": 1,
     "metadata": {},
     "output_type": "execute_result"
    }
   ],
   "source": [
    "m = lambda a,b : a+b\n",
    "m(2,3)"
   ]
  },
  {
   "cell_type": "code",
   "execution_count": 2,
   "id": "d36da060",
   "metadata": {},
   "outputs": [
    {
     "data": {
      "text/plain": [
       "25"
      ]
     },
     "execution_count": 2,
     "metadata": {},
     "output_type": "execute_result"
    }
   ],
   "source": [
    "m = lambda a : a * a\n",
    "m(5)"
   ]
  },
  {
   "cell_type": "code",
   "execution_count": 15,
   "id": "261e3764",
   "metadata": {},
   "outputs": [
    {
     "data": {
      "text/plain": [
       "15"
      ]
     },
     "execution_count": 15,
     "metadata": {},
     "output_type": "execute_result"
    }
   ],
   "source": [
    "m = lambda *n : sum(n) \n",
    "c = lambda n : n*n\n",
    "m(1,2,3,4,5)\n"
   ]
  },
  {
   "cell_type": "code",
   "execution_count": 16,
   "id": "98c3fd22",
   "metadata": {},
   "outputs": [
    {
     "data": {
      "text/plain": [
       "36"
      ]
     },
     "execution_count": 16,
     "metadata": {},
     "output_type": "execute_result"
    }
   ],
   "source": [
    "c(6)"
   ]
  },
  {
   "cell_type": "code",
   "execution_count": null,
   "id": "cce2372b",
   "metadata": {},
   "outputs": [],
   "source": []
  },
  {
   "cell_type": "markdown",
   "id": "64d8efac",
   "metadata": {},
   "source": [
    "Define a list of integers.\n",
    "\n",
    "Use the filter function to create a new list that contains only the even numbers from the original list.\n",
    "\n",
    "Use the filter function again to create a new list that contains only numbers greater than 10 from the original list.\n",
    "\n",
    "Print both filtered lists."
   ]
  },
  {
   "cell_type": "code",
   "execution_count": 17,
   "id": "aaadf2f3",
   "metadata": {},
   "outputs": [],
   "source": [
    " a = [1,2,3,4,5,6,7,8,10,23,45,566]\n",
    "    "
   ]
  },
  {
   "cell_type": "code",
   "execution_count": 18,
   "id": "00e4a9f3",
   "metadata": {},
   "outputs": [],
   "source": [
    "def even(n):\n",
    "    if n %2==0:\n",
    "        return n\n",
    "    "
   ]
  },
  {
   "cell_type": "code",
   "execution_count": 22,
   "id": "20df16f2",
   "metadata": {},
   "outputs": [],
   "source": [
    "even_list = list(filter(even,a))"
   ]
  },
  {
   "cell_type": "code",
   "execution_count": 21,
   "id": "649318ba",
   "metadata": {},
   "outputs": [],
   "source": [
    "greaterthan10 = list(filter(lambda n: n>10,a))"
   ]
  },
  {
   "cell_type": "code",
   "execution_count": 23,
   "id": "03635a6c",
   "metadata": {},
   "outputs": [
    {
     "name": "stdout",
     "output_type": "stream",
     "text": [
      "[2, 4, 6, 8, 10, 566]\n"
     ]
    }
   ],
   "source": [
    "print(even_list)"
   ]
  },
  {
   "cell_type": "code",
   "execution_count": 24,
   "id": "a11af683",
   "metadata": {},
   "outputs": [
    {
     "name": "stdout",
     "output_type": "stream",
     "text": [
      "[23, 45, 566]\n"
     ]
    }
   ],
   "source": [
    "print(greaterthan10)"
   ]
  },
  {
   "cell_type": "code",
   "execution_count": null,
   "id": "8ab1687e",
   "metadata": {},
   "outputs": [],
   "source": []
  },
  {
   "cell_type": "markdown",
   "id": "359d693a",
   "metadata": {},
   "source": [
    "Define a list of strings where each string represents a number (e.g., [\"1\", \"2\", \"3\"]).\n",
    "\n",
    "Use the map function to convert each string to an integer and store the result in a new list.\n",
    "\n",
    "Use the map function again to square each integer in the new list and store the result in another new list.\n",
    "\n",
    "Print both new lists."
   ]
  },
  {
   "cell_type": "code",
   "execution_count": 25,
   "id": "1daf526e",
   "metadata": {},
   "outputs": [],
   "source": [
    "list1 = ['1',\"2\",\"3\",\"4\",\"5\",\"6\"]"
   ]
  },
  {
   "cell_type": "code",
   "execution_count": 27,
   "id": "3d04f5c0",
   "metadata": {},
   "outputs": [],
   "source": [
    "a = list(map(int,list1))"
   ]
  },
  {
   "cell_type": "code",
   "execution_count": 28,
   "id": "7df2a133",
   "metadata": {},
   "outputs": [
    {
     "data": {
      "text/plain": [
       "[1, 2, 3, 4, 5, 6]"
      ]
     },
     "execution_count": 28,
     "metadata": {},
     "output_type": "execute_result"
    }
   ],
   "source": [
    "a # new list with integers"
   ]
  },
  {
   "cell_type": "code",
   "execution_count": 29,
   "id": "afcb72bc",
   "metadata": {},
   "outputs": [],
   "source": [
    "def square(n):\n",
    "    return n*n\n"
   ]
  },
  {
   "cell_type": "code",
   "execution_count": 31,
   "id": "a5c992be",
   "metadata": {},
   "outputs": [],
   "source": [
    "b = list(map(square,a))"
   ]
  },
  {
   "cell_type": "code",
   "execution_count": 32,
   "id": "2936379e",
   "metadata": {},
   "outputs": [
    {
     "data": {
      "text/plain": [
       "[1, 4, 9, 16, 25, 36]"
      ]
     },
     "execution_count": 32,
     "metadata": {},
     "output_type": "execute_result"
    }
   ],
   "source": [
    "b # new list with squares"
   ]
  },
  {
   "cell_type": "code",
   "execution_count": null,
   "id": "3963c542",
   "metadata": {},
   "outputs": [],
   "source": []
  },
  {
   "cell_type": "markdown",
   "id": "7c81bd53",
   "metadata": {},
   "source": [
    "Create a list of dictionaries, where each dictionary represents a person with keys \"name\" and \"age\". Example: [{\"name\": \"Alice\", \"age\": 30}, {\"name\": \"Bob\", \"age\": 25}, ...]\n",
    "\n",
    "Use the filter function to create a new list that contains only the people who are older than 25.\n",
    "\n",
    "Use the map function to create a new list that contains the names of the filtered people.\n",
    "\n",
    "Print the list of names."
   ]
  },
  {
   "cell_type": "code",
   "execution_count": 42,
   "id": "a09f90d5",
   "metadata": {},
   "outputs": [],
   "source": [
    "list2 = [{\"name\": \"Alice\", \"age\": 30}, {\"name\": \"Bob\", \"age\": 25}, {\"name\":\"sam\",\"age\":33},{\"name\":\"nag\",\"age\":24}]"
   ]
  },
  {
   "cell_type": "code",
   "execution_count": 43,
   "id": "ca8d3641",
   "metadata": {},
   "outputs": [],
   "source": [
    "def fun1(n):\n",
    "    if n[\"age\"]>25:\n",
    "        return n"
   ]
  },
  {
   "cell_type": "code",
   "execution_count": 47,
   "id": "940cf2d4",
   "metadata": {},
   "outputs": [],
   "source": [
    "list3 = list(filter(fun1,list2))"
   ]
  },
  {
   "cell_type": "code",
   "execution_count": 50,
   "id": "7e305e64",
   "metadata": {},
   "outputs": [
    {
     "data": {
      "text/plain": [
       "[{'name': 'Alice', 'age': 30}, {'name': 'sam', 'age': 33}]"
      ]
     },
     "execution_count": 50,
     "metadata": {},
     "output_type": "execute_result"
    }
   ],
   "source": [
    "list3"
   ]
  },
  {
   "cell_type": "code",
   "execution_count": 48,
   "id": "0ebd026e",
   "metadata": {},
   "outputs": [],
   "source": [
    "def fun2(n):\n",
    "    return n[\"name\"]"
   ]
  },
  {
   "cell_type": "code",
   "execution_count": 49,
   "id": "a9e9bf09",
   "metadata": {},
   "outputs": [],
   "source": [
    "list4 = list(map(fun2,list3))"
   ]
  },
  {
   "cell_type": "code",
   "execution_count": 51,
   "id": "21341d8d",
   "metadata": {},
   "outputs": [
    {
     "data": {
      "text/plain": [
       "['Alice', 'sam']"
      ]
     },
     "execution_count": 51,
     "metadata": {},
     "output_type": "execute_result"
    }
   ],
   "source": [
    "list4"
   ]
  },
  {
   "cell_type": "code",
   "execution_count": null,
   "id": "99ca1e8a",
   "metadata": {},
   "outputs": [],
   "source": []
  },
  {
   "cell_type": "markdown",
   "id": "da6de529",
   "metadata": {},
   "source": [
    "Create a program that reads a list of numbers from the user (you can use the input function for this).\n",
    "\n",
    "Use map and filter functions to perform the following operations:\n",
    "\n",
    "Square each number.\n",
    "\n",
    "Filter out numbers that are not divisible by 3.\n",
    "\n",
    "Print the result."
   ]
  },
  {
   "cell_type": "code",
   "execution_count": 57,
   "id": "825067d9",
   "metadata": {},
   "outputs": [
    {
     "name": "stdout",
     "output_type": "stream",
     "text": [
      "enter the no of elements in list ::7\n",
      "enter a input1::1\n",
      "enter a input2::2\n",
      "enter a input3::3\n",
      "enter a input4::4\n",
      "enter a input5::5\n",
      "enter a input6::6\n",
      "enter a input7::6\n"
     ]
    }
   ],
   "source": [
    "list7 = []\n",
    "num = int(input(\"enter the no of elements in list ::\"))\n",
    "for i in range(1,num+1):\n",
    "    a = int(input(f\"enter a input{i}::\"))\n",
    "    list7.append(a)"
   ]
  },
  {
   "cell_type": "code",
   "execution_count": 58,
   "id": "8dd8b653",
   "metadata": {},
   "outputs": [
    {
     "data": {
      "text/plain": [
       "[1, 2, 3, 4, 5, 6, 6]"
      ]
     },
     "execution_count": 58,
     "metadata": {},
     "output_type": "execute_result"
    }
   ],
   "source": [
    "list7"
   ]
  },
  {
   "cell_type": "code",
   "execution_count": 67,
   "id": "354e0b83",
   "metadata": {},
   "outputs": [],
   "source": [
    "def square(n):\n",
    "    return n*n\n",
    "def div(n):\n",
    "    if n%3!=0:\n",
    "        return n\n",
    "    "
   ]
  },
  {
   "cell_type": "code",
   "execution_count": 60,
   "id": "97dbc2bc",
   "metadata": {},
   "outputs": [],
   "source": [
    "even_list = list(map(square,list7))"
   ]
  },
  {
   "cell_type": "code",
   "execution_count": 61,
   "id": "eac59a2d",
   "metadata": {},
   "outputs": [
    {
     "data": {
      "text/plain": [
       "[1, 4, 9, 16, 25, 36, 36]"
      ]
     },
     "execution_count": 61,
     "metadata": {},
     "output_type": "execute_result"
    }
   ],
   "source": [
    "even_list"
   ]
  },
  {
   "cell_type": "code",
   "execution_count": 68,
   "id": "c9d43be2",
   "metadata": {},
   "outputs": [],
   "source": [
    "divsible_list = list(filter(div,list7))"
   ]
  },
  {
   "cell_type": "code",
   "execution_count": 69,
   "id": "7f2b307f",
   "metadata": {},
   "outputs": [
    {
     "data": {
      "text/plain": [
       "[1, 2, 4, 5]"
      ]
     },
     "execution_count": 69,
     "metadata": {},
     "output_type": "execute_result"
    }
   ],
   "source": [
    "divsible_list"
   ]
  },
  {
   "cell_type": "code",
   "execution_count": null,
   "id": "1db69fbd",
   "metadata": {},
   "outputs": [],
   "source": []
  }
 ],
 "metadata": {
  "kernelspec": {
   "display_name": "Python 3 (ipykernel)",
   "language": "python",
   "name": "python3"
  },
  "language_info": {
   "codemirror_mode": {
    "name": "ipython",
    "version": 3
   },
   "file_extension": ".py",
   "mimetype": "text/x-python",
   "name": "python",
   "nbconvert_exporter": "python",
   "pygments_lexer": "ipython3",
   "version": "3.10.12"
  }
 },
 "nbformat": 4,
 "nbformat_minor": 5
}
