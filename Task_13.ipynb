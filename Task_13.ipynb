{
 "cells": [
  {
   "cell_type": "markdown",
   "id": "bd16256d",
   "metadata": {},
   "source": [
    "1)Write a function called \"add_numbers\" that takes two integers as input and returns their sum.\n",
    "\n",
    "2)Write a function called \"multiply_numbers\" that takes two integers as input and returns their product.\n",
    "\n",
    "3)Write a function called \"calculate_average\" that takes a list of numbers as input and returns the average of thosenumbers.\n",
    "\n",
    "4)Write a function called \"is_even\" that takes an integer as input and returns True if the number is even, and False otherwise.\n",
    "\n",
    "5)Write a function called \"reverse_string\" that takes a string as input and returns the reverse of that string.\n",
    "\n",
    "6)Write a function called \"count_vowels\" that takes a string as input and returns the number of vowels (a, e, i, o, u) in that string.\n",
    "\n",
    "7)Write a function called \"find_max\" that takes a list of numbers as input and returns the maximum value in that list.\n",
    "\n",
    "8)Write a function called \"find_min\" that takes a list of numbers as input and returns the minimum value in that list."
   ]
  },
  {
   "cell_type": "code",
   "execution_count": null,
   "id": "221a78e1",
   "metadata": {},
   "outputs": [],
   "source": []
  },
  {
   "cell_type": "markdown",
   "id": "efc18f72",
   "metadata": {},
   "source": [
    "1)Write a function called \"add_numbers\" that takes two integers as input and returns their sum."
   ]
  },
  {
   "cell_type": "code",
   "execution_count": 4,
   "id": "72c0ae98",
   "metadata": {},
   "outputs": [
    {
     "data": {
      "text/plain": [
       "30"
      ]
     },
     "execution_count": 4,
     "metadata": {},
     "output_type": "execute_result"
    }
   ],
   "source": [
    "def add_numbers(a,b):\n",
    "    return a+b\n",
    "add_numbers(20,10)"
   ]
  },
  {
   "cell_type": "code",
   "execution_count": null,
   "id": "7623ab92",
   "metadata": {},
   "outputs": [],
   "source": []
  },
  {
   "cell_type": "markdown",
   "id": "661b426e",
   "metadata": {},
   "source": [
    "2)Write a function called \"multiply_numbers\" that takes two integers as input and returns their product."
   ]
  },
  {
   "cell_type": "code",
   "execution_count": 5,
   "id": "42e2a761",
   "metadata": {},
   "outputs": [
    {
     "data": {
      "text/plain": [
       "60"
      ]
     },
     "execution_count": 5,
     "metadata": {},
     "output_type": "execute_result"
    }
   ],
   "source": [
    "def multiply_numbers(a,b):\n",
    "    return a*b\n",
    "multiply_numbers(30,2)"
   ]
  },
  {
   "cell_type": "code",
   "execution_count": null,
   "id": "258522ae",
   "metadata": {},
   "outputs": [],
   "source": []
  },
  {
   "cell_type": "markdown",
   "id": "e9b1f6b1",
   "metadata": {},
   "source": [
    "3)Write a function called \"calculate_average\" that takes a list of numbers as input and returns the average of thosenumbers."
   ]
  },
  {
   "cell_type": "code",
   "execution_count": 1,
   "id": "83b88093",
   "metadata": {},
   "outputs": [
    {
     "name": "stdout",
     "output_type": "stream",
     "text": [
      "Enter a how many number to give as input::3\n",
      "enter a number ::5\n",
      "enter a number ::6\n",
      "enter a number ::7\n"
     ]
    },
    {
     "data": {
      "text/plain": [
       "6.0"
      ]
     },
     "execution_count": 1,
     "metadata": {},
     "output_type": "execute_result"
    }
   ],
   "source": [
    "def calculate_average(a):\n",
    "    sum =0\n",
    "    count = 0\n",
    "    while a>0:\n",
    "        n = int(input('enter a number ::'))\n",
    "        sum += n \n",
    "        count += 1\n",
    "        a -=1\n",
    "    average = sum/count\n",
    "    return average\n",
    "a = int(input(\"Enter a how many number to give as input::\"))\n",
    "calculate_average(a)\n",
    "\n",
    "    "
   ]
  },
  {
   "cell_type": "code",
   "execution_count": null,
   "id": "ee929543",
   "metadata": {},
   "outputs": [],
   "source": []
  },
  {
   "cell_type": "markdown",
   "id": "435fb150",
   "metadata": {},
   "source": [
    "4)Write a function called \"is_even\" that takes an integer as input and returns True if the number is even, and False otherwise."
   ]
  },
  {
   "cell_type": "code",
   "execution_count": 3,
   "id": "ae75e57b",
   "metadata": {},
   "outputs": [
    {
     "data": {
      "text/plain": [
       "False"
      ]
     },
     "execution_count": 3,
     "metadata": {},
     "output_type": "execute_result"
    }
   ],
   "source": [
    "def is_even(a):\n",
    "    if a%2==0:\n",
    "        return True\n",
    "    else:\n",
    "        return False\n",
    "is_even(3)"
   ]
  },
  {
   "cell_type": "code",
   "execution_count": 5,
   "id": "546261ec",
   "metadata": {},
   "outputs": [
    {
     "data": {
      "text/plain": [
       "True"
      ]
     },
     "execution_count": 5,
     "metadata": {},
     "output_type": "execute_result"
    }
   ],
   "source": [
    "is_even(6)"
   ]
  },
  {
   "cell_type": "code",
   "execution_count": null,
   "id": "953fcb08",
   "metadata": {},
   "outputs": [],
   "source": []
  },
  {
   "cell_type": "markdown",
   "id": "d90f2c2c",
   "metadata": {},
   "source": [
    "5)Write a function called \"reverse_string\" that takes a string as input and returns the reverse of that string."
   ]
  },
  {
   "cell_type": "code",
   "execution_count": 6,
   "id": "bfb151e9",
   "metadata": {},
   "outputs": [
    {
     "name": "stdout",
     "output_type": "stream",
     "text": [
      "Enter a string::innomatics\n"
     ]
    },
    {
     "data": {
      "text/plain": [
       "'scitamonni'"
      ]
     },
     "execution_count": 6,
     "metadata": {},
     "output_type": "execute_result"
    }
   ],
   "source": [
    "def reverse_string(a):\n",
    "    return a[::-1]\n",
    "a = input(\"Enter a string::\")\n",
    "reverse_string(a)"
   ]
  },
  {
   "cell_type": "code",
   "execution_count": null,
   "id": "1b5fc62a",
   "metadata": {},
   "outputs": [],
   "source": []
  },
  {
   "cell_type": "markdown",
   "id": "ab506914",
   "metadata": {},
   "source": [
    "6)Write a function called \"count_vowels\" that takes a string as input and returns the number of vowels (a, e, i, o, u) in that string."
   ]
  },
  {
   "cell_type": "code",
   "execution_count": 7,
   "id": "977c4a2b",
   "metadata": {},
   "outputs": [
    {
     "name": "stdout",
     "output_type": "stream",
     "text": [
      "Enter a string::innomatics Research labs\n",
      "vowels count ::  8\n"
     ]
    }
   ],
   "source": [
    "def count_vowels(a):\n",
    "    vowels = 0\n",
    "    for i in a:\n",
    "        if i in [\"a\",\"e\",\"i\",\"o\",\"u\"]:\n",
    "            vowels += 1\n",
    "    print(\"vowels count :: \",vowels)\n",
    "a = input(\"Enter a string::\")\n",
    "count_vowels(a)"
   ]
  },
  {
   "cell_type": "code",
   "execution_count": null,
   "id": "a3e94714",
   "metadata": {},
   "outputs": [],
   "source": []
  },
  {
   "cell_type": "markdown",
   "id": "bddc49fd",
   "metadata": {},
   "source": [
    "7)Write a function called \"find_max\" that takes a list of numbers as input and returns the maximum value in that list."
   ]
  },
  {
   "cell_type": "code",
   "execution_count": 8,
   "id": "198ca85b",
   "metadata": {},
   "outputs": [
    {
     "data": {
      "text/plain": [
       "100"
      ]
     },
     "execution_count": 8,
     "metadata": {},
     "output_type": "execute_result"
    }
   ],
   "source": [
    "def find_max(num):\n",
    "    return max(num)\n",
    "num = [1,2,3,4,5,6,66,33,55,88,100]\n",
    "find_max(num)"
   ]
  },
  {
   "cell_type": "code",
   "execution_count": null,
   "id": "a46a9148",
   "metadata": {},
   "outputs": [],
   "source": []
  },
  {
   "cell_type": "markdown",
   "id": "f962a2d6",
   "metadata": {},
   "source": [
    "8)Write a function called \"find_min\" that takes a list of numbers as input and returns the minimum value in that list.\n",
    "\n",
    " "
   ]
  },
  {
   "cell_type": "code",
   "execution_count": 9,
   "id": "3ea7a674",
   "metadata": {},
   "outputs": [
    {
     "data": {
      "text/plain": [
       "1"
      ]
     },
     "execution_count": 9,
     "metadata": {},
     "output_type": "execute_result"
    }
   ],
   "source": [
    "def find_min(num):\n",
    "    return min(num)\n",
    "num = [1,2,3,4,5,6,66,33,55,88,100]\n",
    "find_min(num)"
   ]
  },
  {
   "cell_type": "code",
   "execution_count": null,
   "id": "6a0bb462",
   "metadata": {},
   "outputs": [],
   "source": []
  }
 ],
 "metadata": {
  "kernelspec": {
   "display_name": "Python 3 (ipykernel)",
   "language": "python",
   "name": "python3"
  },
  "language_info": {
   "codemirror_mode": {
    "name": "ipython",
    "version": 3
   },
   "file_extension": ".py",
   "mimetype": "text/x-python",
   "name": "python",
   "nbconvert_exporter": "python",
   "pygments_lexer": "ipython3",
   "version": "3.10.12"
  }
 },
 "nbformat": 4,
 "nbformat_minor": 5
}
