{
 "cells": [
  {
   "cell_type": "markdown",
   "id": "5019903e",
   "metadata": {},
   "source": [
    "Task 1:\n",
    "\n",
    "Load the file 'about_python.txt'into your jupyter notebook. a. Correct wrong statements about python fatures b. How many charactaers present in the data c. How many times 'Python' word is repeated. d. after correcting all ..print complete valid features of the python.\n",
    "\n",
    "Task2:\n",
    "\n",
    "Create a file 'File.txt'which expalains python file handling whatever you have learnt today(creating,reading,wring and appending...etc) in detail.That reaload the saved file(i.e File.txt) to jupyter notebook."
   ]
  },
  {
   "cell_type": "code",
   "execution_count": null,
   "id": "7fc57b67",
   "metadata": {},
   "outputs": [],
   "source": []
  },
  {
   "cell_type": "markdown",
   "id": "f77fd79f",
   "metadata": {},
   "source": [
    "Task 1:\n",
    "\n",
    "Load the file 'about_python.txt'into your jupyter notebook. a. Correct wrong statements about python fatures b. How many charactaers present in the data c. How many times 'Python' word is repeated. d. after correcting all ..print complete valid features of the python."
   ]
  },
  {
   "cell_type": "code",
   "execution_count": 1,
   "id": "0270d9b7",
   "metadata": {},
   "outputs": [],
   "source": [
    "file = open('about_python.txt')"
   ]
  },
  {
   "cell_type": "code",
   "execution_count": 2,
   "id": "96d40587",
   "metadata": {},
   "outputs": [
    {
     "name": "stdout",
     "output_type": "stream",
     "text": [
      "Python supports object-oriented programming (OOP) concepts.\n",
      "Python is a compiled language.\n",
      "Python has a rich ecosystem of third-party libraries.\n",
      "Python is a paid programming language\n",
      "Python uses indentation for code block structuring.\n",
      "Python is statically Typed Language\n",
      "Python only supports double quotes for string literals.\n",
      "Python can only be used for web development.\n",
      "Python was created by Elon Musk.\n"
     ]
    }
   ],
   "source": [
    "print(file.read())"
   ]
  },
  {
   "cell_type": "code",
   "execution_count": 3,
   "id": "b31adde1",
   "metadata": {},
   "outputs": [
    {
     "data": {
      "text/plain": [
       "412"
      ]
     },
     "execution_count": 3,
     "metadata": {},
     "output_type": "execute_result"
    }
   ],
   "source": [
    "file.tell()"
   ]
  },
  {
   "cell_type": "code",
   "execution_count": 7,
   "id": "a2e39124",
   "metadata": {},
   "outputs": [
    {
     "data": {
      "text/plain": [
       "0"
      ]
     },
     "execution_count": 7,
     "metadata": {},
     "output_type": "execute_result"
    }
   ],
   "source": [
    "file.seek(0)"
   ]
  },
  {
   "cell_type": "code",
   "execution_count": 8,
   "id": "09487bc3",
   "metadata": {},
   "outputs": [],
   "source": [
    "a = file.read()"
   ]
  },
  {
   "cell_type": "code",
   "execution_count": 9,
   "id": "54d5ff8f",
   "metadata": {},
   "outputs": [
    {
     "name": "stdout",
     "output_type": "stream",
     "text": [
      "Python supports object-oriented programming (OOP) concepts.\n",
      "Python is a compiled language.\n",
      "Python has a rich ecosystem of third-party libraries.\n",
      "Python is a paid programming language\n",
      "Python uses indentation for code block structuring.\n",
      "Python is statically Typed Language\n",
      "Python only supports double quotes for string literals.\n",
      "Python can only be used for web development.\n",
      "Python was created by Elon Musk.\n"
     ]
    }
   ],
   "source": [
    "print(a)"
   ]
  },
  {
   "cell_type": "code",
   "execution_count": 26,
   "id": "140abde8",
   "metadata": {},
   "outputs": [],
   "source": [
    "a1 = a.replace(\"compiled\",\"interpreted\")"
   ]
  },
  {
   "cell_type": "code",
   "execution_count": 27,
   "id": "722a1ac6",
   "metadata": {},
   "outputs": [],
   "source": [
    "a2 = a1.replace(\"paid\",\"open source\")"
   ]
  },
  {
   "cell_type": "code",
   "execution_count": 28,
   "id": "764b555f",
   "metadata": {},
   "outputs": [],
   "source": [
    "a3 = a2.replace(\"statically\",\"dynamic\")"
   ]
  },
  {
   "cell_type": "code",
   "execution_count": 29,
   "id": "093ce824",
   "metadata": {},
   "outputs": [],
   "source": [
    "a4 = a3.replace(\"only supports double quotes\",\"supports both simgle and double quotes\")"
   ]
  },
  {
   "cell_type": "code",
   "execution_count": 30,
   "id": "853c95e1",
   "metadata": {},
   "outputs": [],
   "source": [
    "a5 = a4.replace(\"can only be used for web development\", \"used for Desktop Application, web development, net programming , machine learning, IOT,AI applications\")"
   ]
  },
  {
   "cell_type": "code",
   "execution_count": 31,
   "id": "6041101c",
   "metadata": {},
   "outputs": [],
   "source": [
    "a6 = a5.replace(\"Elon Musk\",\"Gudio van rossum\")"
   ]
  },
  {
   "cell_type": "code",
   "execution_count": 32,
   "id": "5793478c",
   "metadata": {},
   "outputs": [
    {
     "name": "stdout",
     "output_type": "stream",
     "text": [
      "Python supports object-oriented programming (OOP) concepts.\n",
      "Python is a interpreted language.\n",
      "Python has a rich ecosystem of third-party libraries.\n",
      "Python is a open source programming language\n",
      "Python uses indentation for code block structuring.\n",
      "Python is dynamic Typed Language\n",
      "Python supports both simgle and double quotes for string literals.\n",
      "Python used for Desktop Application, web development, net programming , machine learning, IOT,AI applications.\n",
      "Python was created by Gudio van rossum.\n"
     ]
    }
   ],
   "source": [
    "print(a6)   # after correction in txt document"
   ]
  },
  {
   "cell_type": "code",
   "execution_count": 33,
   "id": "c5ae4b2c",
   "metadata": {},
   "outputs": [
    {
     "data": {
      "text/plain": [
       "9"
      ]
     },
     "execution_count": 33,
     "metadata": {},
     "output_type": "execute_result"
    }
   ],
   "source": [
    "a.count(\"Python\") # count of python in txt file."
   ]
  },
  {
   "cell_type": "code",
   "execution_count": 34,
   "id": "3942e4c1",
   "metadata": {},
   "outputs": [
    {
     "name": "stdout",
     "output_type": "stream",
     "text": [
      "Python supports object-oriented programming (OOP) concepts.\n",
      "Python is a interpreted language.\n",
      "Python has a rich ecosystem of third-party libraries.\n",
      "Python is a open source programming language\n",
      "Python uses indentation for code block structuring.\n",
      "Python is dynamic Typed Language\n",
      "Python supports both simgle and double quotes for string literals.\n",
      "Python used for Desktop Application, web development, net programming , machine learning, IOT,AI applications.\n",
      "Python was created by Gudio van rossum.\n"
     ]
    }
   ],
   "source": [
    "print(a6)"
   ]
  },
  {
   "cell_type": "code",
   "execution_count": null,
   "id": "43c3690e",
   "metadata": {},
   "outputs": [],
   "source": []
  },
  {
   "cell_type": "markdown",
   "id": "f993d3e4",
   "metadata": {},
   "source": [
    "Task2:\n",
    "\n",
    "Create a file 'File.txt'which expalains python file handling whatever you have learnt today(creating,reading,wring and appending...etc) in detail.That reaload the saved file(i.e File.txt) to jupyter notebook."
   ]
  },
  {
   "cell_type": "markdown",
   "id": "63009e5a",
   "metadata": {},
   "source": [
    "## creating a file "
   ]
  },
  {
   "cell_type": "code",
   "execution_count": 1,
   "id": "30e652ca",
   "metadata": {},
   "outputs": [],
   "source": [
    "file = open(\"File.txt\",\"x\")"
   ]
  },
  {
   "cell_type": "code",
   "execution_count": 2,
   "id": "07945f8a",
   "metadata": {},
   "outputs": [],
   "source": [
    "# after a creating file now write the content"
   ]
  },
  {
   "cell_type": "code",
   "execution_count": 3,
   "id": "5ab9754b",
   "metadata": {},
   "outputs": [
    {
     "data": {
      "text/plain": [
       "139"
      ]
     },
     "execution_count": 3,
     "metadata": {},
     "output_type": "execute_result"
    }
   ],
   "source": [
    "file.write(\"This Task all about the file handling .\\n In file handling we can write or read or append the txt. \\n Now we can do some experiments on that.\")"
   ]
  },
  {
   "cell_type": "code",
   "execution_count": 4,
   "id": "6c70b12e",
   "metadata": {},
   "outputs": [],
   "source": [
    "file.close()"
   ]
  },
  {
   "cell_type": "code",
   "execution_count": 30,
   "id": "11a5bcd3",
   "metadata": {},
   "outputs": [],
   "source": [
    "file1 = open(\"File.txt\",\"r\")  # opening the file and reading the file "
   ]
  },
  {
   "cell_type": "code",
   "execution_count": 11,
   "id": "2d880a76",
   "metadata": {},
   "outputs": [
    {
     "data": {
      "text/plain": [
       "'This Task all about the file handling .\\n In file handling we can write or read or append the txt. \\n Now we can do some experiments on that.'"
      ]
     },
     "execution_count": 11,
     "metadata": {},
     "output_type": "execute_result"
    }
   ],
   "source": [
    "file1.read() "
   ]
  },
  {
   "cell_type": "code",
   "execution_count": 12,
   "id": "edb6b916",
   "metadata": {},
   "outputs": [
    {
     "data": {
      "text/plain": [
       "141"
      ]
     },
     "execution_count": 12,
     "metadata": {},
     "output_type": "execute_result"
    }
   ],
   "source": [
    "file1.tell()"
   ]
  },
  {
   "cell_type": "code",
   "execution_count": 13,
   "id": "3388439e",
   "metadata": {},
   "outputs": [
    {
     "data": {
      "text/plain": [
       "0"
      ]
     },
     "execution_count": 13,
     "metadata": {},
     "output_type": "execute_result"
    }
   ],
   "source": [
    "file1.seek(0)"
   ]
  },
  {
   "cell_type": "code",
   "execution_count": 14,
   "id": "f78fdc6d",
   "metadata": {},
   "outputs": [
    {
     "name": "stdout",
     "output_type": "stream",
     "text": [
      "This Task all about the file handling .\n",
      " In file handling we can write or read or append the txt. \n",
      " Now we can do some experiments on that.\n"
     ]
    }
   ],
   "source": [
    "print(file1.read())"
   ]
  },
  {
   "cell_type": "code",
   "execution_count": 15,
   "id": "012d5a03",
   "metadata": {},
   "outputs": [],
   "source": [
    "# appending the txt to file"
   ]
  },
  {
   "cell_type": "code",
   "execution_count": 25,
   "id": "7ba922fd",
   "metadata": {},
   "outputs": [],
   "source": [
    "file2 = open(\"File.txt\",\"a\")"
   ]
  },
  {
   "cell_type": "code",
   "execution_count": 26,
   "id": "6b92d8d0",
   "metadata": {},
   "outputs": [
    {
     "data": {
      "text/plain": [
       "49"
      ]
     },
     "execution_count": 26,
     "metadata": {},
     "output_type": "execute_result"
    }
   ],
   "source": [
    "file2.write(\"\\n To joining some txt to the file we use append. \")"
   ]
  },
  {
   "cell_type": "code",
   "execution_count": 27,
   "id": "ee3eb989",
   "metadata": {},
   "outputs": [],
   "source": [
    "file2.close()"
   ]
  },
  {
   "cell_type": "code",
   "execution_count": null,
   "id": "d577ffaa",
   "metadata": {},
   "outputs": [],
   "source": []
  },
  {
   "cell_type": "code",
   "execution_count": 31,
   "id": "8fdf8249",
   "metadata": {},
   "outputs": [
    {
     "name": "stdout",
     "output_type": "stream",
     "text": [
      "This Task all about the file handling .\n",
      " In file handling we can write or read or append the txt. \n",
      " Now we can do some experiments on that.To joining some txt to the file we use append. \n",
      " To joining some txt to the file we use append. \n"
     ]
    }
   ],
   "source": [
    "print(file1.read())"
   ]
  },
  {
   "cell_type": "code",
   "execution_count": null,
   "id": "ebb8f76a",
   "metadata": {},
   "outputs": [],
   "source": []
  }
 ],
 "metadata": {
  "kernelspec": {
   "display_name": "Python 3 (ipykernel)",
   "language": "python",
   "name": "python3"
  },
  "language_info": {
   "codemirror_mode": {
    "name": "ipython",
    "version": 3
   },
   "file_extension": ".py",
   "mimetype": "text/x-python",
   "name": "python",
   "nbconvert_exporter": "python",
   "pygments_lexer": "ipython3",
   "version": "3.10.12"
  }
 },
 "nbformat": 4,
 "nbformat_minor": 5
}
