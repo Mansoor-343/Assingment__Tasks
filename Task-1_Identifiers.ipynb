{
 "cells": [
  {
   "cell_type": "markdown",
   "id": "5efd181d",
   "metadata": {},
   "source": [
    "# Check the valid Identifiers and invalid identifers using Python"
   ]
  },
  {
   "cell_type": "markdown",
   "id": "aebe5a40",
   "metadata": {},
   "source": [
    "1. **Run all the identifiers and seprate valid and Invalid Identifiers?**\n",
    "\n",
    "2. **Why Python treating them as invalid Identifers.Explain?**"
   ]
  },
  {
   "cell_type": "markdown",
   "id": "77c112d3",
   "metadata": {},
   "source": [
    "* my_variable = 25\n",
    "\n",
    "**VALID**\n",
    "\n",
    "* counter = 40.7\n",
    "\n",
    "**VALID**\n",
    "\n",
    "\n",
    "* _total = \"Hello\"\n",
    "\n",
    "**VALID**\n",
    "\n",
    "\n",
    " - 123abc   = 34   \n",
    " \n",
    " **INVALID**    --> We shouldn't start with numbers or digts.\n",
    " \n",
    " \n",
    " - my variable   =6.7\n",
    " \n",
    " **INVALID**   --> We shouldn't give any between variable name instead of space we can use underscore(_).\n",
    " \n",
    " - @count  = \"hi\"      \n",
    " \n",
    " **INVALID**  --> we shouldn't start with any special characters except underscore(_).\n",
    " \n",
    " \n",
    " - for   = \"True\"\n",
    " \n",
    " **INVALID**  --> we shouldn't use keywords as variable name.\n",
    " \n",
    "\n",
    "* Name123 = 136\n",
    "\n",
    "**VALID**\n",
    "\n",
    "\n",
    "* myFunction = True\n",
    "\n",
    "**VALID**\n",
    "\n",
    "* _data = False\n",
    "\n",
    "**VALID**\n",
    "\n",
    "- if_condition? = \"Innomatics\"\n",
    "\n",
    "**INVALID** --> we shouldn't use any special character except underscore(_).\n",
    "\n",
    "- class = \"Hyderabad\"\n",
    "\n",
    "**INVALID** --> we shouldn't not use keyword, here class is keyword."
   ]
  },
  {
   "cell_type": "markdown",
   "id": "35c32a6f",
   "metadata": {},
   "source": [
    "### Use different identifiers and assign the below values"
   ]
  },
  {
   "cell_type": "markdown",
   "id": "d606e5ac",
   "metadata": {},
   "source": [
    "10\n",
    "\n",
    "-5\n",
    "\n",
    "3.14159\n",
    "\n",
    "-0.12345\n",
    "\n",
    "1000\n",
    "\n",
    "\"Hello, World!\"\n",
    "\n",
    "\"Python\"\n",
    "\n",
    "\"I am learning\"\n",
    "\n",
    "\"Text type\"\n",
    "\n",
    "\"String\"\n",
    "\n",
    "True\n",
    "\n",
    "False\n",
    "\n",
    "True\n",
    "\n",
    "False\n",
    "\n",
    "True\n",
    "\n"
   ]
  },
  {
   "cell_type": "markdown",
   "id": "cb41ddeb",
   "metadata": {},
   "source": [
    "1)10"
   ]
  },
  {
   "cell_type": "code",
   "execution_count": 8,
   "id": "d56471f7",
   "metadata": {},
   "outputs": [],
   "source": [
    "number = 10"
   ]
  },
  {
   "cell_type": "markdown",
   "id": "26f41ff0",
   "metadata": {},
   "source": [
    "2)-5"
   ]
  },
  {
   "cell_type": "code",
   "execution_count": 9,
   "id": "7d3153db",
   "metadata": {},
   "outputs": [],
   "source": [
    "neg_num = -5"
   ]
  },
  {
   "cell_type": "markdown",
   "id": "4a4d8100",
   "metadata": {},
   "source": [
    "3)3.14159"
   ]
  },
  {
   "cell_type": "code",
   "execution_count": 10,
   "id": "6b49a698",
   "metadata": {},
   "outputs": [],
   "source": [
    "pie_value = 3.14159"
   ]
  },
  {
   "cell_type": "markdown",
   "id": "b18f5df5",
   "metadata": {},
   "source": [
    "4)-0.12345"
   ]
  },
  {
   "cell_type": "code",
   "execution_count": 11,
   "id": "dc65aa7b",
   "metadata": {},
   "outputs": [],
   "source": [
    "neg_value = -0.12345"
   ]
  },
  {
   "cell_type": "markdown",
   "id": "7011157b",
   "metadata": {},
   "source": [
    "5)1000"
   ]
  },
  {
   "cell_type": "code",
   "execution_count": 12,
   "id": "74179840",
   "metadata": {},
   "outputs": [],
   "source": [
    "Thousand = 1000"
   ]
  },
  {
   "cell_type": "markdown",
   "id": "719fa7dd",
   "metadata": {},
   "source": [
    "6)\"Hello, World!\""
   ]
  },
  {
   "cell_type": "code",
   "execution_count": 13,
   "id": "5d447be5",
   "metadata": {},
   "outputs": [],
   "source": [
    "string = \"Hello, World!\""
   ]
  },
  {
   "cell_type": "markdown",
   "id": "462dcec4",
   "metadata": {},
   "source": [
    "7)\"Python\""
   ]
  },
  {
   "cell_type": "code",
   "execution_count": 14,
   "id": "0207bb2e",
   "metadata": {},
   "outputs": [],
   "source": [
    "programming_lan = \"Python\""
   ]
  },
  {
   "cell_type": "markdown",
   "id": "f027e2a4",
   "metadata": {},
   "source": [
    "8)\"I am learning\""
   ]
  },
  {
   "cell_type": "code",
   "execution_count": 15,
   "id": "8c4eb976",
   "metadata": {},
   "outputs": [],
   "source": [
    "sentence = \"I am learning\""
   ]
  },
  {
   "cell_type": "markdown",
   "id": "95ef83af",
   "metadata": {},
   "source": [
    "9)\"Text type\""
   ]
  },
  {
   "cell_type": "code",
   "execution_count": 16,
   "id": "d6de04cf",
   "metadata": {},
   "outputs": [],
   "source": [
    "type_of = \"Text type\""
   ]
  },
  {
   "cell_type": "markdown",
   "id": "eed37dad",
   "metadata": {},
   "source": [
    "10)\"String\""
   ]
  },
  {
   "cell_type": "code",
   "execution_count": 17,
   "id": "16b0f16e",
   "metadata": {},
   "outputs": [],
   "source": [
    "data_type = \"String\""
   ]
  },
  {
   "cell_type": "markdown",
   "id": "dee79eb5",
   "metadata": {},
   "source": [
    "11)True"
   ]
  },
  {
   "cell_type": "code",
   "execution_count": 18,
   "id": "604cbd25",
   "metadata": {},
   "outputs": [],
   "source": [
    "function = True"
   ]
  },
  {
   "cell_type": "markdown",
   "id": "d4e60e12",
   "metadata": {},
   "source": [
    "12)False"
   ]
  },
  {
   "cell_type": "code",
   "execution_count": 20,
   "id": "d050b7ab",
   "metadata": {},
   "outputs": [],
   "source": [
    "empty_str = False "
   ]
  },
  {
   "cell_type": "markdown",
   "id": "2914f7d8",
   "metadata": {},
   "source": [
    "13)True"
   ]
  },
  {
   "cell_type": "code",
   "execution_count": 21,
   "id": "a88e90a1",
   "metadata": {},
   "outputs": [],
   "source": [
    "method = True"
   ]
  },
  {
   "cell_type": "markdown",
   "id": "fcad9c00",
   "metadata": {},
   "source": [
    "14)False"
   ]
  },
  {
   "cell_type": "code",
   "execution_count": 22,
   "id": "5a053ad7",
   "metadata": {},
   "outputs": [],
   "source": [
    "zero = False"
   ]
  },
  {
   "cell_type": "markdown",
   "id": "9275e14f",
   "metadata": {},
   "source": [
    "15)True"
   ]
  },
  {
   "cell_type": "code",
   "execution_count": 24,
   "id": "25a2dc19",
   "metadata": {},
   "outputs": [],
   "source": [
    "Someone = True"
   ]
  }
 ],
 "metadata": {
  "kernelspec": {
   "display_name": "Python 3 (ipykernel)",
   "language": "python",
   "name": "python3"
  },
  "language_info": {
   "codemirror_mode": {
    "name": "ipython",
    "version": 3
   },
   "file_extension": ".py",
   "mimetype": "text/x-python",
   "name": "python",
   "nbconvert_exporter": "python",
   "pygments_lexer": "ipython3",
   "version": "3.10.12"
  }
 },
 "nbformat": 4,
 "nbformat_minor": 5
}
