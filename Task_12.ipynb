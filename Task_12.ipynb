{
 "cells": [
  {
   "cell_type": "markdown",
   "id": "2763929f",
   "metadata": {},
   "source": [
    "while loops and their use in programming.\n",
    "\n",
    "1)Write a Python program that uses a while loop to print the numbers from A to P.\n",
    "\n",
    "2)Modify the program to print only the even numbers from 1 to 20 except mutiple of 3 using a while loop.\n",
    "\n",
    "3)Create a program that prompts the user for an integer input and then uses a while loop to print the countdown from that number to 1.\n",
    "\n",
    "4)Write a Python program that uses a while loop to repeatedly ask the user to enter a number. If the user enters 0, exit the loop using the break statement. Otherwise, continue prompting for numbers.\n",
    "\n",
    "5)Create a program that uses a while loop to print the numbers from 1 to 20, but skip printing the numbers 5, 10, and 15 using the continue statement.\n",
    "\n",
    "6)Write a Python program that simulates a simple password entry system. Ask the user to enter a password, and use a while loop to repeatedly prompt for the password until the correct password \"abc123\" is entered. Once the correct password is entered, exit the loop.\n",
    "\n",
    "7)Calculate and print the sum of all the positive integers entered by the user.\n",
    "\n"
   ]
  },
  {
   "cell_type": "code",
   "execution_count": null,
   "id": "e82817a5",
   "metadata": {},
   "outputs": [],
   "source": []
  },
  {
   "cell_type": "markdown",
   "id": "f8d72a89",
   "metadata": {},
   "source": [
    "1)Write a Python program that uses a while loop to print the numbers from A to P."
   ]
  },
  {
   "cell_type": "code",
   "execution_count": 3,
   "id": "e456473f",
   "metadata": {},
   "outputs": [
    {
     "name": "stdout",
     "output_type": "stream",
     "text": [
      "A\n",
      "B\n",
      "C\n",
      "D\n",
      "E\n",
      "F\n",
      "G\n",
      "H\n",
      "I\n",
      "J\n",
      "K\n",
      "L\n",
      "M\n",
      "N\n",
      "O\n",
      "P\n"
     ]
    }
   ],
   "source": [
    "n=0\n",
    "while n<16:\n",
    "    print(chr(65+n))\n",
    "    n +=1"
   ]
  },
  {
   "cell_type": "code",
   "execution_count": null,
   "id": "ecbda9b4",
   "metadata": {},
   "outputs": [],
   "source": []
  },
  {
   "cell_type": "markdown",
   "id": "c599d46d",
   "metadata": {},
   "source": [
    "2)Modify the program to print only the even numbers from 1 to 20 except mutiple of 3 using a while loop."
   ]
  },
  {
   "cell_type": "code",
   "execution_count": 1,
   "id": "a2b7ab89",
   "metadata": {},
   "outputs": [
    {
     "name": "stdout",
     "output_type": "stream",
     "text": [
      "2\n",
      "4\n",
      "8\n",
      "10\n",
      "14\n",
      "16\n",
      "20\n"
     ]
    }
   ],
   "source": [
    "n=1\n",
    "while n<21:\n",
    "    if n%3==0:\n",
    "        pass\n",
    "    elif n%2==0:\n",
    "        print(n)\n",
    "    n+=1\n",
    "        "
   ]
  },
  {
   "cell_type": "code",
   "execution_count": null,
   "id": "6ceb3776",
   "metadata": {},
   "outputs": [],
   "source": []
  },
  {
   "cell_type": "markdown",
   "id": "e34e6934",
   "metadata": {},
   "source": [
    "3)Create a program that prompts the user for an integer input and then uses a while loop to print the countdown from that number to 1."
   ]
  },
  {
   "cell_type": "code",
   "execution_count": 4,
   "id": "12b5654c",
   "metadata": {},
   "outputs": [
    {
     "name": "stdout",
     "output_type": "stream",
     "text": [
      "Enter a number ::30\n",
      "30 29 28 27 26 25 24 23 22 21 20 19 18 17 16 15 14 13 12 11 10 9 8 7 6 5 4 3 2 1 "
     ]
    }
   ],
   "source": [
    "n = int(input(\"Enter a number ::\"))\n",
    "while n>0:\n",
    "    print(n,end = \" \")\n",
    "    n -=1"
   ]
  },
  {
   "cell_type": "code",
   "execution_count": null,
   "id": "9dfea865",
   "metadata": {},
   "outputs": [],
   "source": []
  },
  {
   "cell_type": "markdown",
   "id": "bac0c4f4",
   "metadata": {},
   "source": [
    "4)Write a Python program that uses a while loop to repeatedly ask the user to enter a number. If the user enters 0, exit the loop using the break statement. Otherwise, continue prompting for numbers."
   ]
  },
  {
   "cell_type": "code",
   "execution_count": 1,
   "id": "8dc0052f",
   "metadata": {},
   "outputs": [
    {
     "name": "stdout",
     "output_type": "stream",
     "text": [
      "Enter a number::7\n",
      "Enter a number::3\n",
      "Enter a number::2\n",
      "Enter a number::3\n",
      "Enter a number::4\n",
      "Enter a number::0\n"
     ]
    }
   ],
   "source": [
    "num = int(input(\"Enter a number::\"))\n",
    "while num!=0:\n",
    "    num = int(input(\"Enter a number::\"))\n",
    "    continue\n",
    "    "
   ]
  },
  {
   "cell_type": "code",
   "execution_count": null,
   "id": "f3e9b83f",
   "metadata": {},
   "outputs": [],
   "source": []
  },
  {
   "cell_type": "markdown",
   "id": "792c9bb6",
   "metadata": {},
   "source": [
    "5)Create a program that uses a while loop to print the numbers from 1 to 20, but skip printing the numbers 5, 10, and 15 using the continue statement."
   ]
  },
  {
   "cell_type": "code",
   "execution_count": 2,
   "id": "3299a36a",
   "metadata": {},
   "outputs": [
    {
     "name": "stdout",
     "output_type": "stream",
     "text": [
      "1\n",
      "2\n",
      "3\n",
      "4\n",
      "6\n",
      "7\n",
      "8\n",
      "9\n",
      "11\n",
      "12\n",
      "13\n",
      "14\n",
      "16\n",
      "17\n",
      "18\n",
      "19\n",
      "20\n"
     ]
    }
   ],
   "source": [
    "a=1\n",
    "while a<21:\n",
    "    \n",
    "    if a in [5,10,15]:\n",
    "        a +=1\n",
    "        continue\n",
    "    else:\n",
    "        print(a)\n",
    "        a +=1"
   ]
  },
  {
   "cell_type": "code",
   "execution_count": null,
   "id": "bd85c8cf",
   "metadata": {},
   "outputs": [],
   "source": []
  },
  {
   "cell_type": "markdown",
   "id": "231f96a3",
   "metadata": {},
   "source": [
    "6)Write a Python program that simulates a simple password entry system. Ask the user to enter a password, and use a while loop to repeatedly prompt for the password until the correct password \"abc123\" is entered. Once the correct password is entered, exit the loop."
   ]
  },
  {
   "cell_type": "code",
   "execution_count": 5,
   "id": "6dbed0ad",
   "metadata": {},
   "outputs": [
    {
     "name": "stdout",
     "output_type": "stream",
     "text": [
      "Enter a password::man656\n",
      "Enter a password::sat7866\n",
      "Enter a password::hee77\n",
      "Enter a password::abc123\n",
      "password is correct\n"
     ]
    }
   ],
   "source": [
    "password = input(\"Enter a password::\")\n",
    "while password:\n",
    "    if password ==  \"abc123\":\n",
    "        print(\"password is correct\")\n",
    "        break\n",
    "    else:\n",
    "        password = input(\"Enter a password::\")"
   ]
  },
  {
   "cell_type": "code",
   "execution_count": null,
   "id": "c7379e5b",
   "metadata": {},
   "outputs": [],
   "source": []
  },
  {
   "cell_type": "markdown",
   "id": "f796193e",
   "metadata": {},
   "source": [
    "7)Calculate and print the sum of all the positive integers entered by the user.\n",
    "\n"
   ]
  },
  {
   "cell_type": "code",
   "execution_count": 4,
   "id": "30a666c7",
   "metadata": {},
   "outputs": [
    {
     "name": "stdout",
     "output_type": "stream",
     "text": [
      "how many number do you want to add::10\n",
      "Enter a number::1\n",
      "Enter a number::12\n",
      "Enter a number::21\n",
      "Enter a number::21\n",
      "Enter a number::33\n",
      "Enter a number::3\n",
      "Enter a number::3\n",
      "Enter a number::2\n",
      "Enter a number::3\n",
      "Enter a number::4\n",
      "sum: 103\n"
     ]
    }
   ],
   "source": [
    "num = int(input(\"how many number do you want to add::\"))\n",
    "sum = 0\n",
    "while num:\n",
    "    for i in range(1,num+1):\n",
    "        if i>0:\n",
    "            n = int(input(\"Enter a number::\"))\n",
    "            sum += n\n",
    "        else:\n",
    "            print(\"Enter positive number only\")\n",
    "    print(\"sum:\",sum)\n",
    "    break"
   ]
  },
  {
   "cell_type": "markdown",
   "id": "f1472cc9",
   "metadata": {},
   "source": []
  },
  {
   "cell_type": "code",
   "execution_count": null,
   "id": "1502527a",
   "metadata": {},
   "outputs": [],
   "source": []
  }
 ],
 "metadata": {
  "kernelspec": {
   "display_name": "Python 3 (ipykernel)",
   "language": "python",
   "name": "python3"
  },
  "language_info": {
   "codemirror_mode": {
    "name": "ipython",
    "version": 3
   },
   "file_extension": ".py",
   "mimetype": "text/x-python",
   "name": "python",
   "nbconvert_exporter": "python",
   "pygments_lexer": "ipython3",
   "version": "3.10.12"
  }
 },
 "nbformat": 4,
 "nbformat_minor": 5
}
