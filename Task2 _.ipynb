{
 "cells": [
  {
   "cell_type": "markdown",
   "id": "b8536ea7",
   "metadata": {},
   "source": [
    "* Write a program that calculates the `sum, difference, product, and quotient` of two numbers: 10 and 5.\n",
    "\n",
    "* Create a program that calculates the `area of a circle` with a radius of 4.5 units."
   ]
  },
  {
   "cell_type": "markdown",
   "id": "3f81b9d8",
   "metadata": {},
   "source": [
    "*  Write a program that `swaps` the values of two variables: x with a value of 5 and \"y\" with a value of 10.\n",
    "* Create a program that calculates `compound interest` for a principal amount of $1000, an interest rate of 5%, and a time period of 3 years."
   ]
  },
  {
   "cell_type": "markdown",
   "id": "768483d0",
   "metadata": {},
   "source": [
    "* Write a program that `compares` two numbers: 7 and 12, and determines whether the first number is greater than, less than, or equal to the second number.\n",
    "* Create a program that `checks` if a person of age 18 is eligible to vote based on the voting age requirement.(True/False)"
   ]
  },
  {
   "cell_type": "markdown",
   "id": "7881a204",
   "metadata": {},
   "source": [
    "* Create a program that `swaps` the values of two integers: `a` with a value of 10 and `b` with a value of 20 using\n",
    " *  bitwise XOR (^) operator.\n",
    " * Logical AND\n",
    " * Logical OR\n",
    " * Logical NOT"
   ]
  },
  {
   "cell_type": "markdown",
   "id": "1844e65c",
   "metadata": {},
   "source": [
    "*  Create a Python program that calculates the `area of a rectangle`. Prompt the `user to enter` the length and width of the rectangle, `store them` in variables, and compute the area using the formula:area length width.Finally, `print the calculated area.\n",
    "\n",
    "* Create a Python program that calculates the `average` of three exam scores. Prompt the user to enter the scores, `store them` in variables, calculate the average, and print the result.\n",
    "\n",
    "* Write a Python program that `converts` temperature from Celsius to Fahrenheit. Prompt the user to enter a temperature in Celsius, store it in a variable, and convert it to Fahrenheit using the formula: `Fahrenheit = (Celsius* 9/5)+32`, and print the converted temperature.\n",
    "\n",
    "* What are the `logical operators` in Python? Explain `each one` with an example.\n",
    "\n",
    "* What are the `membership` operators in Python? Explain their usage with examples\n",
    "\n",
    "* List and briefly explain the `basic data types` available in Python.\n",
    "\n",
    "* Write a Python code snippet that `assigns a value to a variable `and determines its `data type` using the type() function."
   ]
  },
  {
   "cell_type": "markdown",
   "id": "95ed62b5",
   "metadata": {},
   "source": [
    "Assignment: Basic Python Operators\n",
    "\n",
    "**Task 1: Arithmetic Operators**\n",
    "1. Write a Python program that takes two user-input numbers and displays their sum using the addition operator.\n",
    "2. Create a program to calculate the area of a rectangle. Prompt the user for the length and width, then use multiplication to find the area.\n",
    "3. Implement a program that converts temperature from Celsius to Fahrenheit using the formula: Fahrenheit = (Celsius * 9/5) + 32.\n",
    "\n",
    "**Task 2: Comparison Operators**\n",
    "1. Write a program that compares two user-input numbers and prints whether the first number is greater than the second number or not.\n",
    "2. Create a program that determines whether a user-input year is a leap year or not. A leap year is divisible by 4 and not divisible by 100, unless it is also divisible by 400.\n",
    "3. Implement a simple guessing game. Generate a random number between 1 and 100 and have the user guess the number. Provide feedback if their guess is too high or too low, and let them know when they've guessed correctly.\n",
    "\n",
    "**Task 3: Logical Operators**\n",
    "1. Write a program that checks whether a user-input number is positive and even using logical AND (`and`) operator.\n",
    "2. Create a login system where you define a correct username and password. Ask the user for their input and compare it with the correct credentials using logical OR (`or`) operator. Provide access if either the username or password is correct.\n",
    "3. Implement a program that determines whether a given year is a leap year and divisible by 7 using logical NOT (`not`) operator.\n",
    "\n",
    "**Task 4: Assignment Operators**\n",
    "1. Write a program to calculate the square of a number using the exponentiation operator (`**`) and assign it back to the same variable.\n",
    "2. Create a program that keeps track of the total score in a game. Prompt the user for their latest score and update the total score using the addition assignment operator (`+=`).\n",
    "3. Implement a program to convert seconds into hours, minutes, and remaining seconds using both division and modulo operators, and then assign each value using assignment operators.\n",
    "\n",
    "**Task 5: Bitwise Operators**\n",
    "1. Write a program that performs a bitwise AND operation between two user-input numbers and displays the result.\n",
    "2. Create a program to toggle the nth bit of a given number. Ask the user for the number and the value of n, then use bitwise XOR (^) operator to toggle the bit.\n",
    "3. Implement a program to swap the values of two variables without using a temporary variable, only using bitwise XOR (^) operator.\n",
    "\n"
   ]
  },
  {
   "cell_type": "markdown",
   "id": "5a08abfe",
   "metadata": {},
   "source": [
    "Write a program that calculates the sum, difference, product, and quotient of two numbers: 10 and 5."
   ]
  },
  {
   "cell_type": "code",
   "execution_count": 1,
   "id": "e27fdbff",
   "metadata": {},
   "outputs": [],
   "source": [
    "a = 10\n",
    "b = 5"
   ]
  },
  {
   "cell_type": "code",
   "execution_count": 3,
   "id": "e493031e",
   "metadata": {},
   "outputs": [
    {
     "data": {
      "text/plain": [
       "15"
      ]
     },
     "execution_count": 3,
     "metadata": {},
     "output_type": "execute_result"
    }
   ],
   "source": [
    "a+b   # sum"
   ]
  },
  {
   "cell_type": "code",
   "execution_count": 4,
   "id": "89c1a0f4",
   "metadata": {},
   "outputs": [
    {
     "data": {
      "text/plain": [
       "5"
      ]
     },
     "execution_count": 4,
     "metadata": {},
     "output_type": "execute_result"
    }
   ],
   "source": [
    "a-b # difference"
   ]
  },
  {
   "cell_type": "code",
   "execution_count": 5,
   "id": "5cde82aa",
   "metadata": {},
   "outputs": [
    {
     "data": {
      "text/plain": [
       "50"
      ]
     },
     "execution_count": 5,
     "metadata": {},
     "output_type": "execute_result"
    }
   ],
   "source": [
    "a*b # product"
   ]
  },
  {
   "cell_type": "code",
   "execution_count": 6,
   "id": "418c65a5",
   "metadata": {},
   "outputs": [
    {
     "data": {
      "text/plain": [
       "2"
      ]
     },
     "execution_count": 6,
     "metadata": {},
     "output_type": "execute_result"
    }
   ],
   "source": [
    "a//b # quotient"
   ]
  },
  {
   "cell_type": "markdown",
   "id": "e444bf5e",
   "metadata": {},
   "source": [
    "Create a program that calculates the area of a circle with a radius of 4.5 units."
   ]
  },
  {
   "cell_type": "code",
   "execution_count": 9,
   "id": "3fe57ae9",
   "metadata": {},
   "outputs": [
    {
     "data": {
      "text/plain": [
       "63.6172512351975"
      ]
     },
     "execution_count": 9,
     "metadata": {},
     "output_type": "execute_result"
    }
   ],
   "source": [
    "r = 4.5\n",
    "# area of circle is pi * r**2\n",
    "pi = 3.14159265359\n",
    "area = pi * r**2\n",
    "area"
   ]
  },
  {
   "cell_type": "markdown",
   "id": "9eaaddfd",
   "metadata": {},
   "source": [
    "Write a program that swaps the values of two variables: x with a value of 5 and \"y\" with a value of 10."
   ]
  },
  {
   "cell_type": "code",
   "execution_count": 11,
   "id": "0079a7d3",
   "metadata": {},
   "outputs": [],
   "source": [
    "\n",
    "\n",
    "x,y= (5,10)"
   ]
  },
  {
   "cell_type": "code",
   "execution_count": 12,
   "id": "23a955ef",
   "metadata": {},
   "outputs": [
    {
     "data": {
      "text/plain": [
       "5"
      ]
     },
     "execution_count": 12,
     "metadata": {},
     "output_type": "execute_result"
    }
   ],
   "source": [
    "x"
   ]
  },
  {
   "cell_type": "code",
   "execution_count": 13,
   "id": "395c55ab",
   "metadata": {},
   "outputs": [
    {
     "data": {
      "text/plain": [
       "10"
      ]
     },
     "execution_count": 13,
     "metadata": {},
     "output_type": "execute_result"
    }
   ],
   "source": [
    "y"
   ]
  },
  {
   "cell_type": "code",
   "execution_count": 14,
   "id": "60cb7a6f",
   "metadata": {},
   "outputs": [],
   "source": [
    "x,y = y,x # after swap"
   ]
  },
  {
   "cell_type": "code",
   "execution_count": 15,
   "id": "859471b0",
   "metadata": {},
   "outputs": [
    {
     "data": {
      "text/plain": [
       "5"
      ]
     },
     "execution_count": 15,
     "metadata": {},
     "output_type": "execute_result"
    }
   ],
   "source": [
    "y"
   ]
  },
  {
   "cell_type": "code",
   "execution_count": 16,
   "id": "6fc20fd6",
   "metadata": {},
   "outputs": [
    {
     "data": {
      "text/plain": [
       "10"
      ]
     },
     "execution_count": 16,
     "metadata": {},
     "output_type": "execute_result"
    }
   ],
   "source": [
    "x"
   ]
  },
  {
   "cell_type": "markdown",
   "id": "125b3c36",
   "metadata": {},
   "source": [
    "Create a program that calculates compound interest for a principal amount of $1000, an interest rate of 5%, and a time period of 3 years."
   ]
  },
  {
   "cell_type": "code",
   "execution_count": 21,
   "id": "3d063e5b",
   "metadata": {},
   "outputs": [
    {
     "name": "stdout",
     "output_type": "stream",
     "text": [
      "157.62500000000023\n"
     ]
    }
   ],
   "source": [
    "PA = 1000\n",
    "r = 5\n",
    "t= 3\n",
    "amount = PA * (1 + r/100)**t\n",
    "\n",
    "CI = amount - PA\n",
    "print(CI)"
   ]
  },
  {
   "cell_type": "markdown",
   "id": "cbdda720",
   "metadata": {},
   "source": [
    "Write a program that compares two numbers: 7 and 12, and determines whether the first number is greater than, less than, or equal to the second number."
   ]
  },
  {
   "cell_type": "code",
   "execution_count": 23,
   "id": "dd0662c2",
   "metadata": {},
   "outputs": [
    {
     "data": {
      "text/plain": [
       "False"
      ]
     },
     "execution_count": 23,
     "metadata": {},
     "output_type": "execute_result"
    }
   ],
   "source": [
    "7>12"
   ]
  },
  {
   "cell_type": "code",
   "execution_count": 24,
   "id": "a818cd67",
   "metadata": {},
   "outputs": [
    {
     "data": {
      "text/plain": [
       "True"
      ]
     },
     "execution_count": 24,
     "metadata": {},
     "output_type": "execute_result"
    }
   ],
   "source": [
    "7<12   # first number is less than second --> True"
   ]
  },
  {
   "cell_type": "code",
   "execution_count": 25,
   "id": "d9607763",
   "metadata": {},
   "outputs": [
    {
     "data": {
      "text/plain": [
       "False"
      ]
     },
     "execution_count": 25,
     "metadata": {},
     "output_type": "execute_result"
    }
   ],
   "source": [
    "7==12"
   ]
  },
  {
   "cell_type": "markdown",
   "id": "7878d7c1",
   "metadata": {},
   "source": [
    "Create a program that checks if a person of age 18 is eligible to vote based on the voting age requirement.(True/False)"
   ]
  },
  {
   "cell_type": "code",
   "execution_count": 26,
   "id": "5baa1bbc",
   "metadata": {},
   "outputs": [
    {
     "name": "stdout",
     "output_type": "stream",
     "text": [
      "eligible\n"
     ]
    }
   ],
   "source": [
    "age = 18 \n",
    "if age>= 18:\n",
    "    print(\"eligible\")\n",
    "else:\n",
    "    print(\"not eligible\")"
   ]
  },
  {
   "cell_type": "markdown",
   "id": "fe44da36",
   "metadata": {},
   "source": [
    "Create a program that swaps the values of two integers: a with a value of 10 and b with a value of 20 using\n",
    "    \n",
    "bitwise XOR (^) operator.\n"
   ]
  },
  {
   "cell_type": "code",
   "execution_count": 58,
   "id": "185452f8",
   "metadata": {},
   "outputs": [],
   "source": [
    "# Bitwise XOR(^)\n",
    "a = 10   \n",
    "b  = 20\n",
    "a= a^b\n",
    "b= a^b\n",
    "a = a^b"
   ]
  },
  {
   "cell_type": "code",
   "execution_count": 59,
   "id": "d755d56d",
   "metadata": {},
   "outputs": [
    {
     "data": {
      "text/plain": [
       "20"
      ]
     },
     "execution_count": 59,
     "metadata": {},
     "output_type": "execute_result"
    }
   ],
   "source": [
    "a"
   ]
  },
  {
   "cell_type": "code",
   "execution_count": 60,
   "id": "45b02149",
   "metadata": {},
   "outputs": [
    {
     "data": {
      "text/plain": [
       "10"
      ]
     },
     "execution_count": 60,
     "metadata": {},
     "output_type": "execute_result"
    }
   ],
   "source": [
    "b"
   ]
  },
  {
   "cell_type": "code",
   "execution_count": 61,
   "id": "44d75435",
   "metadata": {},
   "outputs": [
    {
     "data": {
      "text/plain": [
       "30"
      ]
     },
     "execution_count": 61,
     "metadata": {},
     "output_type": "execute_result"
    }
   ],
   "source": [
    "10^20"
   ]
  },
  {
   "cell_type": "code",
   "execution_count": 62,
   "id": "17736760",
   "metadata": {},
   "outputs": [
    {
     "data": {
      "text/plain": [
       "10"
      ]
     },
     "execution_count": 62,
     "metadata": {},
     "output_type": "execute_result"
    }
   ],
   "source": [
    "30^20"
   ]
  },
  {
   "cell_type": "code",
   "execution_count": 63,
   "id": "4494a4be",
   "metadata": {},
   "outputs": [
    {
     "data": {
      "text/plain": [
       "20"
      ]
     },
     "execution_count": 63,
     "metadata": {},
     "output_type": "execute_result"
    }
   ],
   "source": [
    "30^10"
   ]
  },
  {
   "cell_type": "markdown",
   "id": "86dd0bff",
   "metadata": {},
   "source": [
    "Create a Python program that calculates the area of a rectangle. Prompt the user to enter the length and width of the rectangle, store them in variables, and compute the area using the formula:area length width.Finally, `print the calculated area."
   ]
  },
  {
   "cell_type": "code",
   "execution_count": 1,
   "id": "614363fa",
   "metadata": {},
   "outputs": [
    {
     "name": "stdout",
     "output_type": "stream",
     "text": [
      "enter the lenth:4\n",
      "enter the width :5\n",
      "20\n"
     ]
    }
   ],
   "source": [
    "length = int(input(\"enter the lenth:\"))\n",
    "width = int(input(\"enter the width :\"))\n",
    "area = length * width\n",
    "print(area)"
   ]
  },
  {
   "cell_type": "markdown",
   "id": "6c51e1f5",
   "metadata": {},
   "source": [
    "Create a Python program that calculates the average of three exam scores. Prompt the user to enter the scores, store them in variables, calculate the average, and print the result."
   ]
  },
  {
   "cell_type": "code",
   "execution_count": 3,
   "id": "94725304",
   "metadata": {},
   "outputs": [
    {
     "name": "stdout",
     "output_type": "stream",
     "text": [
      "enter score_1:20\n",
      "enter score_2:40\n",
      "enter score_3:20\n",
      "26.666666666666668\n"
     ]
    }
   ],
   "source": [
    "\n",
    "score_1 = int(input(\"enter score_1:\"))\n",
    "score_2 = int(input(\"enter score_2:\"))\n",
    "score_3 = int(input(\"enter score_3:\"))\n",
    "no_of_students = 3\n",
    "sum_scores = score_1 + score_2 + score_3\n",
    "average = sum_scores/no_of_students\n",
    "print(average)\n",
    "\n"
   ]
  },
  {
   "cell_type": "markdown",
   "id": "5ae8a2a1",
   "metadata": {},
   "source": [
    "Write a Python program that converts temperature from Celsius to Fahrenheit. Prompt the user to enter a temperature in Celsius, store it in a variable, and convert it to Fahrenheit using the formula: Fahrenheit = (Celsius* 9/5)+32, and print the converted temperature."
   ]
  },
  {
   "cell_type": "code",
   "execution_count": 5,
   "id": "ee5da157",
   "metadata": {},
   "outputs": [
    {
     "name": "stdout",
     "output_type": "stream",
     "text": [
      "enter a celsius:45\n",
      "113.0\n"
     ]
    }
   ],
   "source": [
    "celsius = int(input(\"enter a celsius:\"))\n",
    "Fahrenheit = (celsius* 9/5)+32\n",
    "print(Fahrenheit)"
   ]
  },
  {
   "cell_type": "markdown",
   "id": "899c6519",
   "metadata": {},
   "source": [
    "What are the logical operators in Python? Explain each one with an example."
   ]
  },
  {
   "cell_type": "markdown",
   "id": "4ef13c7a",
   "metadata": {},
   "source": [
    "Logical operator are : and , or and not\n",
    "\n",
    "- 'and' logical operator --> has condition and value \n",
    "\n",
    "        if any condition false, the complete condition is false.\n",
    "        \n",
    "        in value 'and' operator takes the last value ."
   ]
  },
  {
   "cell_type": "code",
   "execution_count": 11,
   "id": "79e166b9",
   "metadata": {},
   "outputs": [
    {
     "data": {
      "text/plain": [
       "False"
      ]
     },
     "execution_count": 11,
     "metadata": {},
     "output_type": "execute_result"
    }
   ],
   "source": [
    "# examples\n",
    "a = 10 # conditions\n",
    "b = 20\n",
    "(a<b) and (b<a)"
   ]
  },
  {
   "cell_type": "code",
   "execution_count": 9,
   "id": "5373514b",
   "metadata": {},
   "outputs": [
    {
     "data": {
      "text/plain": [
       "30"
      ]
     },
     "execution_count": 9,
     "metadata": {},
     "output_type": "execute_result"
    }
   ],
   "source": [
    "10 and 20 and 30   #values"
   ]
  },
  {
   "cell_type": "markdown",
   "id": "9a144a62",
   "metadata": {},
   "source": [
    " - or logical operator --> has condition and value \n",
    "    \n",
    "    - if any condition is True , the complete condition is true\n",
    "    \n",
    "    - in value 'or' operator takes first value\n",
    "    "
   ]
  },
  {
   "cell_type": "code",
   "execution_count": 10,
   "id": "0106edc8",
   "metadata": {},
   "outputs": [
    {
     "data": {
      "text/plain": [
       "True"
      ]
     },
     "execution_count": 10,
     "metadata": {},
     "output_type": "execute_result"
    }
   ],
   "source": [
    "# examples \n",
    "a= 10  # condition\n",
    "b = 45\n",
    "(a<b) or (a>=b)"
   ]
  },
  {
   "cell_type": "code",
   "execution_count": 12,
   "id": "cd2fb6a6",
   "metadata": {},
   "outputs": [
    {
     "data": {
      "text/plain": [
       "13"
      ]
     },
     "execution_count": 12,
     "metadata": {},
     "output_type": "execute_result"
    }
   ],
   "source": [
    "13 or 67 or 78  # values"
   ]
  },
  {
   "cell_type": "markdown",
   "id": "9cdacac2",
   "metadata": {},
   "source": [
    "- not logical operator --> condition and value \n",
    "\n",
    "        - if condition is true its gives output as false\n",
    "    \n",
    "        - only 0, 0.0 , \"\" this values are consider as False remaining are True\n",
    "        \n",
    "    "
   ]
  },
  {
   "cell_type": "code",
   "execution_count": 14,
   "id": "c9fe9f8b",
   "metadata": {},
   "outputs": [
    {
     "data": {
      "text/plain": [
       "True"
      ]
     },
     "execution_count": 14,
     "metadata": {},
     "output_type": "execute_result"
    }
   ],
   "source": [
    "# examples\n",
    "a = 56\n",
    "b = 76\n",
    "not(a>b)"
   ]
  },
  {
   "cell_type": "code",
   "execution_count": 15,
   "id": "74e91241",
   "metadata": {},
   "outputs": [
    {
     "data": {
      "text/plain": [
       "False"
      ]
     },
     "execution_count": 15,
     "metadata": {},
     "output_type": "execute_result"
    }
   ],
   "source": [
    "not 3"
   ]
  },
  {
   "cell_type": "code",
   "execution_count": 16,
   "id": "ffac5786",
   "metadata": {},
   "outputs": [
    {
     "data": {
      "text/plain": [
       "True"
      ]
     },
     "execution_count": 16,
     "metadata": {},
     "output_type": "execute_result"
    }
   ],
   "source": [
    "not 0.00000"
   ]
  },
  {
   "cell_type": "markdown",
   "id": "dc64523c",
   "metadata": {},
   "source": [
    "What are the membership operators in Python? Explain their usage with examples"
   ]
  },
  {
   "cell_type": "markdown",
   "id": "7a615363",
   "metadata": {},
   "source": [
    "###### Membership operator(in, not in) \n",
    "\n",
    "- its check the characters  of the string wheather its present or not --> which give the output as True or False\n",
    "\n",
    "- its even the checks the spaces to ."
   ]
  },
  {
   "cell_type": "code",
   "execution_count": 20,
   "id": "53339fb3",
   "metadata": {},
   "outputs": [],
   "source": [
    "# examples\n",
    "name = \"M Mansoor Ahammed\""
   ]
  },
  {
   "cell_type": "code",
   "execution_count": 22,
   "id": "0e3273e3",
   "metadata": {},
   "outputs": [
    {
     "data": {
      "text/plain": [
       "True"
      ]
     },
     "execution_count": 22,
     "metadata": {},
     "output_type": "execute_result"
    }
   ],
   "source": [
    "\"M\" in name"
   ]
  },
  {
   "cell_type": "code",
   "execution_count": 23,
   "id": "a208e053",
   "metadata": {},
   "outputs": [
    {
     "data": {
      "text/plain": [
       "False"
      ]
     },
     "execution_count": 23,
     "metadata": {},
     "output_type": "execute_result"
    }
   ],
   "source": [
    "\"Mansoor\" not in name"
   ]
  },
  {
   "cell_type": "markdown",
   "id": "dd3dae43",
   "metadata": {},
   "source": [
    "List and briefly explain the basic data types available in Python."
   ]
  },
  {
   "cell_type": "markdown",
   "id": "d1196f9c",
   "metadata": {},
   "source": [
    "##### Basic data types \n",
    "\n",
    "- its in single .\n",
    "\n",
    "They are :\n",
    "    \n",
    "        - numerical\n",
    "        - non numerical \n",
    "In numerical :\n",
    "\n",
    "    - int (3,45,5,4,)\n",
    "    \n",
    "    - float(9.4,4.5)\n",
    "    \n",
    "    - complex (23+6j)\n",
    "    \n",
    "In non numerical :\n",
    "    \n",
    "    - bool(True or False)\n",
    "    \n",
    "    - string (\"hjguygfuyg\") ---> its acts both basic and collection\n"
   ]
  },
  {
   "cell_type": "markdown",
   "id": "0cf47611",
   "metadata": {},
   "source": [
    "Write a Python code snippet that assigns a value to a variable and determines its data type using the type() function."
   ]
  },
  {
   "cell_type": "code",
   "execution_count": 30,
   "id": "d7ae1e39",
   "metadata": {},
   "outputs": [
    {
     "name": "stdout",
     "output_type": "stream",
     "text": [
      "67\n"
     ]
    },
    {
     "data": {
      "text/plain": [
       "int"
      ]
     },
     "execution_count": 30,
     "metadata": {},
     "output_type": "execute_result"
    }
   ],
   "source": [
    "number = 67\n",
    "print(number)\n",
    "type(number)"
   ]
  },
  {
   "cell_type": "code",
   "execution_count": 29,
   "id": "3bc0dd2a",
   "metadata": {},
   "outputs": [
    {
     "name": "stdout",
     "output_type": "stream",
     "text": [
      "6.1\n"
     ]
    },
    {
     "data": {
      "text/plain": [
       "float"
      ]
     },
     "execution_count": 29,
     "metadata": {},
     "output_type": "execute_result"
    }
   ],
   "source": [
    "height = 6.1\n",
    "print(height)\n",
    "type(height)"
   ]
  },
  {
   "cell_type": "code",
   "execution_count": 31,
   "id": "fab1dd08",
   "metadata": {},
   "outputs": [
    {
     "name": "stdout",
     "output_type": "stream",
     "text": [
      "hgfiygiyfg\n"
     ]
    },
    {
     "data": {
      "text/plain": [
       "str"
      ]
     },
     "execution_count": 31,
     "metadata": {},
     "output_type": "execute_result"
    }
   ],
   "source": [
    "string = \"hgfiygiyfg\"\n",
    "print(string)\n",
    "type(string)"
   ]
  },
  {
   "cell_type": "code",
   "execution_count": 33,
   "id": "1c2d2cf9",
   "metadata": {},
   "outputs": [
    {
     "name": "stdout",
     "output_type": "stream",
     "text": [
      "True\n"
     ]
    },
    {
     "data": {
      "text/plain": [
       "bool"
      ]
     },
     "execution_count": 33,
     "metadata": {},
     "output_type": "execute_result"
    }
   ],
   "source": [
    "mydef = True\n",
    "print(mydef)\n",
    "type(mydef)"
   ]
  },
  {
   "cell_type": "markdown",
   "id": "855b4062",
   "metadata": {},
   "source": [
    "Task 1: Arithmetic Operators\n",
    "\n",
    "1)Write a Python program that takes two user-input numbers and displays their sum using the addition operator.\n",
    "\n",
    "2)Create a program to calculate the area of a rectangle. Prompt the user for the length and width, then use multiplication to find the area.\n",
    "\n",
    "3)Implement a program that converts temperature from Celsius to Fahrenheit using the formula: Fahrenheit = (Celsius * 9/5) + 32."
   ]
  },
  {
   "cell_type": "code",
   "execution_count": 34,
   "id": "6d72ef1d",
   "metadata": {},
   "outputs": [
    {
     "name": "stdout",
     "output_type": "stream",
     "text": [
      "enter number 1: 34\n",
      "enter number 2: 45\n",
      "79\n"
     ]
    }
   ],
   "source": [
    "# 1)\n",
    "a = int(input(\"enter number 1: \"))\n",
    "b = int(input(\"enter number 2: \"))\n",
    "sum = a + b\n",
    "print(sum)\n"
   ]
  },
  {
   "cell_type": "markdown",
   "id": "9d299dc9",
   "metadata": {},
   "source": [
    "###### 2) and 3) question  in arthmetic operators already done in previous questions itself. \n"
   ]
  },
  {
   "cell_type": "markdown",
   "id": "c8e2d8e9",
   "metadata": {},
   "source": [
    "Task 2: Comparison Operators\n",
    "\n",
    "1)Write a program that compares two user-input numbers and prints whether the first number is greater than the second number or not.\n",
    "\n",
    "2)Create a program that determines whether a user-input year is a leap year or not. A leap year is divisible by 4 and not divisible by 100, unless it is also divisible by 400.\n",
    "\n",
    "3)Implement a simple guessing game. Generate a random number between 1 and 100 and have the user guess the number. Provide feedback if their guess is too high or too low, and let them know when they've guessed correctly."
   ]
  },
  {
   "cell_type": "code",
   "execution_count": 36,
   "id": "94177b5d",
   "metadata": {},
   "outputs": [
    {
     "name": "stdout",
     "output_type": "stream",
     "text": [
      "enter a first number :34\n",
      "enter a second number: 56\n"
     ]
    },
    {
     "data": {
      "text/plain": [
       "False"
      ]
     },
     "execution_count": 36,
     "metadata": {},
     "output_type": "execute_result"
    }
   ],
   "source": [
    "#1) \n",
    "a = int(input(\"enter a first number :\"))\n",
    "b = int(input(\"enter a second number: \"))\n",
    "(a>b) # (34 is not greater than 56)"
   ]
  },
  {
   "cell_type": "code",
   "execution_count": 39,
   "id": "fbc672ec",
   "metadata": {},
   "outputs": [
    {
     "name": "stdout",
     "output_type": "stream",
     "text": [
      "enter a year2004\n",
      "Its a leap year\n"
     ]
    }
   ],
   "source": [
    "#2)\n",
    "year = int(input(\"enter a year\"))\n",
    "if (year% 4 == 0 ) and (year != 100):\n",
    "    print(\"Its a leap year\")\n",
    "elif (year % 400 == 0) and (year % 100 == 0):\n",
    "    print(\"its a leap year\")\n",
    "    \n",
    "else:\n",
    "    print(\"its not a leap year\")"
   ]
  },
  {
   "cell_type": "code",
   "execution_count": 53,
   "id": "cf46cd58",
   "metadata": {},
   "outputs": [
    {
     "name": "stdout",
     "output_type": "stream",
     "text": [
      "enter a number between 1 to 100 :3\n",
      "too low\n"
     ]
    }
   ],
   "source": [
    "#3)\n",
    "import random\n",
    "guess_number = int(input(\"enter a number between 1 to 100 :\"))\n",
    "random_number = random.randint(1, 100)\n",
    "if guess_number > random_number:\n",
    "    print(\"too high\")\n",
    "else:\n",
    "    print(\"too low\")\n"
   ]
  },
  {
   "cell_type": "markdown",
   "id": "fad3490e",
   "metadata": {},
   "source": [
    "Task 3: Logical Operators\n",
    "\n",
    "Write a program that checks whether a user-input number is positive and even using logical AND (and) operator.\n",
    "\n",
    "Create a login system where you define a correct username and password. Ask the user for their input and compare it with the correct credentials using logical OR (or) operator. Provide access if either the username or password is correct.\n",
    "\n",
    "Implement a program that determines whether a given year is a leap year and divisible by 7 using logical NOT (not) operator."
   ]
  },
  {
   "cell_type": "code",
   "execution_count": 56,
   "id": "8fd216e4",
   "metadata": {},
   "outputs": [
    {
     "name": "stdout",
     "output_type": "stream",
     "text": [
      "enter a number:3\n",
      "its a not a positive even number\n"
     ]
    }
   ],
   "source": [
    "#1)\n",
    "number = int(input(\"enter a number:\"))\n",
    "if (number>0) and (number%2 == 0 ):\n",
    "    print(\"its a  positive even number \")\n",
    "else: \n",
    "    print(\"its a not a positive even number\")"
   ]
  },
  {
   "cell_type": "code",
   "execution_count": 58,
   "id": "86ae92b8",
   "metadata": {},
   "outputs": [
    {
     "name": "stdout",
     "output_type": "stream",
     "text": [
      "enter a username: mansoor54\n",
      "enter a password: 6767giisi\n",
      "Access granted\n"
     ]
    }
   ],
   "source": [
    "#2) \n",
    "username = \"mansoor54\"\n",
    "password = \"7565mansoor\"\n",
    "input_username = input(\"enter a username: \")\n",
    "input_password = input(\"enter a password: \")\n",
    "if (input_username == username) or (input_password == password):\n",
    "    print(\"Access granted\")\n",
    "else:\n",
    "    print(\"Access not granted\")"
   ]
  },
  {
   "cell_type": "code",
   "execution_count": 62,
   "id": "2c9d2b12",
   "metadata": {},
   "outputs": [
    {
     "name": "stdout",
     "output_type": "stream",
     "text": [
      "enter a year :28\n",
      "year is a leap year and divisible by 7 \n"
     ]
    }
   ],
   "source": [
    "#3)\n",
    "year = int(input(\"enter a year :\"))\n",
    "leap_year_7divisible= ((year% 4 == 0 ) and (year != 100) and (year%7 ==0)) or ((year % 400 == 0) and (year % 100 == 0) and (year%7 ==0))\n",
    "if not (leap_year_7divisible):\n",
    "    print(\"its not year is a leap year and divisible by 7 \")\n",
    "else:\n",
    "    print(\"year is a leap year and divisible by 7 \")\n",
    "    \n",
    "    "
   ]
  },
  {
   "cell_type": "markdown",
   "id": "67ead5e2",
   "metadata": {},
   "source": [
    "Task 4: Assignment Operators\n",
    "\n",
    "Write a program to calculate the square of a number using the exponentiation operator (**) and assign it back to the same variable.\n",
    "\n",
    "Create a program that keeps track of the total score in a game. Prompt the user for their latest score and update the total score using the addition assignment operator (+=).\n",
    "\n",
    "Implement a program to convert seconds into hours, minutes, and remaining seconds using both division and modulo operators, and then assign each value using assignment operators."
   ]
  },
  {
   "cell_type": "code",
   "execution_count": 63,
   "id": "d16b1219",
   "metadata": {},
   "outputs": [
    {
     "data": {
      "text/plain": [
       "4"
      ]
     },
     "execution_count": 63,
     "metadata": {},
     "output_type": "execute_result"
    }
   ],
   "source": [
    "#1)\n",
    "a = 2 \n",
    "power = a**a\n",
    "power"
   ]
  },
  {
   "cell_type": "code",
   "execution_count": 64,
   "id": "8c056926",
   "metadata": {},
   "outputs": [
    {
     "name": "stdout",
     "output_type": "stream",
     "text": [
      "enter a squre number :5\n"
     ]
    },
    {
     "data": {
      "text/plain": [
       "3125"
      ]
     },
     "execution_count": 64,
     "metadata": {},
     "output_type": "execute_result"
    }
   ],
   "source": [
    "b = int(input(\"enter a squre number :\"))\n",
    "Sqaure_value = b ** b\n",
    "Sqaure_value"
   ]
  },
  {
   "cell_type": "code",
   "execution_count": 65,
   "id": "e79350ec",
   "metadata": {},
   "outputs": [
    {
     "name": "stdout",
     "output_type": "stream",
     "text": [
      "enter the first score :20\n",
      "enter the second score :30\n",
      "enter the last score :10\n",
      "60\n"
     ]
    }
   ],
   "source": [
    "#2)\n",
    "score_1 = int(input(\"enter the first score :\"))\n",
    "score_2= int(input(\"enter the second score :\"))\n",
    "last_score = int(input(\"enter the last score :\"))\n",
    "\n",
    "score_1 += score_2\n",
    "last_score += score_1\n",
    "total_score = last_score\n",
    "print(total_score)\n"
   ]
  },
  {
   "cell_type": "code",
   "execution_count": 66,
   "id": "8af4edf8",
   "metadata": {},
   "outputs": [
    {
     "name": "stdout",
     "output_type": "stream",
     "text": [
      "enter a seconds:7200\n",
      "hours : 2.0\n",
      "minutes : 120.0\n"
     ]
    }
   ],
   "source": [
    "#3)\n",
    "seconds = int(input(\"enter a seconds:\"))\n",
    "hours = seconds/3600\n",
    "minutes = seconds/60\n",
    "print(\"hours :\",hours)\n",
    "print(\"minutes :\", minutes)"
   ]
  },
  {
   "cell_type": "markdown",
   "id": "d02aa8d6",
   "metadata": {},
   "source": [
    "Task 5: Bitwise Operators\n",
    "\n",
    "Write a program that performs a bitwise AND operation between two user-input numbers and displays the result.\n",
    "\n",
    "Create a program to toggle the nth bit of a given number. Ask the user for the number and the value of n, then use bitwise XOR (^) operator to toggle the bit.\n",
    "\n",
    "Implement a program to swap the values of two variables without using a temporary variable, only using bitwise XOR (^) operator."
   ]
  },
  {
   "cell_type": "code",
   "execution_count": 67,
   "id": "e696e92e",
   "metadata": {},
   "outputs": [
    {
     "name": "stdout",
     "output_type": "stream",
     "text": [
      "enter a number :34\n",
      "enter a number :45\n"
     ]
    },
    {
     "data": {
      "text/plain": [
       "32"
      ]
     },
     "execution_count": 67,
     "metadata": {},
     "output_type": "execute_result"
    }
   ],
   "source": [
    "#1)\n",
    "a = int(input(\"enter a number :\"))\n",
    "b = int(input(\"enter a number :\"))\n",
    "a & b"
   ]
  },
  {
   "cell_type": "code",
   "execution_count": 1,
   "id": "a96a207c",
   "metadata": {},
   "outputs": [
    {
     "name": "stdout",
     "output_type": "stream",
     "text": [
      "enter a number :34\n",
      "enter a value of n :5\n"
     ]
    },
    {
     "data": {
      "text/plain": [
       "39"
      ]
     },
     "execution_count": 1,
     "metadata": {},
     "output_type": "execute_result"
    }
   ],
   "source": [
    "#2)\n",
    "a = int(input(\"enter a number :\"))\n",
    "n = int(input(\"enter a value of n :\"))\n",
    "a^n"
   ]
  },
  {
   "cell_type": "code",
   "execution_count": 2,
   "id": "0c9191a7",
   "metadata": {},
   "outputs": [],
   "source": [
    "#3) \n",
    "a = 10   \n",
    "b  = 20\n",
    "a= a^b\n",
    "b= a^b\n",
    "a = a^b"
   ]
  },
  {
   "cell_type": "code",
   "execution_count": 3,
   "id": "cc011882",
   "metadata": {},
   "outputs": [
    {
     "data": {
      "text/plain": [
       "20"
      ]
     },
     "execution_count": 3,
     "metadata": {},
     "output_type": "execute_result"
    }
   ],
   "source": [
    "a"
   ]
  },
  {
   "cell_type": "code",
   "execution_count": 4,
   "id": "b0e8e480",
   "metadata": {},
   "outputs": [
    {
     "data": {
      "text/plain": [
       "10"
      ]
     },
     "execution_count": 4,
     "metadata": {},
     "output_type": "execute_result"
    }
   ],
   "source": [
    "b"
   ]
  },
  {
   "cell_type": "code",
   "execution_count": null,
   "id": "96f43829",
   "metadata": {},
   "outputs": [],
   "source": []
  }
 ],
 "metadata": {
  "kernelspec": {
   "display_name": "Python 3 (ipykernel)",
   "language": "python",
   "name": "python3"
  },
  "language_info": {
   "codemirror_mode": {
    "name": "ipython",
    "version": 3
   },
   "file_extension": ".py",
   "mimetype": "text/x-python",
   "name": "python",
   "nbconvert_exporter": "python",
   "pygments_lexer": "ipython3",
   "version": "3.10.12"
  }
 },
 "nbformat": 4,
 "nbformat_minor": 5
}
