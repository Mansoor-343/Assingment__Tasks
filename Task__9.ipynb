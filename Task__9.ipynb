{
 "cells": [
  {
   "cell_type": "markdown",
   "id": "5356b73f",
   "metadata": {},
   "source": [
    "1)Print Numbers from 1 to N: Write a Python program that uses a for loop to print all numbers from 1 to N and substract 5from each number.where N is a positive integer entered by the user.\n",
    "\n",
    "2)Calculate the Sum of Numbers from 1 to N: Write a Python program that calculates and prints the sum of all numbers from 1 to N, where N is a positive integer entered by the user, using a for loop.\n",
    "\n",
    "3)Print Even Numbers: Write a Python program that prints all even numbers from 50 to 100 using a for loop.\n",
    "\n",
    "4)Reverse a String: Write a Python program that takes a string as input and uses a for loop to print the characters of the string in reverse order.\n",
    "\n",
    "5)Count Vowels in a String: name = \"innomatics research labs\" Write a Python program uses a for loop to count the number of vowels (a, e, i, o, u) in the string. Ignore case sensitivity.\n",
    "\n",
    "6)Generate a Multiplication Table: Write a Python program that generates and prints the multiplication table for 6."
   ]
  },
  {
   "cell_type": "markdown",
   "id": "19e9abda",
   "metadata": {},
   "source": [
    "Print Numbers from 1 to N: Write a Python program that uses a for loop to print all numbers from 1 to N and substract 5from each number.where N is a positive integer entered by the user."
   ]
  },
  {
   "cell_type": "code",
   "execution_count": null,
   "id": "9a2a0bea",
   "metadata": {},
   "outputs": [],
   "source": []
  },
  {
   "cell_type": "markdown",
   "id": "abcaa0cc",
   "metadata": {},
   "source": [
    "1)Print Numbers from 1 to N: Write a Python program that uses a for loop to print all numbers from 1 to N and substract 5from each number.where N is a positive integer entered by the user."
   ]
  },
  {
   "cell_type": "code",
   "execution_count": 1,
   "id": "749672ee",
   "metadata": {},
   "outputs": [
    {
     "name": "stdout",
     "output_type": "stream",
     "text": [
      "Enter a number :: 10\n",
      "-4\n",
      "-3\n",
      "-2\n",
      "-1\n",
      "0\n",
      "1\n",
      "2\n",
      "3\n",
      "4\n"
     ]
    }
   ],
   "source": [
    "N = int(input(\"Enter a number :: \"))\n",
    "for i in range(1,N):\n",
    "    if N>0:\n",
    "        print(i-5)"
   ]
  },
  {
   "cell_type": "code",
   "execution_count": null,
   "id": "8d48ad0f",
   "metadata": {},
   "outputs": [],
   "source": []
  },
  {
   "cell_type": "markdown",
   "id": "931eb41f",
   "metadata": {},
   "source": [
    "2)Calculate the Sum of Numbers from 1 to N: Write a Python program that calculates and prints the sum of all numbers from 1 to N, where N is a positive integer entered by the user, using a for loop."
   ]
  },
  {
   "cell_type": "code",
   "execution_count": 3,
   "id": "dc8e5433",
   "metadata": {},
   "outputs": [
    {
     "name": "stdout",
     "output_type": "stream",
     "text": [
      "Enter a number :: 15\n",
      "105\n"
     ]
    }
   ],
   "source": [
    "N = int(input(\"Enter a number :: \"))\n",
    "total = 0\n",
    "for i in range(1,N):\n",
    "    if N>0:\n",
    "        total += i\n",
    "print(total)"
   ]
  },
  {
   "cell_type": "code",
   "execution_count": null,
   "id": "bb4d19fe",
   "metadata": {},
   "outputs": [],
   "source": []
  },
  {
   "cell_type": "markdown",
   "id": "47e33d23",
   "metadata": {},
   "source": [
    "3)Print Even Numbers: Write a Python program that prints all even numbers from 50 to 100 using a for loop."
   ]
  },
  {
   "cell_type": "code",
   "execution_count": 4,
   "id": "f550de91",
   "metadata": {},
   "outputs": [
    {
     "name": "stdout",
     "output_type": "stream",
     "text": [
      "50\n",
      "52\n",
      "54\n",
      "56\n",
      "58\n",
      "60\n",
      "62\n",
      "64\n",
      "66\n",
      "68\n",
      "70\n",
      "72\n",
      "74\n",
      "76\n",
      "78\n",
      "80\n",
      "82\n",
      "84\n",
      "86\n",
      "88\n",
      "90\n",
      "92\n",
      "94\n",
      "96\n",
      "98\n",
      "100\n"
     ]
    }
   ],
   "source": [
    "for i in range(50,101):\n",
    "    if i%2==0:\n",
    "        print(i)"
   ]
  },
  {
   "cell_type": "code",
   "execution_count": null,
   "id": "446ad0ab",
   "metadata": {},
   "outputs": [],
   "source": []
  },
  {
   "cell_type": "markdown",
   "id": "01d3e15d",
   "metadata": {},
   "source": [
    "4)Reverse a String: Write a Python program that takes a string as input and uses a for loop to print the characters of the string in reverse order."
   ]
  },
  {
   "cell_type": "code",
   "execution_count": 5,
   "id": "ffa85c8f",
   "metadata": {},
   "outputs": [
    {
     "name": "stdout",
     "output_type": "stream",
     "text": [
      "enter a string:: mansoor\n",
      "r\n",
      "o\n",
      "o\n",
      "s\n",
      "n\n",
      "a\n",
      "m\n"
     ]
    }
   ],
   "source": [
    "string = input(\"enter a string:: \")\n",
    "l = []\n",
    "for i in string[::-1]:\n",
    "    print(i)\n",
    "    \n",
    "    "
   ]
  },
  {
   "cell_type": "code",
   "execution_count": null,
   "id": "08fbb383",
   "metadata": {},
   "outputs": [],
   "source": []
  },
  {
   "cell_type": "markdown",
   "id": "7e4cfb98",
   "metadata": {},
   "source": [
    "5)Count Vowels in a String: name = \"innomatics research labs\" Write a Python program uses a for loop to count the number of vowels (a, e, i, o, u) in the string. Ignore case sensitivity."
   ]
  },
  {
   "cell_type": "code",
   "execution_count": 6,
   "id": "36ff7ddb",
   "metadata": {},
   "outputs": [
    {
     "name": "stdout",
     "output_type": "stream",
     "text": [
      "8\n"
     ]
    }
   ],
   "source": [
    "name = \"innomatics research labs\"\n",
    "count = 0\n",
    "for i in name:\n",
    "    if i in [\"a\",\"e\",\"i\",\"o\",\"u\"]:\n",
    "        count += 1\n",
    "print(count)"
   ]
  },
  {
   "cell_type": "code",
   "execution_count": null,
   "id": "c6b8f5f1",
   "metadata": {},
   "outputs": [],
   "source": []
  },
  {
   "cell_type": "markdown",
   "id": "a0d933d9",
   "metadata": {},
   "source": [
    "6)Generate a Multiplication Table: Write a Python program that generates and prints the multiplication table for 6."
   ]
  },
  {
   "cell_type": "code",
   "execution_count": 11,
   "id": "9eeb1e6e",
   "metadata": {},
   "outputs": [
    {
     "name": "stdout",
     "output_type": "stream",
     "text": [
      "enter a number of multiplication time::20\n",
      "6 * 1 = 6\n",
      "6 * 2 = 12\n",
      "6 * 3 = 18\n",
      "6 * 4 = 24\n",
      "6 * 5 = 30\n",
      "6 * 6 = 36\n",
      "6 * 7 = 42\n",
      "6 * 8 = 48\n",
      "6 * 9 = 54\n",
      "6 * 10 = 60\n",
      "6 * 11 = 66\n",
      "6 * 12 = 72\n",
      "6 * 13 = 78\n",
      "6 * 14 = 84\n",
      "6 * 15 = 90\n",
      "6 * 16 = 96\n",
      "6 * 17 = 102\n",
      "6 * 18 = 108\n",
      "6 * 19 = 114\n",
      "6 * 20 = 120\n"
     ]
    }
   ],
   "source": [
    "N = int(input(\"enter a number of multiplication time::\"))\n",
    "for i in range(1,N+1):\n",
    "    mul = i *6\n",
    "    print(f\"6 * {i} = {mul}\")\n",
    "    "
   ]
  },
  {
   "cell_type": "code",
   "execution_count": null,
   "id": "23ddeac4",
   "metadata": {},
   "outputs": [],
   "source": []
  }
 ],
 "metadata": {
  "kernelspec": {
   "display_name": "Python 3 (ipykernel)",
   "language": "python",
   "name": "python3"
  },
  "language_info": {
   "codemirror_mode": {
    "name": "ipython",
    "version": 3
   },
   "file_extension": ".py",
   "mimetype": "text/x-python",
   "name": "python",
   "nbconvert_exporter": "python",
   "pygments_lexer": "ipython3",
   "version": "3.10.12"
  }
 },
 "nbformat": 4,
 "nbformat_minor": 5
}
