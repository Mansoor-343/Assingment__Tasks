{
 "cells": [
  {
   "cell_type": "markdown",
   "id": "b85919a1",
   "metadata": {},
   "source": [
    "In this assignment, you will create a Python program to calculate the average grade of students in a function. However, the program should handle various exceptions that might occur during user input and grade calculation. Requirements:\n",
    "\n",
    "1.Your program should prompt the user to enter the total number of students.\n",
    "\n",
    "2.For each student, prompt the user to enter their name and three subject marks (out of 100).\n",
    "\n",
    "3.Handle the following exceptions\n",
    ": a. ValueError: If the user enters a non-numeric value for the number of students or subject marks. b. ZeroDivisionError: If any student's average marks cannot be calculated due to division by zero (e.g., no subject marks provided). c. NegativeValueError: If any student's marks are negative. 4. Display appropriate error messages for each exception and prompt the user to try again. 5. Use a try-except block for exception handling. 6. Calculate the average marks for each student and display their names along with their average marks. 7. Calculate and display the overall class average. 8. Implement a loop so that the user can re-enter data if an exception occurs or continue calculating for another class. 9. Include a graceful exit message when the user decides to stop.\n",
    "\n",
    "Custom(User Defined) Exceptions: Define two custom exception classes:\n",
    "\n",
    "1.`NegativeValueError: This exception should be raised when any of the subject marks are negative.\n",
    "    \n",
    "2.`InvalidNumber Error: This exception should be raised when the user enters an invalid number for the total number of students (e.g., a negative number)."
   ]
  },
  {
   "cell_type": "code",
   "execution_count": 1,
   "id": "ebd351bc",
   "metadata": {},
   "outputs": [
    {
     "name": "stdout",
     "output_type": "stream",
     "text": [
      "Enter the total number of students:: 2\n",
      "enter a name::mansoor\n",
      "Enter a marks of sub1 out of 100::98\n",
      "Enter a marks of sub2 out of 100::96\n",
      "Enter a marks of sub3 out of 100::89\n",
      "mansoor avg grade is :94.33333333333333\n",
      "choose wheather it continue or stop ::continue\n",
      "enter a name::ahammed\n",
      "Enter a marks of sub1 out of 100::67\n",
      "Enter a marks of sub2 out of 100::98\n",
      "Enter a marks of sub3 out of 100::78\n",
      "ahammed avg grade is :175.33333333333334\n",
      "choose wheather it continue or stop ::continue\n",
      "class average grade is 134.83333333333334\n"
     ]
    }
   ],
   "source": [
    "\n",
    "\n",
    "\n",
    "while True:\n",
    "    \n",
    "    \n",
    "    try:\n",
    "        def avg1(students):\n",
    "            students_marks = []\n",
    "            students_avg_marks = []\n",
    "            for i in range(1,students+1):\n",
    "                name = input(\"enter a name::\")\n",
    "                for j in range(1,4):\n",
    "                    sub = int(input(f\"Enter a marks of sub{j} out of 100::\"))\n",
    "                    if sub <0:\n",
    "                        raise NegativeValueError(\"enter positive number\")\n",
    "                    students_marks.append(sub)\n",
    "\n",
    "                student_avg_grade = sum(students_marks)/3\n",
    "                students_avg_marks.append(student_avg_grade)\n",
    "                print(f\"{name} avg grade is :{student_avg_grade}\")\n",
    "                choice = input(\"choose wheather it continue or stop ::\")\n",
    "                if choice == \"stop\":\n",
    "                    break\n",
    "                \n",
    "            class_avg_grade = sum(students_avg_marks)/students\n",
    "            print(f\"class average grade is {class_avg_grade}\")\n",
    "            \n",
    "        students = int(input(\"Enter the total number of students:: \"))\n",
    "        if students<=0:\n",
    "            raise InvalidNumberError(\"please Enter a valid number\")\n",
    "            \n",
    "        avg1(students)\n",
    "    except ValueError :\n",
    "        print(\"please enter a numeric values\")\n",
    "        continue \n",
    "    \n",
    "    except ZeroDivisionError:\n",
    "        print(\"please provide a valid details\")\n",
    "        continue\n",
    "    \n",
    "    except NegativeValueError:\n",
    "        print(\"please enter a positive numbers only\")\n",
    "        continue\n",
    "    break    "
   ]
  },
  {
   "cell_type": "code",
   "execution_count": null,
   "id": "352c55c6",
   "metadata": {},
   "outputs": [],
   "source": []
  },
  {
   "cell_type": "code",
   "execution_count": null,
   "id": "4394a9c7",
   "metadata": {},
   "outputs": [],
   "source": []
  }
 ],
 "metadata": {
  "kernelspec": {
   "display_name": "Python 3 (ipykernel)",
   "language": "python",
   "name": "python3"
  },
  "language_info": {
   "codemirror_mode": {
    "name": "ipython",
    "version": 3
   },
   "file_extension": ".py",
   "mimetype": "text/x-python",
   "name": "python",
   "nbconvert_exporter": "python",
   "pygments_lexer": "ipython3",
   "version": "3.10.12"
  }
 },
 "nbformat": 4,
 "nbformat_minor": 5
}
