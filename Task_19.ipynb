{
 "cells": [
  {
   "cell_type": "markdown",
   "id": "4e652566",
   "metadata": {},
   "source": [
    "File handling + Time module\n",
    "\n",
    "Create a Python script that simulates a simple login system. The script should prompt the user to enter their username and password. If the entered username and password match the predefined credentials, the script should log a successful login event to a log file. If the credentials do not match, it should log a failed login attempt to the log file. Example Output Assuming the predefined credentials are username: \"user123\" and password: \"pass123\", here's an example output of the script:\n",
    "\n",
    "\n",
    "\n",
    "\n",
    "Create any 5 of following modules\n",
    "\n",
    "a. Restaurant\n",
    "\n",
    "b. IPL\n",
    "\n",
    "c. Mathematics\n",
    "\n",
    "d. Data Science\n",
    "\n",
    "e. India\n",
    "\n",
    "f. Shopping mall\n",
    "\n",
    "g. Amazon_price\n",
    "\n",
    "Do some research while creating them"
   ]
  },
  {
   "cell_type": "code",
   "execution_count": 1,
   "id": "fafa741c",
   "metadata": {},
   "outputs": [],
   "source": [
    "import time as t\n"
   ]
  },
  {
   "cell_type": "code",
   "execution_count": 2,
   "id": "3ede7571",
   "metadata": {},
   "outputs": [
    {
     "name": "stdout",
     "output_type": "stream",
     "text": [
      "Enter a user name:: mansoor343\n",
      "enter a password:: Mansoor878\n",
      "Enter a user name to login mansoor343\n",
      "enter a password to login:: Mansoor878\n",
      "Login successful for mansoor343  Mon Oct  2 22:17:49 2023\n"
     ]
    }
   ],
   "source": [
    "user_name = input(\"Enter a user name:: \")\n",
    "password = input(\"enter a password:: \")\n",
    "user_1 = input(\"Enter a user name to login \")\n",
    "password_user1 = input(\"enter a password to login:: \")\n",
    "if (user_name==user_1) and (password == password_user1):\n",
    "    print(f\"Login successful for {user_1} \", t.asctime())\n",
    "else:\n",
    "    print(f\"login Failed for {user_1} :\",t.asctime())"
   ]
  },
  {
   "cell_type": "markdown",
   "id": "54b6c26f",
   "metadata": {},
   "source": [
    "# Restaurant\n",
    "\n"
   ]
  },
  {
   "cell_type": "code",
   "execution_count": 5,
   "id": "2ded0a4c",
   "metadata": {},
   "outputs": [],
   "source": [
    "import restaurant as res"
   ]
  },
  {
   "cell_type": "code",
   "execution_count": 6,
   "id": "5feb957a",
   "metadata": {},
   "outputs": [
    {
     "data": {
      "text/plain": [
       "'At Savor Haven, we invite you to embark on a gastronomic journey like no other. Nestled in the heart of [City Name], our newly opened restaurant promises an unforgettable dining experience that will tantalize your taste buds, awaken your senses, and leave you craving for more.'"
      ]
     },
     "execution_count": 6,
     "metadata": {},
     "output_type": "execute_result"
    }
   ],
   "source": [
    "res.description()"
   ]
  },
  {
   "cell_type": "code",
   "execution_count": 7,
   "id": "3be42e84",
   "metadata": {},
   "outputs": [
    {
     "name": "stdout",
     "output_type": "stream",
     "text": [
      "Appetizers:-\n",
      "Bruschetta - Freshly toasted bread topped with diced tomatoes, garlic, basil, and extra virgin olive oil - ₹650 \n",
      "\n",
      "Spinach and Artichoke Dip - Creamy spinach and artichoke hearts served with tortilla chips - ₹750 \n",
      "\n",
      "Crispy Calamari - Lightly breaded and fried calamari rings, served with marinara sauce - ₹950\n",
      "\n",
      "Soups and Salads:\n",
      "\n",
      "4. Caesar Salad - Crisp romaine lettuce, garlic croutons, Parmesan cheese, and Caesar dressing - ₹550\n",
      "\n",
      "\n",
      "Tomato Basil Soup - Homemade tomato soup with fresh basil and a hint of cream - ₹450 (cup) / ₹650 (bowl)\n",
      "\n",
      "Greek Salad - Mixed greens, Kalamata olives, feta cheese, red onions, cucumbers, and Greek vinaigrette - ₹800\n",
      "\n",
      "Main Courses:\n",
      "Grilled Salmon - Grilled salmon fillet served with lemon butter sauce and seasonal vegetables - ₹1,850\n",
      "\n",
      "\n",
      "Penne alla Vodka - Penne pasta in a creamy tomato vodka sauce with grilled chicken - ₹1,250\n",
      "\n",
      "Filet Mignon - 8-ounce tender filet mignon cooked to your preference, served with garlic mashed potatoes and asparagus - ₹3,250\n",
      "\n",
      "Vegetarian Options:\n",
      "\n",
      " Vegetable Stir-Fry - Fresh mixed vegetables stir-fried in a ginger soy sauce, served with jasmine rice - ₹1,200\n",
      "\n",
      "\n",
      "Mushroom Risotto - Creamy Arborio rice with wild mushrooms and Parmesan cheese - ₹1,400\n",
      "\n",
      " Pizzas:\n",
      "\n",
      "Margherita Pizza - Tomato sauce, fresh mozzarella, basil, and extra virgin olive oil - ₹1,100\n",
      "\n",
      "\n",
      "Pepperoni Pizza - Tomato sauce, mozzarella cheese, and pepperoni - ₹1,250\n",
      "\n",
      "Vegetarian Pizza - Tomato sauce, mozzarella cheese, bell peppers, mushrooms, onions, and olives - ₹1,150\n",
      "\n",
      "Desserts:\n",
      "\n",
      " Tiramisu - Classic Italian dessert with layers of coffee-soaked ladyfingers and mascarpone cream - ₹650\n",
      "\n",
      "\n",
      "Chocolate Lava Cake - Warm chocolate cake with a molten center, served with vanilla ice cream - ₹750\n",
      "\n",
      "Cheesecake - New York-style cheesecake topped with your choice of fruit compote - ₹600\n",
      "\n",
      "Beverages:\n",
      "\n",
      "18. Soda - Coke, Diet Coke, Sprite, or Pepsi - ₹120\n",
      "\n",
      "\n",
      "Iced Tea - Sweetened or unsweetened - ₹120\n",
      "\n",
      "Freshly Brewed Coffee - Regular or decaffeinated - ₹100\n",
      "\n",
      "These prices are fictional and should be adjusted based on your actual costs and desired profit margins. Additionally, consider providing additional details on the menu, such as ingredients, preparation methods, and any special features to enhance the dining experience for your customers.\n",
      "\n"
     ]
    }
   ],
   "source": [
    "res.menu()"
   ]
  },
  {
   "cell_type": "code",
   "execution_count": 13,
   "id": "da2cf91e",
   "metadata": {},
   "outputs": [
    {
     "name": "stdout",
     "output_type": "stream",
     "text": [
      "sai lokesh\n",
      "\n",
      "            dharma\n",
      "\n",
      "            nayam\n",
      "\n",
      "            rohit\n",
      "\n",
      "            savayam\n",
      "\n"
     ]
    }
   ],
   "source": [
    "res.managers()"
   ]
  },
  {
   "cell_type": "code",
   "execution_count": 14,
   "id": "3101513b",
   "metadata": {},
   "outputs": [
    {
     "name": "stdout",
     "output_type": "stream",
     "text": [
      "Table-01\n",
      "\n",
      "            Table-02\n",
      "\n",
      "            Table-03\n",
      "\n",
      "            Table-04\n",
      "\n",
      "            Table-05\n",
      "\n",
      "            Table-06\n",
      "\n",
      "            Table-07\n",
      "\n",
      "            Table-08\n",
      "\n",
      "            Table-09\n",
      "\n",
      "            Table-10\n",
      " \n",
      "            \n"
     ]
    }
   ],
   "source": [
    "res.tables()"
   ]
  },
  {
   "cell_type": "code",
   "execution_count": 15,
   "id": "a403db8a",
   "metadata": {},
   "outputs": [
    {
     "name": "stdout",
     "output_type": "stream",
     "text": [
      "sai krishna\n",
      "\n",
      "            rahul krishna\n",
      "\n",
      "            srinadh reddy\n",
      "\n",
      "            manohar reddy\n",
      "\n",
      "            shafeen \n",
      "\n",
      "            ramu \n",
      "\n",
      "            rahaman\n",
      "\n"
     ]
    }
   ],
   "source": [
    "res.workers()"
   ]
  },
  {
   "cell_type": "markdown",
   "id": "64d1140b",
   "metadata": {},
   "source": [
    "# IPL"
   ]
  },
  {
   "cell_type": "code",
   "execution_count": 16,
   "id": "23fe1324",
   "metadata": {},
   "outputs": [],
   "source": [
    "import ipl"
   ]
  },
  {
   "cell_type": "code",
   "execution_count": 17,
   "id": "1586a420",
   "metadata": {},
   "outputs": [
    {
     "name": "stdout",
     "output_type": "stream",
     "text": [
      "Sunil Gavaskar\n",
      "Jacques Kallis\n",
      "Matthew Hayden\n",
      "Kevin Pietersen\n",
      "Aaron Finch\n",
      "Tom Moody\n",
      "Paul Collingwood\n",
      "Daniel Vettori\n",
      "Daniel Morrison\n",
      "David Hussey\n"
     ]
    }
   ],
   "source": [
    "ipl.commentators()"
   ]
  },
  {
   "cell_type": "code",
   "execution_count": 18,
   "id": "0388f36c",
   "metadata": {},
   "outputs": [
    {
     "name": "stdout",
     "output_type": "stream",
     "text": [
      "The IPL 2023 auction was conducted on 23 December 2022 in Kochi.[11] A total of 405 players were available for auction including 273 Indian and 132 foreign players.[11] 87 places were available to be filled across the ten teams.[12] The first three Indian players in the lists released on 13 December were Mayank Agarwal, Ajinkya Rahane and Ishant Sharma. The first three foreign players were Harry Brook, Joe Root and Rilee Rossouw.[11] It was, however, expected that Ben Stokes would be the main attraction.[13] In the event, the top bid was made for Sam Curran, bought by Punjab Kings for 1,850 lakh.\n"
     ]
    }
   ],
   "source": [
    "ipl.descriotion()"
   ]
  },
  {
   "cell_type": "code",
   "execution_count": 19,
   "id": "418fca6d",
   "metadata": {},
   "outputs": [
    {
     "name": "stdout",
     "output_type": "stream",
     "text": [
      "TATA\n",
      "Dream11\n",
      "Saudi Tourism Authority\n",
      "CRED\n",
      "Upstox\n",
      "RuPay\n",
      "Herbalife\n",
      "Aramco\n",
      "Star Sports\n",
      "Jio Cinema\n",
      "PayTM\n",
      "CEAT\n"
     ]
    }
   ],
   "source": [
    "ipl.sponsars()"
   ]
  },
  {
   "cell_type": "code",
   "execution_count": 20,
   "id": "dc15c98f",
   "metadata": {},
   "outputs": [
    {
     "name": "stdout",
     "output_type": "stream",
     "text": [
      "Chennai Super Kings\n",
      "Mumbai Indians\n",
      "Kolkata Knight Riders\n",
      "Rajasthan Royals\n",
      "Sunrisers Hyderabad\n",
      "Gujarat Titans\n",
      "Royal Challengers Bangalore\n",
      "Delhi Capitals\n",
      "Punjab Kings\n",
      "Lucknow Super Giants\n"
     ]
    }
   ],
   "source": [
    "ipl.teams()"
   ]
  },
  {
   "cell_type": "code",
   "execution_count": 21,
   "id": "e328c854",
   "metadata": {},
   "outputs": [
    {
     "name": "stdout",
     "output_type": "stream",
     "text": [
      "Sundaram Ravi\n",
      "Anil Chaudhary\n",
      "Kumar Dharmasena\n",
      "Nitin Menon\n",
      "Chettithody Shamshuddin\n",
      "Chris Gaffaney\n",
      "Marais Erasmus\n",
      "Bruce Oxenford\n",
      "C. K. Nandan\n",
      "Simon Taufel\n",
      "Vineet Kulkarni\n"
     ]
    }
   ],
   "source": [
    "ipl.umpires()"
   ]
  },
  {
   "cell_type": "markdown",
   "id": "f86f1fd3",
   "metadata": {},
   "source": [
    "# Mathematics"
   ]
  },
  {
   "cell_type": "code",
   "execution_count": 23,
   "id": "9830786a",
   "metadata": {},
   "outputs": [],
   "source": [
    "import mathematics as math"
   ]
  },
  {
   "cell_type": "code",
   "execution_count": 25,
   "id": "3bc0dbac",
   "metadata": {},
   "outputs": [
    {
     "data": {
      "text/plain": [
       "35"
      ]
     },
     "execution_count": 25,
     "metadata": {},
     "output_type": "execute_result"
    }
   ],
   "source": [
    "math.addition(12,23)"
   ]
  },
  {
   "cell_type": "code",
   "execution_count": 27,
   "id": "b8f36365",
   "metadata": {},
   "outputs": [
    {
     "data": {
      "text/plain": [
       "8.5"
      ]
     },
     "execution_count": 27,
     "metadata": {},
     "output_type": "execute_result"
    }
   ],
   "source": [
    "math.division(34,4)"
   ]
  },
  {
   "cell_type": "code",
   "execution_count": 28,
   "id": "143a147b",
   "metadata": {},
   "outputs": [
    {
     "data": {
      "text/plain": [
       "8"
      ]
     },
     "execution_count": 28,
     "metadata": {},
     "output_type": "execute_result"
    }
   ],
   "source": [
    "math.multiplication(2,4)"
   ]
  },
  {
   "cell_type": "code",
   "execution_count": 29,
   "id": "fbc64532",
   "metadata": {},
   "outputs": [
    {
     "data": {
      "text/plain": [
       "22"
      ]
     },
     "execution_count": 29,
     "metadata": {},
     "output_type": "execute_result"
    }
   ],
   "source": [
    "math.quoitent(44,2)"
   ]
  },
  {
   "cell_type": "code",
   "execution_count": 30,
   "id": "3779aba6",
   "metadata": {},
   "outputs": [
    {
     "data": {
      "text/plain": [
       "3"
      ]
     },
     "execution_count": 30,
     "metadata": {},
     "output_type": "execute_result"
    }
   ],
   "source": [
    "math.reminder(45,6)"
   ]
  },
  {
   "cell_type": "code",
   "execution_count": 31,
   "id": "67e94c62",
   "metadata": {},
   "outputs": [
    {
     "data": {
      "text/plain": [
       "489"
      ]
     },
     "execution_count": 31,
     "metadata": {},
     "output_type": "execute_result"
    }
   ],
   "source": [
    "math.subtraction(545,56)"
   ]
  },
  {
   "cell_type": "markdown",
   "id": "214ad183",
   "metadata": {},
   "source": [
    "# Shopping mall"
   ]
  },
  {
   "cell_type": "code",
   "execution_count": 33,
   "id": "623d79a5",
   "metadata": {},
   "outputs": [],
   "source": [
    "import shopping_mall as sm"
   ]
  },
  {
   "cell_type": "code",
   "execution_count": 34,
   "id": "52557b71",
   "metadata": {},
   "outputs": [
    {
     "name": "stdout",
     "output_type": "stream",
     "text": [
      "Cosmetics and beauty supply stores\n",
      "Perfume and fragrance shops\n",
      "Hair salons and barbershops\n",
      "Skincare and spa product outlets\n"
     ]
    }
   ],
   "source": [
    "sm.Beauty_Personal_Care()"
   ]
  },
  {
   "cell_type": "code",
   "execution_count": 35,
   "id": "efdab516",
   "metadata": {},
   "outputs": [
    {
     "name": "stdout",
     "output_type": "stream",
     "text": [
      "Electronics stores (TVs, smartphones, laptops, etc.)\n",
      "Appliance stores (refrigerators, washing machines, etc.)\n",
      "Computer and gadget accessories shops\n",
      "Mobile phone service providers\n"
     ]
    }
   ],
   "source": [
    "sm.Electronics_Technology()"
   ]
  },
  {
   "cell_type": "code",
   "execution_count": 36,
   "id": "647cb3b1",
   "metadata": {},
   "outputs": [
    {
     "name": "stdout",
     "output_type": "stream",
     "text": [
      "Movie theaters\n",
      "Arcade and game centers\n",
      "Bookstores\n",
      "Music and multimedia stores\n"
     ]
    }
   ],
   "source": [
    "sm.Entertainment()"
   ]
  },
  {
   "cell_type": "code",
   "execution_count": 37,
   "id": "8dd269ee",
   "metadata": {},
   "outputs": [
    {
     "name": "stdout",
     "output_type": "stream",
     "text": [
      "Clothing stores for men, women, and children\n",
      "Shoe stores\n",
      "Boutiques and fashion accessories shops\n",
      "Lingerie and intimate apparel stores\n"
     ]
    }
   ],
   "source": [
    "sm.Fashion_Apparel()"
   ]
  },
  {
   "cell_type": "code",
   "execution_count": 38,
   "id": "a04582b4",
   "metadata": {},
   "outputs": [
    {
     "name": "stdout",
     "output_type": "stream",
     "text": [
      "Restaurants and cafes\n",
      "Fast food outlets\n",
      "Food courts\n",
      "Specialty food stores (e.g., gourmet chocolates, tea, spices)\n"
     ]
    }
   ],
   "source": [
    "sm.Food_Dining()"
   ]
  },
  {
   "cell_type": "code",
   "execution_count": 39,
   "id": "16027a82",
   "metadata": {},
   "outputs": [
    {
     "name": "stdout",
     "output_type": "stream",
     "text": [
      "Furniture stores\n",
      "Home decor and furnishings shops\n",
      "Kitchenware and appliance stores\n",
      "Bedding and mattress outlets\n"
     ]
    }
   ],
   "source": [
    "sm.Home_Decor()"
   ]
  },
  {
   "cell_type": "code",
   "execution_count": 40,
   "id": "5e884f76",
   "metadata": {},
   "outputs": [
    {
     "name": "stdout",
     "output_type": "stream",
     "text": [
      "Jewelry stores (rings, necklaces, bracelets, etc.)\n",
      "Watch shops\n",
      "Watch shops\n",
      "Handbag and accessory boutiques\n"
     ]
    }
   ],
   "source": [
    "sm.Jewelry_Accessories()"
   ]
  },
  {
   "cell_type": "code",
   "execution_count": 41,
   "id": "6daecaa9",
   "metadata": {},
   "outputs": [
    {
     "name": "stdout",
     "output_type": "stream",
     "text": [
      "Toy stores\n",
      "Children's clothing and shoe shops\n",
      "Educational toy stores\n",
      "Baby care and maternity stores\n"
     ]
    }
   ],
   "source": [
    "sm.Kids_Toys()"
   ]
  },
  {
   "cell_type": "code",
   "execution_count": 42,
   "id": "fe5a7a88",
   "metadata": {},
   "outputs": [
    {
     "name": "stdout",
     "output_type": "stream",
     "text": [
      "Sportswear and athletic shoe stores\n",
      "Sporting goods shops\n",
      "Fitness equipment stores\n",
      "Specialty sports retailers (e.g., golf, outdoor adventure)\n"
     ]
    }
   ],
   "source": [
    "sm.Sports_Fitness()"
   ]
  },
  {
   "cell_type": "code",
   "execution_count": null,
   "id": "f88e15b2",
   "metadata": {},
   "outputs": [],
   "source": []
  }
 ],
 "metadata": {
  "kernelspec": {
   "display_name": "Python 3 (ipykernel)",
   "language": "python",
   "name": "python3"
  },
  "language_info": {
   "codemirror_mode": {
    "name": "ipython",
    "version": 3
   },
   "file_extension": ".py",
   "mimetype": "text/x-python",
   "name": "python",
   "nbconvert_exporter": "python",
   "pygments_lexer": "ipython3",
   "version": "3.10.12"
  }
 },
 "nbformat": 4,
 "nbformat_minor": 5
}
