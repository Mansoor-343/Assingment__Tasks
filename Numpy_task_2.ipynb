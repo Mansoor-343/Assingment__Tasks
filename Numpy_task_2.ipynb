{
 "cells": [
  {
   "cell_type": "markdown",
   "id": "797db5a9",
   "metadata": {},
   "source": [
    "Creation of ndarray\n",
    "\n",
    "Write python code to create 3d array in different ways with 15 elements.\n",
    "Array Creation:\n",
    "a. Create a 4D NumPy array containing the first 12 positive integers as arr1. b. Create a 3D NumPy array1 with 20 random elements containing integers between 0 and 1. 3. Find all attributes of array1 and array2 4. Apply measure and describe the data (attributes and descriptive statistics) to above arrays using NumPy.\n",
    "\n",
    "Array Slicing and Indexing:\n",
    "\n",
    "a. Creating Arrays: - Create a 1-dimensional NumPy array arr1 with the values [0, 11, 26, 73, 42, 51, 6,77, 8,29]. - Create a 2-dimensional NumPy array arr2 with the values [[0, 1, 2], [3, 4, 5], [6, 7, 8]].\n",
    "\n",
    "b.Basic Indexing: - Print the element at index 3 of arr1. - Print the element at row 2, column 1 of arr2\n",
    "\n",
    "c. Array Slicing: - Print the first five elements of arr1. - Print the subarray of arr2 consisting of the last two rows and the first two columns. - Print every second element starting from index 1 up to index 7 of arr1.\n",
    "\n",
    "Data Type Manipulation\n",
    "\n",
    "a. Creating Arrays with Specific Data Types: - Create a 1-dimensional NumPy array int_array with the values [1, 2, 3, 4, 5] and the data type int16. - Create a 1-dimensional NumPy array float_array with the values [0.1, 0.2, 0.3, 0.4, 0.5] and the data type float64.\n",
    "\n",
    "b. Data Type Conversion: - Convert the float_array to an array with data type int32. Print the result. - Convert the int_array to an array with data type float32. Print the result.\n",
    "\n",
    "Generating Random Numbers:\n",
    "\n",
    "Use numpy.random.randint() to create an array rand_integers containing 10 random integers between 0 and 100 (inclusive).\n",
    "\n",
    "Use numpy.random.uniform() to create an array rand_uniform containing 5 random numbers sampled from a uniform distribution between -1 and 1.\n",
    "\n",
    "Create an array rand_matrix with random integers between 50 and 100 (inclusive).and reshape it to 2-dimensional (4 x 4) matrix\n",
    "\n",
    "Apply descriptive statistics for rand_matrix.\n",
    "\n",
    "Analyze the Data:\n",
    "\n",
    "Salaries = [87877, 54494, 54804, 85051, 52453, 31250, 94868, 66349, 39828, 60501, 58570, 74906, 41671, 51428, 56414, 98446, 56819, 82833, 50477, 62898, 99658, 89224, 34225, 79172, 32199, 63795, 90947, 55723, 64557, 3113638]\n",
    "\n",
    "Describe the data using numpy array. Measure the following:\n",
    "\n",
    "How many employees are getting more less than 50000?\n",
    "\n",
    "Is it following Normal Distribution?\n",
    "\n",
    "What is the median salary?\n",
    "\n",
    "What is the range of salaries for this company?\n",
    "\n",
    "Find the salaries between average salary and 75% of salaries?\n",
    "\n",
    "How many employees are getting less than 25 % of salaries ?"
   ]
  },
  {
   "cell_type": "code",
   "execution_count": null,
   "id": "49263f46",
   "metadata": {},
   "outputs": [],
   "source": []
  },
  {
   "cell_type": "markdown",
   "id": "5be593d7",
   "metadata": {},
   "source": [
    "Creation of ndarray\n",
    "\n",
    "Write python code to create 3d array in different ways with 15 elements. Array Creation: a. Create a 4D NumPy array containing the first 12 positive integers as arr1. b. Create a 3D NumPy array1 with 20 random elements containing integers between 0 and 1. 3. Find all attributes of array1 and array2 4. Apply measure and describe the data (attributes and descriptive statistics) to above arrays using NumPy."
   ]
  },
  {
   "cell_type": "code",
   "execution_count": 1,
   "id": "19c12dca",
   "metadata": {},
   "outputs": [],
   "source": [
    "import numpy as np"
   ]
  },
  {
   "cell_type": "code",
   "execution_count": 150,
   "id": "2e7ac51b",
   "metadata": {},
   "outputs": [],
   "source": [
    "arr1 = np.array([1,2,3,4,5,6,7,8,9,10,11,12,13,14,15], ndmin = 3)"
   ]
  },
  {
   "cell_type": "code",
   "execution_count": 151,
   "id": "44a58cf7",
   "metadata": {},
   "outputs": [
    {
     "data": {
      "text/plain": [
       "array([[[ 1,  2,  3,  4,  5,  6,  7,  8,  9, 10, 11, 12, 13, 14, 15]]])"
      ]
     },
     "execution_count": 151,
     "metadata": {},
     "output_type": "execute_result"
    }
   ],
   "source": [
    "arr1"
   ]
  },
  {
   "cell_type": "code",
   "execution_count": 152,
   "id": "7585da59",
   "metadata": {},
   "outputs": [
    {
     "data": {
      "text/plain": [
       "array([[[ 1,  2,  3,  4,  5],\n",
       "        [ 6,  7,  8,  9, 10],\n",
       "        [11, 12, 13, 14, 15]]])"
      ]
     },
     "execution_count": 152,
     "metadata": {},
     "output_type": "execute_result"
    }
   ],
   "source": [
    "arr1.reshape(1,3,5)"
   ]
  },
  {
   "cell_type": "code",
   "execution_count": 153,
   "id": "0ed3b4b3",
   "metadata": {},
   "outputs": [],
   "source": [
    "arr2 = np.arange(1,16)"
   ]
  },
  {
   "cell_type": "code",
   "execution_count": 154,
   "id": "d501bfae",
   "metadata": {},
   "outputs": [
    {
     "data": {
      "text/plain": [
       "array([ 1,  2,  3,  4,  5,  6,  7,  8,  9, 10, 11, 12, 13, 14, 15])"
      ]
     },
     "execution_count": 154,
     "metadata": {},
     "output_type": "execute_result"
    }
   ],
   "source": [
    "arr2"
   ]
  },
  {
   "cell_type": "code",
   "execution_count": 155,
   "id": "b0c5eea7",
   "metadata": {},
   "outputs": [
    {
     "data": {
      "text/plain": [
       "array([[[ 1,  2,  3,  4,  5]],\n",
       "\n",
       "       [[ 6,  7,  8,  9, 10]],\n",
       "\n",
       "       [[11, 12, 13, 14, 15]]])"
      ]
     },
     "execution_count": 155,
     "metadata": {},
     "output_type": "execute_result"
    }
   ],
   "source": [
    "arr2.reshape(3,1,5)"
   ]
  },
  {
   "cell_type": "code",
   "execution_count": null,
   "id": "6ad29852",
   "metadata": {},
   "outputs": [],
   "source": []
  },
  {
   "cell_type": "markdown",
   "id": "0887ce46",
   "metadata": {},
   "source": [
    "a. Create a 4D NumPy array containing the first 12 positive integers as arr1. "
   ]
  },
  {
   "cell_type": "code",
   "execution_count": 156,
   "id": "8221bedd",
   "metadata": {},
   "outputs": [],
   "source": [
    "arr1 = np.arange(1,13)"
   ]
  },
  {
   "cell_type": "code",
   "execution_count": 157,
   "id": "fab169bb",
   "metadata": {},
   "outputs": [
    {
     "data": {
      "text/plain": [
       "array([[[[ 1,  2,  3,  4],\n",
       "         [ 5,  6,  7,  8],\n",
       "         [ 9, 10, 11, 12]]]])"
      ]
     },
     "execution_count": 157,
     "metadata": {},
     "output_type": "execute_result"
    }
   ],
   "source": [
    "arr1.reshape(1,1,3,4)"
   ]
  },
  {
   "cell_type": "code",
   "execution_count": 158,
   "id": "516ec115",
   "metadata": {},
   "outputs": [],
   "source": [
    "arr1 = np.array([1,2,3,4,5,6,7,8,9,10,11,12], ndmin = 4)"
   ]
  },
  {
   "cell_type": "code",
   "execution_count": 159,
   "id": "38e1efdf",
   "metadata": {},
   "outputs": [
    {
     "data": {
      "text/plain": [
       "array([[[[ 1,  2,  3,  4,  5,  6,  7,  8,  9, 10, 11, 12]]]])"
      ]
     },
     "execution_count": 159,
     "metadata": {},
     "output_type": "execute_result"
    }
   ],
   "source": [
    "arr1"
   ]
  },
  {
   "cell_type": "code",
   "execution_count": null,
   "id": "1e815551",
   "metadata": {},
   "outputs": [],
   "source": []
  },
  {
   "cell_type": "markdown",
   "id": "8b65bbe9",
   "metadata": {},
   "source": [
    ". b. Create a 3D NumPy array1 with 20 random elements containing integers between 0 and 1. 3. Find all attributes of array1 and array2 4. Apply measure and describe the data (attributes and descriptive statistics) to above arrays using NumPy."
   ]
  },
  {
   "cell_type": "code",
   "execution_count": 160,
   "id": "55e89a11",
   "metadata": {},
   "outputs": [],
   "source": [
    "array2 = np.random.rand(20)"
   ]
  },
  {
   "cell_type": "code",
   "execution_count": 161,
   "id": "01807a5f",
   "metadata": {},
   "outputs": [
    {
     "data": {
      "text/plain": [
       "array([0.79333125, 0.16022359, 0.97235536, 0.17796911, 0.98979813,\n",
       "       0.42139454, 0.34277313, 0.29550056, 0.29833373, 0.0090313 ,\n",
       "       0.54310292, 0.18708015, 0.75542758, 0.65373244, 0.53678792,\n",
       "       0.76996718, 0.00941925, 0.15116268, 0.6263889 , 0.07241469])"
      ]
     },
     "execution_count": 161,
     "metadata": {},
     "output_type": "execute_result"
    }
   ],
   "source": [
    "array2"
   ]
  },
  {
   "cell_type": "markdown",
   "id": "8fabb965",
   "metadata": {},
   "source": [
    "## Atrributes"
   ]
  },
  {
   "cell_type": "code",
   "execution_count": 162,
   "id": "0f2a8fe3",
   "metadata": {},
   "outputs": [
    {
     "data": {
      "text/plain": [
       "dtype('int32')"
      ]
     },
     "execution_count": 162,
     "metadata": {},
     "output_type": "execute_result"
    }
   ],
   "source": [
    "arr1.dtype"
   ]
  },
  {
   "cell_type": "code",
   "execution_count": 163,
   "id": "bdc425e9",
   "metadata": {},
   "outputs": [
    {
     "data": {
      "text/plain": [
       "4"
      ]
     },
     "execution_count": 163,
     "metadata": {},
     "output_type": "execute_result"
    }
   ],
   "source": [
    "arr1.ndim"
   ]
  },
  {
   "cell_type": "code",
   "execution_count": 164,
   "id": "cec10ffb",
   "metadata": {},
   "outputs": [
    {
     "data": {
      "text/plain": [
       "12"
      ]
     },
     "execution_count": 164,
     "metadata": {},
     "output_type": "execute_result"
    }
   ],
   "source": [
    "arr1.size"
   ]
  },
  {
   "cell_type": "code",
   "execution_count": 165,
   "id": "f82f68ad",
   "metadata": {},
   "outputs": [
    {
     "data": {
      "text/plain": [
       "48"
      ]
     },
     "execution_count": 165,
     "metadata": {},
     "output_type": "execute_result"
    }
   ],
   "source": [
    "arr1.nbytes"
   ]
  },
  {
   "cell_type": "code",
   "execution_count": 166,
   "id": "7ff873ad",
   "metadata": {},
   "outputs": [
    {
     "data": {
      "text/plain": [
       "4"
      ]
     },
     "execution_count": 166,
     "metadata": {},
     "output_type": "execute_result"
    }
   ],
   "source": [
    "arr1.itemsize"
   ]
  },
  {
   "cell_type": "code",
   "execution_count": 167,
   "id": "48cec29c",
   "metadata": {},
   "outputs": [
    {
     "data": {
      "text/plain": [
       "dtype('float64')"
      ]
     },
     "execution_count": 167,
     "metadata": {},
     "output_type": "execute_result"
    }
   ],
   "source": [
    "array2.dtype"
   ]
  },
  {
   "cell_type": "code",
   "execution_count": 168,
   "id": "e6ded47d",
   "metadata": {},
   "outputs": [
    {
     "data": {
      "text/plain": [
       "1"
      ]
     },
     "execution_count": 168,
     "metadata": {},
     "output_type": "execute_result"
    }
   ],
   "source": [
    "array2.ndim"
   ]
  },
  {
   "cell_type": "code",
   "execution_count": 169,
   "id": "67f5d9e2",
   "metadata": {},
   "outputs": [
    {
     "data": {
      "text/plain": [
       "20"
      ]
     },
     "execution_count": 169,
     "metadata": {},
     "output_type": "execute_result"
    }
   ],
   "source": [
    "array2.size"
   ]
  },
  {
   "cell_type": "code",
   "execution_count": 170,
   "id": "c5c1b3b8",
   "metadata": {},
   "outputs": [
    {
     "data": {
      "text/plain": [
       "160"
      ]
     },
     "execution_count": 170,
     "metadata": {},
     "output_type": "execute_result"
    }
   ],
   "source": [
    "array2.nbytes"
   ]
  },
  {
   "cell_type": "code",
   "execution_count": 171,
   "id": "c1968dc8",
   "metadata": {},
   "outputs": [
    {
     "data": {
      "text/plain": [
       "8"
      ]
     },
     "execution_count": 171,
     "metadata": {},
     "output_type": "execute_result"
    }
   ],
   "source": [
    "array2.itemsize"
   ]
  },
  {
   "cell_type": "markdown",
   "id": "2f210d17",
   "metadata": {},
   "source": [
    "### descriptive statistics"
   ]
  },
  {
   "cell_type": "code",
   "execution_count": 172,
   "id": "c04673d1",
   "metadata": {},
   "outputs": [
    {
     "data": {
      "text/plain": [
       "array([[[[ 1,  2,  3,  4,  5,  6,  7,  8,  9, 10, 11, 12]]]])"
      ]
     },
     "execution_count": 172,
     "metadata": {},
     "output_type": "execute_result"
    }
   ],
   "source": [
    "arr1"
   ]
  },
  {
   "cell_type": "code",
   "execution_count": 173,
   "id": "143cd8f8",
   "metadata": {},
   "outputs": [
    {
     "data": {
      "text/plain": [
       "array([0.79333125, 0.16022359, 0.97235536, 0.17796911, 0.98979813,\n",
       "       0.42139454, 0.34277313, 0.29550056, 0.29833373, 0.0090313 ,\n",
       "       0.54310292, 0.18708015, 0.75542758, 0.65373244, 0.53678792,\n",
       "       0.76996718, 0.00941925, 0.15116268, 0.6263889 , 0.07241469])"
      ]
     },
     "execution_count": 173,
     "metadata": {},
     "output_type": "execute_result"
    }
   ],
   "source": [
    "array2"
   ]
  },
  {
   "cell_type": "code",
   "execution_count": 174,
   "id": "64f8a5cd",
   "metadata": {},
   "outputs": [
    {
     "data": {
      "text/plain": [
       "6.5"
      ]
     },
     "execution_count": 174,
     "metadata": {},
     "output_type": "execute_result"
    }
   ],
   "source": [
    "# mean of arr1 and array 2\n",
    "np.mean(arr1)\n"
   ]
  },
  {
   "cell_type": "code",
   "execution_count": 175,
   "id": "e384685d",
   "metadata": {},
   "outputs": [
    {
     "data": {
      "text/plain": [
       "0.43830971960213755"
      ]
     },
     "execution_count": 175,
     "metadata": {},
     "output_type": "execute_result"
    }
   ],
   "source": [
    "np.mean(array2)"
   ]
  },
  {
   "cell_type": "code",
   "execution_count": 176,
   "id": "d721f388",
   "metadata": {},
   "outputs": [
    {
     "data": {
      "text/plain": [
       "6.5"
      ]
     },
     "execution_count": 176,
     "metadata": {},
     "output_type": "execute_result"
    }
   ],
   "source": [
    "# median of arr1 and array2\n",
    "np.median(arr1)"
   ]
  },
  {
   "cell_type": "code",
   "execution_count": 177,
   "id": "e5d3d9a0",
   "metadata": {},
   "outputs": [
    {
     "data": {
      "text/plain": [
       "0.38208383621787434"
      ]
     },
     "execution_count": 177,
     "metadata": {},
     "output_type": "execute_result"
    }
   ],
   "source": [
    "np.median(array2)"
   ]
  },
  {
   "cell_type": "code",
   "execution_count": 178,
   "id": "16cd2668",
   "metadata": {},
   "outputs": [],
   "source": [
    "# measure of spread \n"
   ]
  },
  {
   "cell_type": "code",
   "execution_count": 179,
   "id": "8cdd8f5f",
   "metadata": {},
   "outputs": [
    {
     "data": {
      "text/plain": [
       "11"
      ]
     },
     "execution_count": 179,
     "metadata": {},
     "output_type": "execute_result"
    }
   ],
   "source": [
    "# range of arr1\n",
    "range1 = np.max(arr1) - np.min(arr1)\n",
    "range1"
   ]
  },
  {
   "cell_type": "code",
   "execution_count": 180,
   "id": "79a7a9aa",
   "metadata": {},
   "outputs": [
    {
     "data": {
      "text/plain": [
       "0.9807668310913348"
      ]
     },
     "execution_count": 180,
     "metadata": {},
     "output_type": "execute_result"
    }
   ],
   "source": [
    "# range of array2\n",
    "range2 =  np.max(array2) - np.min(array2)\n",
    "range2"
   ]
  },
  {
   "cell_type": "code",
   "execution_count": 181,
   "id": "1bd99c26",
   "metadata": {},
   "outputs": [
    {
     "data": {
      "text/plain": [
       "11.916666666666666"
      ]
     },
     "execution_count": 181,
     "metadata": {},
     "output_type": "execute_result"
    }
   ],
   "source": [
    "# variance of arr1\n",
    "np.var(arr1)"
   ]
  },
  {
   "cell_type": "code",
   "execution_count": 182,
   "id": "17a38b76",
   "metadata": {},
   "outputs": [
    {
     "data": {
      "text/plain": [
       "0.0935295663595512"
      ]
     },
     "execution_count": 182,
     "metadata": {},
     "output_type": "execute_result"
    }
   ],
   "source": [
    "# variance of array2\n",
    "np.var(array2)"
   ]
  },
  {
   "cell_type": "code",
   "execution_count": 183,
   "id": "9ee2779c",
   "metadata": {},
   "outputs": [
    {
     "data": {
      "text/plain": [
       "3.452052529534663"
      ]
     },
     "execution_count": 183,
     "metadata": {},
     "output_type": "execute_result"
    }
   ],
   "source": [
    "# standard deviation of arr1\n",
    "np.std(arr1)"
   ]
  },
  {
   "cell_type": "code",
   "execution_count": 184,
   "id": "ed6c98ea",
   "metadata": {},
   "outputs": [
    {
     "data": {
      "text/plain": [
       "0.3058260393745948"
      ]
     },
     "execution_count": 184,
     "metadata": {},
     "output_type": "execute_result"
    }
   ],
   "source": [
    "# standard deviation of array2\n",
    "np.std(array2)"
   ]
  },
  {
   "cell_type": "code",
   "execution_count": 141,
   "id": "70b44e08",
   "metadata": {},
   "outputs": [
    {
     "data": {
      "text/plain": [
       "40.0"
      ]
     },
     "execution_count": 141,
     "metadata": {},
     "output_type": "execute_result"
    }
   ],
   "source": [
    "# IQR of arr1\n",
    "q3_1 = np.percentile(arr1,75)\n",
    "q1_1 = np.percentile(arr1,25)\n",
    "IQR1 = q3_1 - q1_1\n",
    "IQR1"
   ]
  },
  {
   "cell_type": "code",
   "execution_count": 185,
   "id": "8c2d9f18",
   "metadata": {},
   "outputs": [
    {
     "data": {
      "text/plain": [
       "0.5056234950631148"
      ]
     },
     "execution_count": 185,
     "metadata": {},
     "output_type": "execute_result"
    }
   ],
   "source": [
    "# IQR of array2 \n",
    "q3_2 = np.percentile(array2,75)\n",
    "q1_2 = np.percentile(array2,25)\n",
    "IQR2 = q3_2 - q1_2\n",
    "IQR2"
   ]
  },
  {
   "cell_type": "code",
   "execution_count": 187,
   "id": "54715792",
   "metadata": {},
   "outputs": [],
   "source": [
    "# to find outlier of arr1\n",
    "lower_limit = q1_1 - (1.5 * IQR1)\n",
    "upper_limit = q3_1 + (1.5 * IQR1)\n"
   ]
  },
  {
   "cell_type": "code",
   "execution_count": 188,
   "id": "a451a9ef",
   "metadata": {},
   "outputs": [
    {
     "data": {
      "text/plain": [
       "array([[[[False, False, False, False, False, False, False, False,\n",
       "          False, False, False, False]]]])"
      ]
     },
     "execution_count": 188,
     "metadata": {},
     "output_type": "execute_result"
    }
   ],
   "source": [
    "arr1>upper_limit"
   ]
  },
  {
   "cell_type": "code",
   "execution_count": 189,
   "id": "78b73cb5",
   "metadata": {},
   "outputs": [
    {
     "data": {
      "text/plain": [
       "array([[[[ 1,  2,  3,  4,  5,  6,  7,  8,  9, 10, 11, 12]]]])"
      ]
     },
     "execution_count": 189,
     "metadata": {},
     "output_type": "execute_result"
    }
   ],
   "source": [
    "arr1"
   ]
  },
  {
   "cell_type": "code",
   "execution_count": 190,
   "id": "9a72fdc1",
   "metadata": {},
   "outputs": [],
   "source": [
    "## no outliers"
   ]
  },
  {
   "cell_type": "code",
   "execution_count": 191,
   "id": "2039f047",
   "metadata": {},
   "outputs": [
    {
     "data": {
      "text/plain": [
       "array([[[[False, False, False, False, False, False, False, False,\n",
       "          False, False, False, False]]]])"
      ]
     },
     "execution_count": 191,
     "metadata": {},
     "output_type": "execute_result"
    }
   ],
   "source": [
    "arr1<lower_limit"
   ]
  },
  {
   "cell_type": "code",
   "execution_count": 82,
   "id": "def4c1c9",
   "metadata": {},
   "outputs": [],
   "source": []
  },
  {
   "cell_type": "code",
   "execution_count": null,
   "id": "a1c4bcf2",
   "metadata": {},
   "outputs": [],
   "source": []
  },
  {
   "cell_type": "code",
   "execution_count": 192,
   "id": "830712bf",
   "metadata": {},
   "outputs": [],
   "source": [
    "# to find outlier of array2\n",
    "lower_limit_2 = q1_2 - (1.5 * IQR1)\n",
    "upper_limit_2 = q3_2 + (1.5 * IQR1)"
   ]
  },
  {
   "cell_type": "code",
   "execution_count": 193,
   "id": "79a0b3e1",
   "metadata": {},
   "outputs": [
    {
     "data": {
      "text/plain": [
       "array([0.79333125, 0.16022359, 0.97235536, 0.17796911, 0.98979813,\n",
       "       0.42139454, 0.34277313, 0.29550056, 0.29833373, 0.0090313 ,\n",
       "       0.54310292, 0.18708015, 0.75542758, 0.65373244, 0.53678792,\n",
       "       0.76996718, 0.00941925, 0.15116268, 0.6263889 , 0.07241469])"
      ]
     },
     "execution_count": 193,
     "metadata": {},
     "output_type": "execute_result"
    }
   ],
   "source": [
    "array2"
   ]
  },
  {
   "cell_type": "code",
   "execution_count": 194,
   "id": "97683b20",
   "metadata": {},
   "outputs": [
    {
     "data": {
      "text/plain": [
       "array([False, False, False, False, False, False, False, False, False,\n",
       "       False, False, False, False, False, False, False, False, False,\n",
       "       False, False])"
      ]
     },
     "execution_count": 194,
     "metadata": {},
     "output_type": "execute_result"
    }
   ],
   "source": [
    "array2>upper_limit_2"
   ]
  },
  {
   "cell_type": "code",
   "execution_count": 195,
   "id": "262fc30b",
   "metadata": {},
   "outputs": [
    {
     "data": {
      "text/plain": [
       "array([False, False, False, False, False, False, False, False, False,\n",
       "       False, False, False, False, False, False, False, False, False,\n",
       "       False, False])"
      ]
     },
     "execution_count": 195,
     "metadata": {},
     "output_type": "execute_result"
    }
   ],
   "source": [
    "array2<lower_limit_2"
   ]
  },
  {
   "cell_type": "code",
   "execution_count": 196,
   "id": "cdee1eab",
   "metadata": {},
   "outputs": [],
   "source": [
    "# from above no outliers in array2"
   ]
  },
  {
   "cell_type": "code",
   "execution_count": null,
   "id": "4b4c8954",
   "metadata": {},
   "outputs": [],
   "source": []
  },
  {
   "cell_type": "markdown",
   "id": "4409047a",
   "metadata": {},
   "source": [
    "Array Slicing and Indexing:\n",
    "\n",
    "a. Creating Arrays: - Create a 1-dimensional NumPy array arr1 with the values [0, 11, 26, 73, 42, 51, 6,77, 8,29]. - Create a 2-dimensional NumPy array arr2 with the values [[0, 1, 2], [3, 4, 5], [6, 7, 8]].\n",
    "\n",
    "b.Basic Indexing: - Print the element at index 3 of arr1. - Print the element at row 2, column 1 of arr2\n",
    "\n",
    "c. Array Slicing: - Print the first five elements of arr1. - Print the subarray of arr2 consisting of the last two rows and the first two columns. - Print every second element starting from index 1 up to index 7 of arr1."
   ]
  },
  {
   "cell_type": "code",
   "execution_count": 197,
   "id": "fc1d631f",
   "metadata": {},
   "outputs": [],
   "source": [
    "arr1 = np.array([0, 11, 26, 73, 42, 51, 6,77, 8,29])"
   ]
  },
  {
   "cell_type": "code",
   "execution_count": 198,
   "id": "1f074aff",
   "metadata": {},
   "outputs": [
    {
     "data": {
      "text/plain": [
       "array([[0, 1, 2],\n",
       "       [3, 4, 5],\n",
       "       [6, 7, 8]])"
      ]
     },
     "execution_count": 198,
     "metadata": {},
     "output_type": "execute_result"
    }
   ],
   "source": [
    "arr2 = np.array( [[0, 1, 2], [3, 4, 5], [6, 7, 8]])\n",
    "arr2"
   ]
  },
  {
   "cell_type": "code",
   "execution_count": 199,
   "id": "ef3cf3e2",
   "metadata": {},
   "outputs": [
    {
     "data": {
      "text/plain": [
       "73"
      ]
     },
     "execution_count": 199,
     "metadata": {},
     "output_type": "execute_result"
    }
   ],
   "source": [
    "arr1[3]"
   ]
  },
  {
   "cell_type": "code",
   "execution_count": 200,
   "id": "3d49ed10",
   "metadata": {},
   "outputs": [
    {
     "data": {
      "text/plain": [
       "3"
      ]
     },
     "execution_count": 200,
     "metadata": {},
     "output_type": "execute_result"
    }
   ],
   "source": [
    "arr2[1][0]"
   ]
  },
  {
   "cell_type": "code",
   "execution_count": 201,
   "id": "de84ef9d",
   "metadata": {},
   "outputs": [
    {
     "data": {
      "text/plain": [
       "array([ 0, 11, 26, 73, 42])"
      ]
     },
     "execution_count": 201,
     "metadata": {},
     "output_type": "execute_result"
    }
   ],
   "source": [
    "arr1[:5]"
   ]
  },
  {
   "cell_type": "code",
   "execution_count": 202,
   "id": "4bf957d3",
   "metadata": {},
   "outputs": [
    {
     "data": {
      "text/plain": [
       "array([[3, 4],\n",
       "       [6, 7]])"
      ]
     },
     "execution_count": 202,
     "metadata": {},
     "output_type": "execute_result"
    }
   ],
   "source": [
    "arr2[1:,0:2]"
   ]
  },
  {
   "cell_type": "code",
   "execution_count": 203,
   "id": "5f0330cf",
   "metadata": {},
   "outputs": [
    {
     "data": {
      "text/plain": [
       "array([11, 73, 51, 77])"
      ]
     },
     "execution_count": 203,
     "metadata": {},
     "output_type": "execute_result"
    }
   ],
   "source": [
    "arr1[1:8:2]"
   ]
  },
  {
   "cell_type": "code",
   "execution_count": null,
   "id": "8429b029",
   "metadata": {},
   "outputs": [],
   "source": []
  },
  {
   "cell_type": "markdown",
   "id": "ba91e12b",
   "metadata": {},
   "source": [
    "Data Type Manipulation\n",
    "\n",
    "a. Creating Arrays with Specific Data Types: - Create a 1-dimensional NumPy array int_array with the values [1, 2, 3, 4, 5] and the data type int16. - Create a 1-dimensional NumPy array float_array with the values [0.1, 0.2, 0.3, 0.4, 0.5] and the data type float64.\n",
    "\n",
    "b. Data Type Conversion: - Convert the float_array to an array with data type int32. Print the result. - Convert the int_array to an array with data type float32. Print the result."
   ]
  },
  {
   "cell_type": "code",
   "execution_count": 204,
   "id": "96387d8b",
   "metadata": {},
   "outputs": [],
   "source": [
    "int_array = np.array([1, 2, 3, 4, 5],dtype=\"int16\")"
   ]
  },
  {
   "cell_type": "code",
   "execution_count": 205,
   "id": "7ae91977",
   "metadata": {},
   "outputs": [
    {
     "data": {
      "text/plain": [
       "dtype('int16')"
      ]
     },
     "execution_count": 205,
     "metadata": {},
     "output_type": "execute_result"
    }
   ],
   "source": [
    "int_array.dtype"
   ]
  },
  {
   "cell_type": "code",
   "execution_count": 206,
   "id": "3c7713d1",
   "metadata": {},
   "outputs": [],
   "source": [
    "float_array = np.array([0.1, 0.2, 0.3, 0.4, 0.5],dtype =\"float32\")"
   ]
  },
  {
   "cell_type": "code",
   "execution_count": 207,
   "id": "abd4ec75",
   "metadata": {},
   "outputs": [
    {
     "data": {
      "text/plain": [
       "dtype('float32')"
      ]
     },
     "execution_count": 207,
     "metadata": {},
     "output_type": "execute_result"
    }
   ],
   "source": [
    "float_array.dtype"
   ]
  },
  {
   "cell_type": "code",
   "execution_count": 208,
   "id": "032a37fa",
   "metadata": {},
   "outputs": [
    {
     "data": {
      "text/plain": [
       "dtype('int32')"
      ]
     },
     "execution_count": 208,
     "metadata": {},
     "output_type": "execute_result"
    }
   ],
   "source": [
    "float_conversion = np.array([0.1, 0.2, 0.3, 0.4, 0.5],dtype = \"int32\")\n",
    "float_conversion.dtype"
   ]
  },
  {
   "cell_type": "code",
   "execution_count": 209,
   "id": "9e5efd3e",
   "metadata": {},
   "outputs": [
    {
     "data": {
      "text/plain": [
       "array([0, 0, 0, 0, 0])"
      ]
     },
     "execution_count": 209,
     "metadata": {},
     "output_type": "execute_result"
    }
   ],
   "source": [
    "float_conversion"
   ]
  },
  {
   "cell_type": "code",
   "execution_count": 210,
   "id": "d2ff8bfa",
   "metadata": {},
   "outputs": [
    {
     "data": {
      "text/plain": [
       "dtype('float32')"
      ]
     },
     "execution_count": 210,
     "metadata": {},
     "output_type": "execute_result"
    }
   ],
   "source": [
    "int_conversion =  np.array([1, 2, 3, 4, 5],dtype=\"float32\")\n",
    "int_conversion.dtype"
   ]
  },
  {
   "cell_type": "code",
   "execution_count": 211,
   "id": "10affbc7",
   "metadata": {},
   "outputs": [
    {
     "data": {
      "text/plain": [
       "array([1., 2., 3., 4., 5.], dtype=float32)"
      ]
     },
     "execution_count": 211,
     "metadata": {},
     "output_type": "execute_result"
    }
   ],
   "source": [
    "int_conversion"
   ]
  },
  {
   "cell_type": "code",
   "execution_count": null,
   "id": "86d32178",
   "metadata": {},
   "outputs": [],
   "source": []
  },
  {
   "cell_type": "markdown",
   "id": "c2926608",
   "metadata": {},
   "source": [
    "Generating Random Numbers:\n",
    "\n",
    "Use numpy.random.randint() to create an array rand_integers containing 10 random integers between 0 and 100 (inclusive).\n",
    "\n",
    "Use numpy.random.uniform() to create an array rand_uniform containing 5 random numbers sampled from a uniform distribution between -1 and 1.\n",
    "\n",
    "Create an array rand_matrix with random integers between 50 and 100 (inclusive).and reshape it to 2-dimensional (4 x 4) matrix\n",
    "\n",
    "Apply descriptive statistics for rand_matrix."
   ]
  },
  {
   "cell_type": "code",
   "execution_count": 212,
   "id": "5b659512",
   "metadata": {},
   "outputs": [
    {
     "data": {
      "text/plain": [
       "array([ 6, 32, 20, 23, 68, 92, 84, 88,  2, 83])"
      ]
     },
     "execution_count": 212,
     "metadata": {},
     "output_type": "execute_result"
    }
   ],
   "source": [
    "np.random.randint(0,100,10)"
   ]
  },
  {
   "cell_type": "code",
   "execution_count": 213,
   "id": "689ff69b",
   "metadata": {},
   "outputs": [
    {
     "data": {
      "text/plain": [
       "array([ 0.86745162, -0.26258416,  0.72682466, -0.37066702, -0.35269213])"
      ]
     },
     "execution_count": 213,
     "metadata": {},
     "output_type": "execute_result"
    }
   ],
   "source": [
    "np.random.uniform(-1,1,5)"
   ]
  },
  {
   "cell_type": "code",
   "execution_count": 217,
   "id": "617f1f26",
   "metadata": {},
   "outputs": [
    {
     "data": {
      "text/plain": [
       "array([[100,  81,  56,  59],\n",
       "       [ 90,  83,  85,  78],\n",
       "       [ 72,  94,  67,  55],\n",
       "       [ 98,  90,  57,  60]])"
      ]
     },
     "execution_count": 217,
     "metadata": {},
     "output_type": "execute_result"
    }
   ],
   "source": [
    "rand_matrix = np.random.randint(50,101,16).reshape(4,4)\n",
    "rand_matrix"
   ]
  },
  {
   "cell_type": "markdown",
   "id": "9f0cb613",
   "metadata": {},
   "source": [
    "descripitve statistics"
   ]
  },
  {
   "cell_type": "code",
   "execution_count": 218,
   "id": "61da3d2e",
   "metadata": {},
   "outputs": [
    {
     "data": {
      "text/plain": [
       "76.5625"
      ]
     },
     "execution_count": 218,
     "metadata": {},
     "output_type": "execute_result"
    }
   ],
   "source": [
    "# mean \n",
    "np.mean(rand_matrix)"
   ]
  },
  {
   "cell_type": "code",
   "execution_count": 219,
   "id": "2160b214",
   "metadata": {},
   "outputs": [
    {
     "data": {
      "text/plain": [
       "79.5"
      ]
     },
     "execution_count": 219,
     "metadata": {},
     "output_type": "execute_result"
    }
   ],
   "source": [
    "# median\n",
    "np.median(rand_matrix)"
   ]
  },
  {
   "cell_type": "code",
   "execution_count": 220,
   "id": "9abc9471",
   "metadata": {},
   "outputs": [
    {
     "data": {
      "text/plain": [
       "45"
      ]
     },
     "execution_count": 220,
     "metadata": {},
     "output_type": "execute_result"
    }
   ],
   "source": [
    "# range \n",
    "range1 = np.max(rand_matrix) - np.min(rand_matrix)\n",
    "range1"
   ]
  },
  {
   "cell_type": "code",
   "execution_count": 221,
   "id": "57c8063d",
   "metadata": {},
   "outputs": [
    {
     "data": {
      "text/plain": [
       "235.87109375"
      ]
     },
     "execution_count": 221,
     "metadata": {},
     "output_type": "execute_result"
    }
   ],
   "source": [
    "# variance\n",
    "np.var(rand_matrix)"
   ]
  },
  {
   "cell_type": "code",
   "execution_count": 222,
   "id": "e767dd22",
   "metadata": {},
   "outputs": [
    {
     "data": {
      "text/plain": [
       "15.358095381589477"
      ]
     },
     "execution_count": 222,
     "metadata": {},
     "output_type": "execute_result"
    }
   ],
   "source": [
    "# standard deviation\n",
    "np.std(rand_matrix)"
   ]
  },
  {
   "cell_type": "code",
   "execution_count": 130,
   "id": "17660b2e",
   "metadata": {},
   "outputs": [],
   "source": [
    "# IQR"
   ]
  },
  {
   "cell_type": "code",
   "execution_count": 223,
   "id": "5b377877",
   "metadata": {},
   "outputs": [
    {
     "data": {
      "text/plain": [
       "30.25"
      ]
     },
     "execution_count": 223,
     "metadata": {},
     "output_type": "execute_result"
    }
   ],
   "source": [
    "q3= np.percentile(rand_matrix,75)\n",
    "q1 = np.percentile(rand_matrix,25)\n",
    "IQR = q3-q1\n",
    "IQR"
   ]
  },
  {
   "cell_type": "code",
   "execution_count": 224,
   "id": "d38930e1",
   "metadata": {},
   "outputs": [],
   "source": [
    "# to find outlier\n",
    "lower_limit = q1 - (1.5 * IQR)\n",
    "upper_limit = q3 + (1.5 * IQR)"
   ]
  },
  {
   "cell_type": "code",
   "execution_count": 225,
   "id": "2aea1b75",
   "metadata": {},
   "outputs": [
    {
     "data": {
      "text/plain": [
       "array([[100,  81,  56,  59],\n",
       "       [ 90,  83,  85,  78],\n",
       "       [ 72,  94,  67,  55],\n",
       "       [ 98,  90,  57,  60]])"
      ]
     },
     "execution_count": 225,
     "metadata": {},
     "output_type": "execute_result"
    }
   ],
   "source": [
    "rand_matrix"
   ]
  },
  {
   "cell_type": "code",
   "execution_count": 226,
   "id": "30496cc3",
   "metadata": {},
   "outputs": [
    {
     "data": {
      "text/plain": [
       "array([[False, False, False, False],\n",
       "       [False, False, False, False],\n",
       "       [False, False, False, False],\n",
       "       [False, False, False, False]])"
      ]
     },
     "execution_count": 226,
     "metadata": {},
     "output_type": "execute_result"
    }
   ],
   "source": [
    "rand_matrix>upper_limit"
   ]
  },
  {
   "cell_type": "code",
   "execution_count": 227,
   "id": "ef50df8d",
   "metadata": {},
   "outputs": [
    {
     "data": {
      "text/plain": [
       "array([[False, False, False, False],\n",
       "       [False, False, False, False],\n",
       "       [False, False, False, False],\n",
       "       [False, False, False, False]])"
      ]
     },
     "execution_count": 227,
     "metadata": {},
     "output_type": "execute_result"
    }
   ],
   "source": [
    "rand_matrix<lower_limit"
   ]
  },
  {
   "cell_type": "code",
   "execution_count": 136,
   "id": "282fc326",
   "metadata": {},
   "outputs": [],
   "source": [
    "# no outliers"
   ]
  },
  {
   "cell_type": "code",
   "execution_count": null,
   "id": "cc580ad6",
   "metadata": {},
   "outputs": [],
   "source": []
  },
  {
   "cell_type": "markdown",
   "id": "b8474736",
   "metadata": {},
   "source": [
    "Analyze the Data:\n",
    "\n",
    "Salaries = [87877, 54494, 54804, 85051, 52453, 31250, 94868, 66349, 39828, 60501, 58570, 74906, 41671, 51428, 56414, 98446, 56819, 82833, 50477, 62898, 99658, 89224, 34225, 79172, 32199, 63795, 90947, 55723, 64557, 3113638]\n",
    "\n",
    "Describe the data using numpy array. Measure the following:\n",
    "\n",
    "How many employees are getting more less than 50000?\n",
    "\n",
    "Is it following Normal Distribution?\n",
    "\n",
    "What is the median salary?\n",
    "\n",
    "What is the range of salaries for this company?\n",
    "\n",
    "Find the salaries between average salary and 75% of salaries?\n",
    "\n",
    "How many employees are getting less than 25 % of salaries ?"
   ]
  },
  {
   "cell_type": "code",
   "execution_count": 232,
   "id": "c8ac6b8f",
   "metadata": {},
   "outputs": [],
   "source": [
    "salaries = np.array([87877, 54494, 54804, 85051, 52453, 31250, 94868, 66349, 39828, 60501, 58570, 74906, 41671, 51428, 56414, 98446, 56819, 82833, 50477, 62898, 99658, 89224, 34225, 79172, 32199, 63795, 90947, 55723, 64557, 3113638])"
   ]
  },
  {
   "cell_type": "code",
   "execution_count": 229,
   "id": "11ad7c54",
   "metadata": {},
   "outputs": [
    {
     "data": {
      "text/plain": [
       "array([31250, 39828, 41671, 34225, 32199])"
      ]
     },
     "execution_count": 229,
     "metadata": {},
     "output_type": "execute_result"
    }
   ],
   "source": [
    "salaries[salaries<50000]"
   ]
  },
  {
   "cell_type": "code",
   "execution_count": 230,
   "id": "3cea8eb8",
   "metadata": {},
   "outputs": [],
   "source": [
    "# 5 employess are getting more less than 50000"
   ]
  },
  {
   "cell_type": "code",
   "execution_count": 237,
   "id": "0650dfac",
   "metadata": {},
   "outputs": [
    {
     "data": {
      "text/plain": [
       "166169.16666666666"
      ]
     },
     "execution_count": 237,
     "metadata": {},
     "output_type": "execute_result"
    }
   ],
   "source": [
    "# mean \n",
    "m = np.mean(salaries)\n",
    "m"
   ]
  },
  {
   "cell_type": "code",
   "execution_count": 238,
   "id": "14b3aedd",
   "metadata": {},
   "outputs": [
    {
     "data": {
      "text/plain": [
       "61699.5"
      ]
     },
     "execution_count": 238,
     "metadata": {},
     "output_type": "execute_result"
    }
   ],
   "source": [
    "np.median(salaries)"
   ]
  },
  {
   "cell_type": "code",
   "execution_count": 241,
   "id": "104516e5",
   "metadata": {},
   "outputs": [
    {
     "data": {
      "text/plain": [
       "547678.585700353"
      ]
     },
     "execution_count": 241,
     "metadata": {},
     "output_type": "execute_result"
    }
   ],
   "source": [
    "std1 = np.std(salaries)\n",
    "std1"
   ]
  },
  {
   "cell_type": "code",
   "execution_count": 243,
   "id": "d3180c54",
   "metadata": {},
   "outputs": [
    {
     "data": {
      "text/plain": [
       "-381509.4190336864"
      ]
     },
     "execution_count": 243,
     "metadata": {},
     "output_type": "execute_result"
    }
   ],
   "source": [
    "range1 = m-std1\n",
    "range1"
   ]
  },
  {
   "cell_type": "code",
   "execution_count": 244,
   "id": "96781701",
   "metadata": {},
   "outputs": [
    {
     "data": {
      "text/plain": [
       "713847.7523670197"
      ]
     },
     "execution_count": 244,
     "metadata": {},
     "output_type": "execute_result"
    }
   ],
   "source": [
    "range2 = m+std1\n",
    "range2"
   ]
  },
  {
   "cell_type": "code",
   "execution_count": 245,
   "id": "64d66ef1",
   "metadata": {},
   "outputs": [
    {
     "data": {
      "text/plain": [
       "array([], dtype=int32)"
      ]
     },
     "execution_count": 245,
     "metadata": {},
     "output_type": "execute_result"
    }
   ],
   "source": [
    "salaries[salaries<range1]"
   ]
  },
  {
   "cell_type": "code",
   "execution_count": 258,
   "id": "f6993ea9",
   "metadata": {},
   "outputs": [
    {
     "data": {
      "text/plain": [
       "array([87877, 54494, 54804, 85051, 52453, 31250, 94868, 66349, 39828,\n",
       "       60501, 58570, 74906, 41671, 51428, 56414, 98446, 56819, 82833,\n",
       "       50477, 62898, 99658, 89224, 34225, 79172, 32199, 63795, 90947,\n",
       "       55723, 64557])"
      ]
     },
     "execution_count": 258,
     "metadata": {},
     "output_type": "execute_result"
    }
   ],
   "source": [
    "s_68 = salaries[salaries<range2] # 68% of data\n",
    "s_68"
   ]
  },
  {
   "cell_type": "code",
   "execution_count": 259,
   "id": "11593f82",
   "metadata": {},
   "outputs": [
    {
     "data": {
      "text/plain": [
       "29"
      ]
     },
     "execution_count": 259,
     "metadata": {},
     "output_type": "execute_result"
    }
   ],
   "source": [
    "len(s_68)"
   ]
  },
  {
   "cell_type": "code",
   "execution_count": 247,
   "id": "9d97b54c",
   "metadata": {},
   "outputs": [
    {
     "data": {
      "text/plain": [
       "-929188.0047340394"
      ]
     },
     "execution_count": 247,
     "metadata": {},
     "output_type": "execute_result"
    }
   ],
   "source": [
    "range3 = m - (2 * std1)\n",
    "range3"
   ]
  },
  {
   "cell_type": "code",
   "execution_count": 249,
   "id": "5d5c2c65",
   "metadata": {},
   "outputs": [
    {
     "data": {
      "text/plain": [
       "1261526.3380673728"
      ]
     },
     "execution_count": 249,
     "metadata": {},
     "output_type": "execute_result"
    }
   ],
   "source": [
    "range4 = m + (2 * std1)\n",
    "range4"
   ]
  },
  {
   "cell_type": "code",
   "execution_count": 254,
   "id": "80d1e4f5",
   "metadata": {},
   "outputs": [
    {
     "data": {
      "text/plain": [
       "array([87877, 54494, 54804, 85051, 52453, 31250, 94868, 66349, 39828,\n",
       "       60501, 58570, 74906, 41671, 51428, 56414, 98446, 56819, 82833,\n",
       "       50477, 62898, 99658, 89224, 34225, 79172, 32199, 63795, 90947,\n",
       "       55723, 64557])"
      ]
     },
     "execution_count": 254,
     "metadata": {},
     "output_type": "execute_result"
    }
   ],
   "source": [
    "s_95 = salaries[salaries<range4]\n",
    "s_95"
   ]
  },
  {
   "cell_type": "code",
   "execution_count": 255,
   "id": "c80c878b",
   "metadata": {},
   "outputs": [
    {
     "data": {
      "text/plain": [
       "30"
      ]
     },
     "execution_count": 255,
     "metadata": {},
     "output_type": "execute_result"
    }
   ],
   "source": [
    "len(salaries)"
   ]
  },
  {
   "cell_type": "code",
   "execution_count": 256,
   "id": "788a52f4",
   "metadata": {},
   "outputs": [
    {
     "data": {
      "text/plain": [
       "29"
      ]
     },
     "execution_count": 256,
     "metadata": {},
     "output_type": "execute_result"
    }
   ],
   "source": [
    "len(s_95)"
   ]
  },
  {
   "cell_type": "code",
   "execution_count": 260,
   "id": "694819fb",
   "metadata": {},
   "outputs": [],
   "source": [
    "# out of 30, 29 elements in 68 and 95 percentage so data is  in normal distribution "
   ]
  },
  {
   "cell_type": "code",
   "execution_count": 261,
   "id": "de706ce6",
   "metadata": {},
   "outputs": [
    {
     "data": {
      "text/plain": [
       "31533.25"
      ]
     },
     "execution_count": 261,
     "metadata": {},
     "output_type": "execute_result"
    }
   ],
   "source": [
    "q3= np.percentile(salaries,75)\n",
    "q1 = np.percentile(salaries,25)\n",
    "IQR = q3-q1\n",
    "IQR"
   ]
  },
  {
   "cell_type": "code",
   "execution_count": 262,
   "id": "3aaa477e",
   "metadata": {},
   "outputs": [],
   "source": [
    "lower_limit = q1 - (1.5 * IQR)\n",
    "upper_limit = q3 + (1.5 * IQR)"
   ]
  },
  {
   "cell_type": "code",
   "execution_count": 265,
   "id": "77965566",
   "metadata": {},
   "outputs": [
    {
     "data": {
      "text/plain": [
       "array([3113638])"
      ]
     },
     "execution_count": 265,
     "metadata": {},
     "output_type": "execute_result"
    }
   ],
   "source": [
    "salaries[salaries > upper_limit]"
   ]
  },
  {
   "cell_type": "code",
   "execution_count": 266,
   "id": "2050be56",
   "metadata": {},
   "outputs": [
    {
     "data": {
      "text/plain": [
       "array([], dtype=int32)"
      ]
     },
     "execution_count": 266,
     "metadata": {},
     "output_type": "execute_result"
    }
   ],
   "source": [
    "salaries[salaries < lower_limit]"
   ]
  },
  {
   "cell_type": "code",
   "execution_count": 267,
   "id": "c1e6a422",
   "metadata": {},
   "outputs": [],
   "source": [
    "# only one outlier -- 31533.25"
   ]
  },
  {
   "cell_type": "code",
   "execution_count": 268,
   "id": "9b4a7fb5",
   "metadata": {},
   "outputs": [
    {
     "data": {
      "text/plain": [
       "61699.5"
      ]
     },
     "execution_count": 268,
     "metadata": {},
     "output_type": "execute_result"
    }
   ],
   "source": [
    "# median \n",
    "np.median(salaries)"
   ]
  },
  {
   "cell_type": "code",
   "execution_count": 270,
   "id": "348c2b40",
   "metadata": {},
   "outputs": [
    {
     "data": {
      "text/plain": [
       "3082388"
      ]
     },
     "execution_count": 270,
     "metadata": {},
     "output_type": "execute_result"
    }
   ],
   "source": [
    "# range\n",
    "range_salaries = np.max(salaries) - np.min(salaries)\n",
    "range_salaries"
   ]
  },
  {
   "cell_type": "code",
   "execution_count": 273,
   "id": "0a155ce1",
   "metadata": {},
   "outputs": [
    {
     "data": {
      "text/plain": [
       "166169.16666666666"
      ]
     },
     "execution_count": 273,
     "metadata": {},
     "output_type": "execute_result"
    }
   ],
   "source": [
    "# avearge = mean\n",
    "avg = np.mean(salaries)\n",
    "avg"
   ]
  },
  {
   "cell_type": "code",
   "execution_count": 274,
   "id": "f143bc7c",
   "metadata": {},
   "outputs": [
    {
     "data": {
      "text/plain": [
       "84496.5"
      ]
     },
     "execution_count": 274,
     "metadata": {},
     "output_type": "execute_result"
    }
   ],
   "source": [
    "q3"
   ]
  },
  {
   "cell_type": "code",
   "execution_count": 282,
   "id": "9ce76b3d",
   "metadata": {},
   "outputs": [
    {
     "data": {
      "text/plain": [
       "array([3113638])"
      ]
     },
     "execution_count": 282,
     "metadata": {},
     "output_type": "execute_result"
    }
   ],
   "source": [
    "salaries[(salaries > avg)]"
   ]
  },
  {
   "cell_type": "code",
   "execution_count": 286,
   "id": "41edbc3e",
   "metadata": {},
   "outputs": [
    {
     "data": {
      "text/plain": [
       "array([  87877,   85051,   94868,   98446,   99658,   89224,   90947,\n",
       "       3113638])"
      ]
     },
     "execution_count": 286,
     "metadata": {},
     "output_type": "execute_result"
    }
   ],
   "source": [
    "salaries[(salaries >=q3)] # the salaries between average salary and 75% of salaries."
   ]
  },
  {
   "cell_type": "code",
   "execution_count": 285,
   "id": "1231f6c1",
   "metadata": {},
   "outputs": [
    {
     "data": {
      "text/plain": [
       "8"
      ]
     },
     "execution_count": 285,
     "metadata": {},
     "output_type": "execute_result"
    }
   ],
   "source": [
    "len(salaries[(salaries >=q3)])"
   ]
  },
  {
   "cell_type": "code",
   "execution_count": 287,
   "id": "b38cedac",
   "metadata": {},
   "outputs": [],
   "source": [
    "# 7 salaries "
   ]
  },
  {
   "cell_type": "code",
   "execution_count": 289,
   "id": "3b31d133",
   "metadata": {},
   "outputs": [
    {
     "data": {
      "text/plain": [
       "52963.25"
      ]
     },
     "execution_count": 289,
     "metadata": {},
     "output_type": "execute_result"
    }
   ],
   "source": [
    "q1"
   ]
  },
  {
   "cell_type": "code",
   "execution_count": 288,
   "id": "9f62a540",
   "metadata": {},
   "outputs": [
    {
     "data": {
      "text/plain": [
       "array([52453, 31250, 39828, 41671, 51428, 50477, 34225, 32199])"
      ]
     },
     "execution_count": 288,
     "metadata": {},
     "output_type": "execute_result"
    }
   ],
   "source": [
    "salaries[salaries<q1]"
   ]
  },
  {
   "cell_type": "code",
   "execution_count": 290,
   "id": "3db90af6",
   "metadata": {},
   "outputs": [
    {
     "data": {
      "text/plain": [
       "8"
      ]
     },
     "execution_count": 290,
     "metadata": {},
     "output_type": "execute_result"
    }
   ],
   "source": [
    "len(salaries[salaries<q1])"
   ]
  },
  {
   "cell_type": "code",
   "execution_count": null,
   "id": "b3de63ed",
   "metadata": {},
   "outputs": [],
   "source": [
    "\"8\" employees are getting less than 25 % of salaries."
   ]
  }
 ],
 "metadata": {
  "kernelspec": {
   "display_name": "Python 3 (ipykernel)",
   "language": "python",
   "name": "python3"
  },
  "language_info": {
   "codemirror_mode": {
    "name": "ipython",
    "version": 3
   },
   "file_extension": ".py",
   "mimetype": "text/x-python",
   "name": "python",
   "nbconvert_exporter": "python",
   "pygments_lexer": "ipython3",
   "version": "3.10.12"
  }
 },
 "nbformat": 4,
 "nbformat_minor": 5
}
