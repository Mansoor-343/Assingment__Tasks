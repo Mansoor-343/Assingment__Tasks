{
 "cells": [
  {
   "cell_type": "markdown",
   "id": "992099b4",
   "metadata": {},
   "source": [
    "Task1: Append and Modify Elements\n",
    "\n",
    "Create an empty list called numbers. Append the numbers 1, 2, and 3 to the list.\n",
    "\n",
    "Modify the element at index 1 to be 4.\n",
    "\n",
    "Print the updated list.\n",
    "\n",
    "Task2: Slicing and Concatenation\n",
    "\n",
    "Create a list called fruits with elements 'apple', 'banana', 'orange', 'mango', and 'kiwi'.\n",
    "\n",
    "Create a new list by slicing fruits to include only the citrus fruits ('orange' and 'mango\"). * Create a new list called tropical by slicing fruits to include only the tropical fruits ('banana\" and \"kiwi').\n",
    "\n",
    "Concatenate citrus and tropical lists to create a new list called combined. Print combined.\n",
    "\n",
    "Task3: Counting and Removing Elements\n",
    "\n",
    "Create a list called colors with repeated elements 'red', 'blue', 'red', 'green', 'red'. Print the number of occurrences of 'red' in the list. Remove all occurrences of 'red' from the list. Print the updated list.\n",
    "\n",
    "Task 4: List Manipulation\n",
    "\n",
    "Add 'cheese' to the end of the list. Remove 'milk' from the list.\n",
    "\n",
    "Create a list called groceries with initial items: 'bread', 'milk', 'eggs', 'butter'. Print the final list of groceries.\n",
    "Insert 'yogurt' at index 1.\n"
   ]
  },
  {
   "cell_type": "markdown",
   "id": "d1c59d15",
   "metadata": {},
   "source": [
    "Task1: Append and Modify Elements\n",
    "\n",
    "Create an empty list called numbers. Append the numbers 1, 2, and 3 to the list.\n",
    "\n",
    "Modify the element at index 1 to be 4."
   ]
  },
  {
   "cell_type": "code",
   "execution_count": 3,
   "id": "f4f88998",
   "metadata": {},
   "outputs": [],
   "source": [
    "numbers = []"
   ]
  },
  {
   "cell_type": "code",
   "execution_count": 4,
   "id": "12b873f2",
   "metadata": {},
   "outputs": [],
   "source": [
    "numbers.append(1)"
   ]
  },
  {
   "cell_type": "code",
   "execution_count": 5,
   "id": "58bba139",
   "metadata": {},
   "outputs": [],
   "source": [
    "numbers.append(2)"
   ]
  },
  {
   "cell_type": "code",
   "execution_count": 6,
   "id": "ecec876c",
   "metadata": {},
   "outputs": [],
   "source": [
    "numbers.append(3)"
   ]
  },
  {
   "cell_type": "code",
   "execution_count": 7,
   "id": "ae63534d",
   "metadata": {},
   "outputs": [
    {
     "data": {
      "text/plain": [
       "[1, 2, 3]"
      ]
     },
     "execution_count": 7,
     "metadata": {},
     "output_type": "execute_result"
    }
   ],
   "source": [
    "numbers"
   ]
  },
  {
   "cell_type": "code",
   "execution_count": 8,
   "id": "a3d01f91",
   "metadata": {},
   "outputs": [],
   "source": [
    "numbers.insert(1,4)"
   ]
  },
  {
   "cell_type": "code",
   "execution_count": 9,
   "id": "beabdf14",
   "metadata": {},
   "outputs": [
    {
     "data": {
      "text/plain": [
       "[1, 4, 2, 3]"
      ]
     },
     "execution_count": 9,
     "metadata": {},
     "output_type": "execute_result"
    }
   ],
   "source": [
    "numbers"
   ]
  },
  {
   "cell_type": "markdown",
   "id": "81bbfed2",
   "metadata": {},
   "source": [
    "Task2: Slicing and Concatenation\n",
    "\n",
    "1)Create a list called fruits with elements 'apple', 'banana', 'orange', 'mango', and 'kiwi'.\n",
    "\n",
    "2)Create a new list by slicing fruits to include only the citrus fruits ('orange' and 'mango\"). * Create a new list called tropical by slicing fruits to include only the tropical fruits ('banana\" and \"kiwi').\n",
    "\n",
    "3)Concatenate citrus and tropical lists to create a new list called combined. Print combined."
   ]
  },
  {
   "cell_type": "code",
   "execution_count": 10,
   "id": "eeb6eeab",
   "metadata": {},
   "outputs": [],
   "source": [
    "fruits = ['apple', 'banana', 'orange', 'mango','kiwi']"
   ]
  },
  {
   "cell_type": "code",
   "execution_count": 11,
   "id": "233f4d57",
   "metadata": {},
   "outputs": [],
   "source": [
    "citrus_fruits = fruits[2:4]"
   ]
  },
  {
   "cell_type": "code",
   "execution_count": 12,
   "id": "396e5b70",
   "metadata": {},
   "outputs": [
    {
     "data": {
      "text/plain": [
       "['orange', 'mango']"
      ]
     },
     "execution_count": 12,
     "metadata": {},
     "output_type": "execute_result"
    }
   ],
   "source": [
    "citrus_fruits"
   ]
  },
  {
   "cell_type": "code",
   "execution_count": 20,
   "id": "f65804d5",
   "metadata": {},
   "outputs": [],
   "source": [
    "tropical_fruits = fruits[1::3]"
   ]
  },
  {
   "cell_type": "code",
   "execution_count": 21,
   "id": "b2ed7eeb",
   "metadata": {},
   "outputs": [
    {
     "data": {
      "text/plain": [
       "['banana', 'kiwi']"
      ]
     },
     "execution_count": 21,
     "metadata": {},
     "output_type": "execute_result"
    }
   ],
   "source": [
    "tropical_fruits"
   ]
  },
  {
   "cell_type": "code",
   "execution_count": 24,
   "id": "abe3ad4e",
   "metadata": {},
   "outputs": [],
   "source": [
    "combined_list =  citrus_fruits + tropical_fruits"
   ]
  },
  {
   "cell_type": "code",
   "execution_count": 25,
   "id": "6557739a",
   "metadata": {},
   "outputs": [
    {
     "data": {
      "text/plain": [
       "['orange', 'mango', 'banana', 'kiwi']"
      ]
     },
     "execution_count": 25,
     "metadata": {},
     "output_type": "execute_result"
    }
   ],
   "source": [
    "combined_list"
   ]
  },
  {
   "cell_type": "markdown",
   "id": "22bf24ba",
   "metadata": {},
   "source": [
    "Task3: Counting and Removing Elements\n",
    "\n",
    "Create a list called colors with repeated elements 'red', 'blue', 'red', 'green', 'red'. Print the number of occurrences of 'red' in the list. Remove all occurrences of 'red' from the list. Print the updated list."
   ]
  },
  {
   "cell_type": "code",
   "execution_count": 26,
   "id": "b7ffccba",
   "metadata": {},
   "outputs": [],
   "source": [
    "colors = ['red', 'blue', 'red', 'green', 'red']"
   ]
  },
  {
   "cell_type": "code",
   "execution_count": 27,
   "id": "b1724101",
   "metadata": {},
   "outputs": [
    {
     "data": {
      "text/plain": [
       "3"
      ]
     },
     "execution_count": 27,
     "metadata": {},
     "output_type": "execute_result"
    }
   ],
   "source": [
    "colors.count(\"red\") # no .of occures red is 3"
   ]
  },
  {
   "cell_type": "code",
   "execution_count": 35,
   "id": "e1c7fe02",
   "metadata": {},
   "outputs": [
    {
     "data": {
      "text/plain": [
       "['blue', 'red', 'green', 'red', 'red']"
      ]
     },
     "execution_count": 35,
     "metadata": {},
     "output_type": "execute_result"
    }
   ],
   "source": [
    "colors"
   ]
  },
  {
   "cell_type": "code",
   "execution_count": 36,
   "id": "0fc41475",
   "metadata": {},
   "outputs": [],
   "source": [
    "colors.remove(\"red\")"
   ]
  },
  {
   "cell_type": "code",
   "execution_count": 37,
   "id": "589b8df0",
   "metadata": {},
   "outputs": [],
   "source": [
    "colors.remove(\"red\")"
   ]
  },
  {
   "cell_type": "code",
   "execution_count": 38,
   "id": "8f06a564",
   "metadata": {},
   "outputs": [],
   "source": [
    "colors.remove(\"red\")"
   ]
  },
  {
   "cell_type": "code",
   "execution_count": 40,
   "id": "a7063797",
   "metadata": {},
   "outputs": [
    {
     "name": "stdout",
     "output_type": "stream",
     "text": [
      "['blue', 'green']\n"
     ]
    }
   ],
   "source": [
    "updated_list= print(colors)"
   ]
  },
  {
   "cell_type": "markdown",
   "id": "b0753ae1",
   "metadata": {},
   "source": [
    "Task 4: List Manipulation\n",
    "\n",
    "Add 'cheese' to the end of the list. Remove 'milk' from the list.\n",
    "\n",
    "Create a list called groceries with initial items: 'bread', 'milk', 'eggs', 'butter'. Print the final list of groceries. Insert 'yogurt' at index 1."
   ]
  },
  {
   "cell_type": "code",
   "execution_count": 43,
   "id": "6323344f",
   "metadata": {},
   "outputs": [],
   "source": [
    "groceries = ['bread', 'milk', 'eggs','butter']"
   ]
  },
  {
   "cell_type": "code",
   "execution_count": 44,
   "id": "06478c14",
   "metadata": {},
   "outputs": [],
   "source": [
    "groceries.append('cheese' )"
   ]
  },
  {
   "cell_type": "code",
   "execution_count": 45,
   "id": "e2d9c771",
   "metadata": {},
   "outputs": [
    {
     "data": {
      "text/plain": [
       "['bread', 'milk', 'eggs', 'butter', 'cheese']"
      ]
     },
     "execution_count": 45,
     "metadata": {},
     "output_type": "execute_result"
    }
   ],
   "source": [
    "groceries"
   ]
  },
  {
   "cell_type": "code",
   "execution_count": 46,
   "id": "013d5b91",
   "metadata": {},
   "outputs": [],
   "source": [
    "groceries.remove('milk')"
   ]
  },
  {
   "cell_type": "code",
   "execution_count": 48,
   "id": "e7d1e776",
   "metadata": {},
   "outputs": [],
   "source": [
    "groceries.insert(1,'yogurt')"
   ]
  },
  {
   "cell_type": "code",
   "execution_count": 49,
   "id": "b28e9265",
   "metadata": {},
   "outputs": [
    {
     "data": {
      "text/plain": [
       "['bread', 'yogurt', 'eggs', 'butter', 'cheese']"
      ]
     },
     "execution_count": 49,
     "metadata": {},
     "output_type": "execute_result"
    }
   ],
   "source": [
    "groceries"
   ]
  },
  {
   "cell_type": "code",
   "execution_count": null,
   "id": "8b3aebe4",
   "metadata": {},
   "outputs": [],
   "source": []
  }
 ],
 "metadata": {
  "kernelspec": {
   "display_name": "Python 3 (ipykernel)",
   "language": "python",
   "name": "python3"
  },
  "language_info": {
   "codemirror_mode": {
    "name": "ipython",
    "version": 3
   },
   "file_extension": ".py",
   "mimetype": "text/x-python",
   "name": "python",
   "nbconvert_exporter": "python",
   "pygments_lexer": "ipython3",
   "version": "3.10.12"
  }
 },
 "nbformat": 4,
 "nbformat_minor": 5
}
