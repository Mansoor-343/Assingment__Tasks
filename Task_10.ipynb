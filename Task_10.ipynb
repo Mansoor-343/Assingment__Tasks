{
 "cells": [
  {
   "cell_type": "markdown",
   "id": "99259501",
   "metadata": {},
   "source": [
    "1)Basic List Comprehension: Write a Python program that uses list comprehension to generate a list of cubes of the first 10 positive integers.\n",
    "\n",
    "2)Filtering with List Comprehension: Given a list of integers, create a new list using list comprehension that contains only the multiple of 3 and 5 from the original list.\n",
    "\n",
    "3)String Manipulation with List Comprehension: Given a list of strings, create a new list using list comprehension that contains the lengths of each string.\n",
    "\n",
    "4)List Comprehension with Conditionals: Given a list of numbers, create a new list using list comprehension that contains the squares of even numbers\n",
    "\n",
    "5)Pattern Printing\n",
    "\n",
    "Write a Python program that takes an integer 'n' as input and prints the following pattern:\n",
    "\n",
    "For n = 4, the pattern should look like this:\n",
    "\n",
    "1\n",
    "1 2\n",
    "1 2 3\n",
    "1 2 3 4\n",
    "\n",
    "6)Multiplication Table\n",
    "\n",
    "Create a Python program that generates and prints a multiplication table for a given number 'n'. The table should include values from 1 to 10.\n",
    "\n",
    "For example, if n = 5, the output should be:\n",
    "\n",
    "```\n",
    "5 x 1 = 5\n",
    "5 x 2 = 10\n",
    "5 x 3 = 15\n",
    "5 x 4 = 20\n",
    "5 x 5 = 25\n",
    "5 x 6 = 30\n",
    "5 x 7 = 35\n",
    "5 x 8 = 40\n",
    "5 x 9 = 45\n",
    "5 x 10 = 50\n",
    "```\n",
    "\n",
    "7)Star Patterns\n",
    "\n",
    "Write a Python program that takes an integer 'n' as input and prints the following patterns:\n",
    "\n",
    "a) Right-angled triangle pattern:\n",
    "\n",
    "*\n",
    "**\n",
    "\n",
    "***\n",
    "\n",
    "****\n",
    "*****\n",
    "b) Inverted right-angled triangle pattern:\n",
    "\n",
    "*****\n",
    "****\n",
    "***\n",
    "**\n",
    "*\n",
    "8)Number Pyramid\n",
    "\n",
    "Create a Python program that takes an integer 'n' as input and prints a number pyramid as shown below:\n",
    "\n",
    "For n = 4, the output should be:\n",
    "\n",
    "   1\n",
    "  212\n",
    " 32123\n",
    "4321234"
   ]
  },
  {
   "cell_type": "code",
   "execution_count": null,
   "id": "e552bf3b",
   "metadata": {},
   "outputs": [],
   "source": []
  },
  {
   "cell_type": "markdown",
   "id": "26a26ae5",
   "metadata": {},
   "source": [
    "1)Basic List Comprehension: Write a Python program that uses list comprehension to generate a list of cubes of the first 10 positive integers.\n"
   ]
  },
  {
   "cell_type": "code",
   "execution_count": 1,
   "id": "98d553cf",
   "metadata": {},
   "outputs": [
    {
     "data": {
      "text/plain": [
       "[1, 8, 27, 64, 125, 216, 343, 512, 729, 1000]"
      ]
     },
     "execution_count": 1,
     "metadata": {},
     "output_type": "execute_result"
    }
   ],
   "source": [
    "[i**3 for i in range(1,11)]"
   ]
  },
  {
   "cell_type": "code",
   "execution_count": null,
   "id": "989ac21c",
   "metadata": {},
   "outputs": [],
   "source": []
  },
  {
   "cell_type": "markdown",
   "id": "03d31dd2",
   "metadata": {},
   "source": [
    "2)Filtering with List Comprehension: Given a list of integers, create a new list using list comprehension that contains only the multiple of 3 and 5 from the original list."
   ]
  },
  {
   "cell_type": "code",
   "execution_count": 6,
   "id": "09341637",
   "metadata": {},
   "outputs": [
    {
     "data": {
      "text/plain": [
       "[15, 30, 45, 60, 75, 90]"
      ]
     },
     "execution_count": 6,
     "metadata": {},
     "output_type": "execute_result"
    }
   ],
   "source": [
    "a = list(range(1,100))\n",
    "[i for i in a if (i%3==0) and (i%5==0)]"
   ]
  },
  {
   "cell_type": "code",
   "execution_count": null,
   "id": "a46a46a4",
   "metadata": {},
   "outputs": [],
   "source": []
  },
  {
   "cell_type": "markdown",
   "id": "6a9776d1",
   "metadata": {},
   "source": [
    "3)String Manipulation with List Comprehension: Given a list of strings, create a new list using list comprehension that contains the lengths of each string."
   ]
  },
  {
   "cell_type": "code",
   "execution_count": 14,
   "id": "ae78af46",
   "metadata": {},
   "outputs": [
    {
     "data": {
      "text/plain": [
       "['python length = 6',\n",
       " 'sql length = 3',\n",
       " 'Data analytics length = 14',\n",
       " 'Data Science length = 12',\n",
       " 'Numpys length = 6',\n",
       " 'pandas length = 6']"
      ]
     },
     "execution_count": 14,
     "metadata": {},
     "output_type": "execute_result"
    }
   ],
   "source": [
    "l1 = [\"python\",\"sql\",\"Data analytics\",\"Data Science\",\"Numpys\",\"pandas\"]\n",
    "[(f\"{i} length = {len(i)}\") for i in l1]"
   ]
  },
  {
   "cell_type": "code",
   "execution_count": null,
   "id": "e2293c38",
   "metadata": {},
   "outputs": [],
   "source": []
  },
  {
   "cell_type": "markdown",
   "id": "e54a8d66",
   "metadata": {},
   "source": [
    "4)List Comprehension with Conditionals: Given a list of numbers, create a new list using list comprehension that contains the squares of even numbers"
   ]
  },
  {
   "cell_type": "code",
   "execution_count": 16,
   "id": "e542f6ef",
   "metadata": {},
   "outputs": [
    {
     "data": {
      "text/plain": [
       "[4, 16, 36, 64, 100, 144, 196, 256, 324, 400]"
      ]
     },
     "execution_count": 16,
     "metadata": {},
     "output_type": "execute_result"
    }
   ],
   "source": [
    "a = list(range(1,21))\n",
    "[i**2 for i in a if i%2==0]"
   ]
  },
  {
   "cell_type": "code",
   "execution_count": null,
   "id": "836f5a5e",
   "metadata": {},
   "outputs": [],
   "source": []
  },
  {
   "cell_type": "markdown",
   "id": "05007292",
   "metadata": {},
   "source": [
    "5)Pattern Printing\n",
    "\n",
    "Write a Python program that takes an integer 'n' as input and prints the following pattern:\n",
    "\n",
    "For n = 4, the pattern should look like this:\n",
    "\n",
    "1\n",
    "1 2\n",
    "1 2 3\n",
    "1 2 3 4"
   ]
  },
  {
   "cell_type": "code",
   "execution_count": 66,
   "id": "497da37b",
   "metadata": {},
   "outputs": [
    {
     "name": "stdout",
     "output_type": "stream",
     "text": [
      " 1 \n",
      " 1 2 \n",
      " 1 2 3 \n",
      " 1 2 3 4 \n"
     ]
    }
   ],
   "source": [
    "n = 4\n",
    "\n",
    "for i in range(1,n+1):\n",
    "    string = \" \"\n",
    "    for j in range(1,i+1):\n",
    "        string = string +  str(j) + \" \"\n",
    "        \n",
    "    print(string)\n",
    "    "
   ]
  },
  {
   "cell_type": "code",
   "execution_count": null,
   "id": "df07886c",
   "metadata": {},
   "outputs": [],
   "source": []
  },
  {
   "cell_type": "markdown",
   "id": "d096a180",
   "metadata": {},
   "source": [
    "6)Multiplication Table\n",
    "\n",
    "Create a Python program that generates and prints a multiplication table for a given number 'n'. The table should include values from 1 to 10.\n",
    "\n",
    "For example, if n = 5, the output should be:\n",
    "\n",
    "5 x 1 = 5\n",
    "5 x 2 = 10\n",
    "5 x 3 = 15\n",
    "5 x 4 = 20\n",
    "5 x 5 = 25\n",
    "5 x 6 = 30\n",
    "5 x 7 = 35\n",
    "5 x 8 = 40\n",
    "5 x 9 = 45\n",
    "5 x 10 = 50"
   ]
  },
  {
   "cell_type": "code",
   "execution_count": 57,
   "id": "14412596",
   "metadata": {},
   "outputs": [
    {
     "name": "stdout",
     "output_type": "stream",
     "text": [
      "enter a multiple table::9\n",
      "9 * 1 = 9\n",
      "9 * 2 = 18\n",
      "9 * 3 = 27\n",
      "9 * 4 = 36\n",
      "9 * 5 = 45\n",
      "9 * 6 = 54\n",
      "9 * 7 = 63\n",
      "9 * 8 = 72\n",
      "9 * 9 = 81\n",
      "9 * 10 = 90\n"
     ]
    }
   ],
   "source": [
    "n = int(input(\"enter a multiple table::\"))\n",
    "for i in range(1,11):\n",
    "    print(f\"{n} * {i} = {n*i}\")"
   ]
  },
  {
   "cell_type": "code",
   "execution_count": null,
   "id": "adebf084",
   "metadata": {},
   "outputs": [],
   "source": []
  },
  {
   "cell_type": "code",
   "execution_count": null,
   "id": "6fb2308a",
   "metadata": {},
   "outputs": [],
   "source": [
    "7)Star Patterns\n",
    "\n",
    "Write a Python program that takes an integer 'n' as input and prints the following patterns:\n",
    "\n",
    "a) Right-angled triangle pattern:\n",
    "\n",
    "*\n",
    "**\n",
    "***\n",
    "****\n",
    "*****\n",
    "b) Inverted right-angled triangle pattern:\n",
    "\n",
    "*****\n",
    "****\n",
    "***\n",
    "**\n",
    "*"
   ]
  },
  {
   "cell_type": "code",
   "execution_count": 60,
   "id": "15dc3e1f",
   "metadata": {},
   "outputs": [
    {
     "name": "stdout",
     "output_type": "stream",
     "text": [
      "enter a rows::6\n",
      "*\n",
      "**\n",
      "***\n",
      "****\n",
      "*****\n",
      "******\n"
     ]
    }
   ],
   "source": [
    "# right-angled \n",
    "n = int(input(\"enter a rows::\"))\n",
    "for i in range(1,n+1):\n",
    "    print(\"*\" * i)"
   ]
  },
  {
   "cell_type": "code",
   "execution_count": 61,
   "id": "aec985a6",
   "metadata": {},
   "outputs": [
    {
     "name": "stdout",
     "output_type": "stream",
     "text": [
      "enter a rows::6\n",
      "*******\n",
      "******\n",
      "*****\n",
      "****\n",
      "***\n",
      "**\n",
      "*\n"
     ]
    }
   ],
   "source": [
    "# inverted right-angled\n",
    "n = int(input(\"enter a rows::\"))\n",
    "for i in range(n+1,0,-1):\n",
    "    print(\"*\" * i)"
   ]
  },
  {
   "cell_type": "code",
   "execution_count": null,
   "id": "568d3a8b",
   "metadata": {},
   "outputs": [],
   "source": []
  },
  {
   "cell_type": "markdown",
   "id": "a9fc6344",
   "metadata": {},
   "source": [
    "8)Number Pyramid\n",
    "\n",
    "Create a Python program that takes an integer 'n' as input and prints a number pyramid as shown below:\n",
    "\n",
    "For n = 4, the output should be:\n",
    "\n",
    "   1\n",
    "  212\n",
    " 32123\n",
    "4321234"
   ]
  },
  {
   "cell_type": "code",
   "execution_count": 1,
   "id": "6ae13065",
   "metadata": {},
   "outputs": [
    {
     "name": "stdout",
     "output_type": "stream",
     "text": [
      "Enter the pyramid number: 6\n",
      "     1\n",
      "    212\n",
      "   32123\n",
      "  4321234\n",
      " 543212345\n",
      "65432123456\n"
     ]
    }
   ],
   "source": [
    "n = int(input(\"Enter the pyramid number: \"))\n",
    "\n",
    "for i in range(1, n + 1):\n",
    "    string = \"\"\n",
    "    for j in range(n - i):\n",
    "        string += \" \"\n",
    "    for j in range(i, 0, -1):\n",
    "        string += str(j)\n",
    "    for j in range(2, i + 1):\n",
    "        string += str(j)\n",
    "    print(string)\n",
    "    "
   ]
  },
  {
   "cell_type": "code",
   "execution_count": null,
   "id": "e6895dd7",
   "metadata": {},
   "outputs": [],
   "source": [
    "\n"
   ]
  },
  {
   "cell_type": "code",
   "execution_count": null,
   "id": "6121aa94",
   "metadata": {},
   "outputs": [],
   "source": []
  }
 ],
 "metadata": {
  "kernelspec": {
   "display_name": "Python 3 (ipykernel)",
   "language": "python",
   "name": "python3"
  },
  "language_info": {
   "codemirror_mode": {
    "name": "ipython",
    "version": 3
   },
   "file_extension": ".py",
   "mimetype": "text/x-python",
   "name": "python",
   "nbconvert_exporter": "python",
   "pygments_lexer": "ipython3",
   "version": "3.10.12"
  }
 },
 "nbformat": 4,
 "nbformat_minor": 5
}
