{
 "cells": [
  {
   "cell_type": "markdown",
   "id": "57817bcf",
   "metadata": {},
   "source": [
    "1)Ask user to enter a website name and check whether it is valid or not(True/False)\n",
    "\n",
    "2)name = \"Innomatics\", course = \"Data Science\" write python code in different ways to show output as : \"Hello World I am learning Data Science in Innomatics\"\n",
    "\n",
    "3)Replace Science with Analysis in the above output.\n",
    "\n",
    "4)string = ' Hello World I am learning Python in Innomatics ' a. How many characters are there in the string. b. Slice only 'Python' from above string c. Remove white spaces on both sides then find no.of characters in the string. d. Convert the string in Upper case\n",
    "\n",
    "5)What is the index number of 'World' in above string.\n",
    "\n",
    "6)Split the string with respect to whitespace.after that store that splitted into a variable and find the data typeof that variable.\n",
    "\n",
    "7)How many times 'a' is repeated in above string.\n",
    "\n"
   ]
  },
  {
   "cell_type": "markdown",
   "id": "9744a8a1",
   "metadata": {},
   "source": [
    "1)Ask user to enter a website name and check whether it is valid or not(True/False)"
   ]
  },
  {
   "cell_type": "code",
   "execution_count": 1,
   "id": "ca378b69",
   "metadata": {},
   "outputs": [
    {
     "name": "stdout",
     "output_type": "stream",
     "text": [
      "enter a website name : www.google.com\n"
     ]
    },
    {
     "data": {
      "text/plain": [
       "True"
      ]
     },
     "execution_count": 1,
     "metadata": {},
     "output_type": "execute_result"
    }
   ],
   "source": [
    "name = input(\"enter a website name : \")\n",
    "name.startswith(\"www.\") and name.endswith(\".com\")  # in this i check is website starts with www. and ends with .com - its the format of website\n"
   ]
  },
  {
   "cell_type": "markdown",
   "id": "c4117ded",
   "metadata": {},
   "source": [
    "2)name = \"Innomatics\", course = \"Data Science\" write python code in different ways to show output as : \"Hello World I am learning Data Science in Innomatics\""
   ]
  },
  {
   "cell_type": "code",
   "execution_count": 16,
   "id": "e9ffa356",
   "metadata": {},
   "outputs": [
    {
     "name": "stdout",
     "output_type": "stream",
     "text": [
      "Hello World I am learning Data Sciencein Innomatics\n"
     ]
    }
   ],
   "source": [
    "name = \"Innomatics\"\n",
    "course = \"Data Science\" \n",
    "# first way\n",
    "print ( \"Hello World I am learning \"+course+\"in \"+name)"
   ]
  },
  {
   "cell_type": "code",
   "execution_count": 14,
   "id": "5aec73b3",
   "metadata": {},
   "outputs": [
    {
     "name": "stdout",
     "output_type": "stream",
     "text": [
      "Hello World I am learning Data Science in Innomatics\n"
     ]
    }
   ],
   "source": [
    "# second way\n",
    "print(\"Hello World I am learning {} in {}\".format(course,name))"
   ]
  },
  {
   "cell_type": "code",
   "execution_count": 15,
   "id": "0bfeb057",
   "metadata": {},
   "outputs": [
    {
     "name": "stdout",
     "output_type": "stream",
     "text": [
      "Hello World I am learning Data Science in Innomatics\n"
     ]
    }
   ],
   "source": [
    "# third way\n",
    "print(f\"Hello World I am learning {course} in {name}\")"
   ]
  },
  {
   "cell_type": "code",
   "execution_count": 18,
   "id": "ed566b0a",
   "metadata": {},
   "outputs": [
    {
     "name": "stdout",
     "output_type": "stream",
     "text": [
      "Hello World I am learning  Data Science in  Innomatics\n"
     ]
    }
   ],
   "source": [
    "#fourth way\n",
    "print ( \"Hello World I am learning \",course,\"in \",name)"
   ]
  },
  {
   "cell_type": "markdown",
   "id": "247c38bd",
   "metadata": {},
   "source": [
    "3)Replace Science with Analysis in the above output."
   ]
  },
  {
   "cell_type": "code",
   "execution_count": 21,
   "id": "7682ebcd",
   "metadata": {},
   "outputs": [],
   "source": [
    "str = \"Hello World I am learning Data Science in Innomatics\""
   ]
  },
  {
   "cell_type": "code",
   "execution_count": 23,
   "id": "259b8fdd",
   "metadata": {},
   "outputs": [
    {
     "data": {
      "text/plain": [
       "'Hello World I am learning Data Analysis in Innomatics'"
      ]
     },
     "execution_count": 23,
     "metadata": {},
     "output_type": "execute_result"
    }
   ],
   "source": [
    "str.replace(\"Science\", \"Analysis\")\n"
   ]
  },
  {
   "cell_type": "markdown",
   "id": "09c3aa01",
   "metadata": {},
   "source": [
    "4)string = ' Hello World I am learning Python in Innomatics ' a. How many characters are there in the string. b. Slice only 'Python' from above string c. Remove white spaces on both sides then find no.of characters in the string. d. Convert the string in Upper case"
   ]
  },
  {
   "cell_type": "code",
   "execution_count": 24,
   "id": "01bbe817",
   "metadata": {},
   "outputs": [],
   "source": [
    "string = ' Hello World I am learning Python in Innomatics '"
   ]
  },
  {
   "cell_type": "code",
   "execution_count": 25,
   "id": "c160d63d",
   "metadata": {},
   "outputs": [
    {
     "data": {
      "text/plain": [
       "48"
      ]
     },
     "execution_count": 25,
     "metadata": {},
     "output_type": "execute_result"
    }
   ],
   "source": [
    "# a)\n",
    "len(string)  # length of string givens the no . of charcater "
   ]
  },
  {
   "cell_type": "code",
   "execution_count": 29,
   "id": "06f6eac4",
   "metadata": {},
   "outputs": [
    {
     "data": {
      "text/plain": [
       "'Python '"
      ]
     },
     "execution_count": 29,
     "metadata": {},
     "output_type": "execute_result"
    }
   ],
   "source": [
    "#b)\n",
    "string[-21:-14:]"
   ]
  },
  {
   "cell_type": "code",
   "execution_count": 30,
   "id": "87d569c4",
   "metadata": {},
   "outputs": [
    {
     "data": {
      "text/plain": [
       "'Hello World I am learning Python in Innomatics'"
      ]
     },
     "execution_count": 30,
     "metadata": {},
     "output_type": "execute_result"
    }
   ],
   "source": [
    "#C)\n",
    "string.strip() # strip() is used the remove the spaces both sides ."
   ]
  },
  {
   "cell_type": "code",
   "execution_count": 31,
   "id": "8ba94c5d",
   "metadata": {},
   "outputs": [
    {
     "data": {
      "text/plain": [
       "' HELLO WORLD I AM LEARNING PYTHON IN INNOMATICS '"
      ]
     },
     "execution_count": 31,
     "metadata": {},
     "output_type": "execute_result"
    }
   ],
   "source": [
    "#d)\n",
    "string.upper()  # upper() is used to convert into uppercase"
   ]
  },
  {
   "cell_type": "markdown",
   "id": "2dd2261b",
   "metadata": {},
   "source": [
    "5)What is the index number of 'World' in above string."
   ]
  },
  {
   "cell_type": "code",
   "execution_count": 32,
   "id": "60d1e0da",
   "metadata": {},
   "outputs": [
    {
     "data": {
      "text/plain": [
       "7"
      ]
     },
     "execution_count": 32,
     "metadata": {},
     "output_type": "execute_result"
    }
   ],
   "source": [
    "string.index(\"World\") # index is used to know the index value"
   ]
  },
  {
   "cell_type": "markdown",
   "id": "23825d4e",
   "metadata": {},
   "source": [
    "6)Split the string with respect to whitespace.after that store that splitted into a variable and find the data typeof that variable."
   ]
  },
  {
   "cell_type": "code",
   "execution_count": 34,
   "id": "729c2ccd",
   "metadata": {},
   "outputs": [
    {
     "data": {
      "text/plain": [
       "' Hello World I am learning Python in Innomatics '"
      ]
     },
     "execution_count": 34,
     "metadata": {},
     "output_type": "execute_result"
    }
   ],
   "source": [
    "string"
   ]
  },
  {
   "cell_type": "code",
   "execution_count": 33,
   "id": "fef14674",
   "metadata": {},
   "outputs": [
    {
     "data": {
      "text/plain": [
       "['Hello', 'World', 'I', 'am', 'learning', 'Python', 'in', 'Innomatics']"
      ]
     },
     "execution_count": 33,
     "metadata": {},
     "output_type": "execute_result"
    }
   ],
   "source": [
    "string.split()"
   ]
  },
  {
   "cell_type": "code",
   "execution_count": 36,
   "id": "5411f711",
   "metadata": {},
   "outputs": [],
   "source": [
    "a = string.split()   # split() it is used to split the value and by default it takes as whitespace."
   ]
  },
  {
   "cell_type": "code",
   "execution_count": 37,
   "id": "4293bae9",
   "metadata": {},
   "outputs": [
    {
     "data": {
      "text/plain": [
       "list"
      ]
     },
     "execution_count": 37,
     "metadata": {},
     "output_type": "execute_result"
    }
   ],
   "source": [
    "type(a)  # type is string - after the split"
   ]
  },
  {
   "cell_type": "markdown",
   "id": "6fdd98a0",
   "metadata": {},
   "source": [
    "7)How many times 'a' is repeated in above string."
   ]
  },
  {
   "cell_type": "code",
   "execution_count": 38,
   "id": "64ba47b2",
   "metadata": {},
   "outputs": [
    {
     "data": {
      "text/plain": [
       "' Hello World I am learning Python in Innomatics '"
      ]
     },
     "execution_count": 38,
     "metadata": {},
     "output_type": "execute_result"
    }
   ],
   "source": [
    "string"
   ]
  },
  {
   "cell_type": "code",
   "execution_count": 39,
   "id": "59a04dc4",
   "metadata": {},
   "outputs": [
    {
     "data": {
      "text/plain": [
       "3"
      ]
     },
     "execution_count": 39,
     "metadata": {},
     "output_type": "execute_result"
    }
   ],
   "source": [
    "string.count(\"a\")"
   ]
  },
  {
   "cell_type": "markdown",
   "id": "85d80994",
   "metadata": {},
   "source": [
    "its is repeated three time in string"
   ]
  }
 ],
 "metadata": {
  "kernelspec": {
   "display_name": "Python 3 (ipykernel)",
   "language": "python",
   "name": "python3"
  },
  "language_info": {
   "codemirror_mode": {
    "name": "ipython",
    "version": 3
   },
   "file_extension": ".py",
   "mimetype": "text/x-python",
   "name": "python",
   "nbconvert_exporter": "python",
   "pygments_lexer": "ipython3",
   "version": "3.10.12"
  }
 },
 "nbformat": 4,
 "nbformat_minor": 5
}
