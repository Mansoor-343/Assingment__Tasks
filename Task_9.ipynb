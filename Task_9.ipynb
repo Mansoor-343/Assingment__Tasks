{
 "cells": [
  {
   "cell_type": "markdown",
   "id": "a4c1b939",
   "metadata": {},
   "source": [
    "1)creating dict and gives names fruits and prices?\n",
    "\n",
    "2)which fruits  are present ?\n",
    "\n",
    "3)write a program if i purchase 3 apple and 2 orange?\n",
    "\n",
    "4)add \"fruit\" for every avaible in basket\n",
    "\n",
    "5)find the average price of fruits\n",
    "\n",
    "6)which fruit is containing less than 5 chracter \n"
   ]
  },
  {
   "cell_type": "code",
   "execution_count": 2,
   "id": "54851f78",
   "metadata": {},
   "outputs": [],
   "source": [
    "#1)\n",
    "basket = {\"apple\":100,\"orange\": 120,\"grape\":140,\"kiwi\":150,\"dragon\":160}"
   ]
  },
  {
   "cell_type": "code",
   "execution_count": 2,
   "id": "4b4bdbcb",
   "metadata": {},
   "outputs": [
    {
     "name": "stdout",
     "output_type": "stream",
     "text": [
      "apple\n",
      "orange\n",
      "grape\n",
      "kiwi\n",
      "dragon\n"
     ]
    }
   ],
   "source": [
    "# 2)\n",
    "for i in basket:\n",
    "    print(i)"
   ]
  },
  {
   "cell_type": "code",
   "execution_count": 5,
   "id": "00ca9c91",
   "metadata": {},
   "outputs": [
    {
     "name": "stdout",
     "output_type": "stream",
     "text": [
      "540\n"
     ]
    }
   ],
   "source": [
    "# 3)\n",
    "for i in basket:\n",
    "    if i == \"orange\" or i == \"apple\":\n",
    "        if i == \"orange\":\n",
    "            org = basket[i]*2\n",
    "        else:\n",
    "            apple = basket[i]*3\n",
    "print(org+apple)  # total price\n",
    "     "
   ]
  },
  {
   "cell_type": "code",
   "execution_count": 6,
   "id": "615e97fa",
   "metadata": {},
   "outputs": [
    {
     "data": {
      "text/plain": [
       "{'apple': 100, 'orange': 120, 'grape': 140, 'kiwi': 150, 'dragon': 160}"
      ]
     },
     "execution_count": 6,
     "metadata": {},
     "output_type": "execute_result"
    }
   ],
   "source": [
    "# 4)\n",
    "basket"
   ]
  },
  {
   "cell_type": "code",
   "execution_count": 9,
   "id": "f5ba1f3f",
   "metadata": {},
   "outputs": [
    {
     "name": "stdout",
     "output_type": "stream",
     "text": [
      "apple fruit\n",
      "orange fruit\n",
      "grape fruit\n",
      "kiwi fruit\n",
      "dragon fruit\n"
     ]
    }
   ],
   "source": [
    "for i in basket:\n",
    "    print(i + \" fruit\")"
   ]
  },
  {
   "cell_type": "code",
   "execution_count": 4,
   "id": "d447fffb",
   "metadata": {},
   "outputs": [
    {
     "name": "stdout",
     "output_type": "stream",
     "text": [
      "134.0\n"
     ]
    }
   ],
   "source": [
    "# 5)\n",
    "\n",
    "sum = 0  \n",
    "for i in basket.values():\n",
    "    sum  += i\n",
    "no_of_val = len(basket)\n",
    "average = sum/no_of_val\n",
    "print(average) "
   ]
  },
  {
   "cell_type": "code",
   "execution_count": 31,
   "id": "cefe12d3",
   "metadata": {},
   "outputs": [
    {
     "name": "stdout",
     "output_type": "stream",
     "text": [
      "kiwi\n"
     ]
    }
   ],
   "source": [
    "#6) \n",
    "for i in basket:\n",
    "    if len(i)<5:\n",
    "        print(i)"
   ]
  },
  {
   "cell_type": "markdown",
   "id": "5fc9791e",
   "metadata": {},
   "source": [
    "1. ask user to enter a number  "
   ]
  },
  {
   "cell_type": "code",
   "execution_count": 7,
   "id": "a9f84197",
   "metadata": {},
   "outputs": [
    {
     "name": "stdout",
     "output_type": "stream",
     "text": [
      "enter a number 10\n",
      "45\n"
     ]
    }
   ],
   "source": [
    "num = int(input(\"enter a number \"))\n",
    "sum1 = 0\n",
    "for i in range(num):\n",
    "    sum1 = sum1 + i\n",
    "    \n",
    "print(sum1)\n"
   ]
  },
  {
   "cell_type": "code",
   "execution_count": 6,
   "id": "30293b35",
   "metadata": {},
   "outputs": [
    {
     "name": "stdout",
     "output_type": "stream",
     "text": [
      "enter a number 10\n",
      "45\n"
     ]
    }
   ],
   "source": [
    "num = int(input(\"enter a number \"))\n",
    "list1 = []\n",
    "for i in range(num):\n",
    "    list1.append(i)\n",
    "print(sum(list1))\n"
   ]
  },
  {
   "cell_type": "code",
   "execution_count": 2,
   "id": "65a4ed58",
   "metadata": {},
   "outputs": [
    {
     "name": "stdout",
     "output_type": "stream",
     "text": [
      "10\n"
     ]
    },
    {
     "data": {
      "text/plain": [
       "45"
      ]
     },
     "execution_count": 2,
     "metadata": {},
     "output_type": "execute_result"
    }
   ],
   "source": [
    "num = int(input())\n",
    "sum(range(0,num))"
   ]
  },
  {
   "cell_type": "markdown",
   "id": "01de61e5",
   "metadata": {},
   "source": [
    "take list of alphabets separate vowels and constants"
   ]
  },
  {
   "cell_type": "code",
   "execution_count": 8,
   "id": "120f6e43",
   "metadata": {},
   "outputs": [],
   "source": [
    "alph = [chr(65+i) for i in range(0,26)]"
   ]
  },
  {
   "cell_type": "code",
   "execution_count": 12,
   "id": "f81c5797",
   "metadata": {},
   "outputs": [
    {
     "name": "stdout",
     "output_type": "stream",
     "text": [
      "['A', 'E', 'I', 'O', 'U']\n",
      "['B', 'C', 'D', 'F', 'G', 'H', 'J', 'K', 'L', 'M', 'N', 'P', 'Q', 'R', 'S', 'T', 'V', 'W', 'X', 'Y', 'Z']\n"
     ]
    }
   ],
   "source": [
    "\n",
    "vowels = []\n",
    "consonats = []\n",
    "for i in alph:\n",
    "    if i in [\"A\",\"E\",\"I\",\"O\",\"U\"]:\n",
    "        vowels.append(i)\n",
    "    else:\n",
    "        consonats.append(i)\n",
    "print(vowels)\n",
    "print(consonats)\n",
    "    "
   ]
  },
  {
   "cell_type": "code",
   "execution_count": null,
   "id": "b32374c1",
   "metadata": {},
   "outputs": [],
   "source": []
  }
 ],
 "metadata": {
  "kernelspec": {
   "display_name": "Python 3 (ipykernel)",
   "language": "python",
   "name": "python3"
  },
  "language_info": {
   "codemirror_mode": {
    "name": "ipython",
    "version": 3
   },
   "file_extension": ".py",
   "mimetype": "text/x-python",
   "name": "python",
   "nbconvert_exporter": "python",
   "pygments_lexer": "ipython3",
   "version": "3.10.12"
  }
 },
 "nbformat": 4,
 "nbformat_minor": 5
}
