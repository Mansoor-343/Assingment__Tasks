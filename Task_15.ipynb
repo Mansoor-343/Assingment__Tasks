{
 "cells": [
  {
   "cell_type": "markdown",
   "id": "560c562a",
   "metadata": {},
   "source": [
    "Task 1: Leap Year Checker\n",
    "\n",
    "Write a program that takes a year as input and determines whether it is a leap year or not. A leap year is a year that is divisible by 4, but not divisible by 100, unless it is also divisible by 400. Display an appropriate message indicating whether the year is a leap year or not.\n",
    "\n",
    "Task 2: Grade Calculator\n",
    "\n",
    "Write a program that takes a student's score as input (out of 100) and determines their grade based on the following conditions: If the score is 90 or above, the grade is 'A'. If the score is between 80 and 89, the grade is 'B'. If the score is between 70 and 79, the grade is 'C'. If the score is between 60 and 69, the grade is 'D'. If the score is below 60, the grade is 'F'. Display the grade corresponding to the entered score.\n",
    "\n",
    "Task 3: Calculator Write a program that takes two numbers as input and performs a mathematical operation (+, -, *, /) based on the user's choice. Use a conditional statement to determine the operation to be performed. Display the result of the calculation.\n",
    "\n",
    "Task 4: Reverse String Write a Python function to reverse a string.\n",
    "\n",
    "Task 5: Palindrome Write a Python function that checks whether a passed string is a palindrome or not.\n",
    "\n",
    "Task 6: Counting Write a Python function that accepts a string and counts the number of upper and lower case letters.\n",
    "\n"
   ]
  },
  {
   "cell_type": "code",
   "execution_count": null,
   "id": "7b5be4cb",
   "metadata": {},
   "outputs": [],
   "source": []
  },
  {
   "cell_type": "markdown",
   "id": "90aa44df",
   "metadata": {},
   "source": [
    "Task 1: Leap Year Checker\n",
    "\n",
    "Write a program that takes a year as input and determines whether it is a leap year or not. A leap year is a year that is divisible by 4, but not divisible by 100, unless it is also divisible by 400. Display an appropriate message indicating whether the year is a leap year or not."
   ]
  },
  {
   "cell_type": "markdown",
   "id": "188c1e6f",
   "metadata": {},
   "source": [
    "# function"
   ]
  },
  {
   "cell_type": "code",
   "execution_count": 1,
   "id": "126170c5",
   "metadata": {},
   "outputs": [
    {
     "name": "stdout",
     "output_type": "stream",
     "text": [
      "leap year\n"
     ]
    }
   ],
   "source": [
    "def leap(year):\n",
    "    if (year%4==0) and (year%100 != 0) or (year%400==0):\n",
    "        print(\"leap year\")\n",
    "    else:\n",
    "        print(\"Not leap year\")\n",
    "leap(2012)"
   ]
  },
  {
   "cell_type": "markdown",
   "id": "7c74bacf",
   "metadata": {},
   "source": [
    "# lambda function"
   ]
  },
  {
   "cell_type": "code",
   "execution_count": 2,
   "id": "b5b280f4",
   "metadata": {},
   "outputs": [
    {
     "name": "stdout",
     "output_type": "stream",
     "text": [
      "Enter the year:: 2016\n",
      " leap year\n"
     ]
    }
   ],
   "source": [
    "a= lambda year:(year%4==0) and (year%100 != 0) or (year%400==0)\n",
    "\n",
    "year= int(input(\"Enter the year:: \"))\n",
    "a(year)\n",
    "if a(year)==True:\n",
    "    print(\" leap year\")\n",
    "else:\n",
    "     print(\" Not a leap year\") "
   ]
  },
  {
   "cell_type": "markdown",
   "id": "fbb09b58",
   "metadata": {},
   "source": [
    "# map function"
   ]
  },
  {
   "cell_type": "code",
   "execution_count": 10,
   "id": "173635dd",
   "metadata": {},
   "outputs": [],
   "source": [
    "list1= list(range(2000,2024))\n",
    "\n",
    "def fun(year):\n",
    "    if (year%4==0) and (year%100 != 0) or (year%400==0):\n",
    "        return \"Leap year\"\n",
    "    else:\n",
    "        return \"Not a leap year\"\n",
    "    \n"
   ]
  },
  {
   "cell_type": "code",
   "execution_count": 11,
   "id": "4c74133a",
   "metadata": {},
   "outputs": [],
   "source": [
    "list3 = list(map(fun,list1))"
   ]
  },
  {
   "cell_type": "code",
   "execution_count": 12,
   "id": "1ad1a62d",
   "metadata": {},
   "outputs": [
    {
     "data": {
      "text/plain": [
       "['Leap year',\n",
       " 'Not a leap year',\n",
       " 'Not a leap year',\n",
       " 'Not a leap year',\n",
       " 'Leap year',\n",
       " 'Not a leap year',\n",
       " 'Not a leap year',\n",
       " 'Not a leap year',\n",
       " 'Leap year',\n",
       " 'Not a leap year',\n",
       " 'Not a leap year',\n",
       " 'Not a leap year',\n",
       " 'Leap year',\n",
       " 'Not a leap year',\n",
       " 'Not a leap year',\n",
       " 'Not a leap year',\n",
       " 'Leap year',\n",
       " 'Not a leap year',\n",
       " 'Not a leap year',\n",
       " 'Not a leap year',\n",
       " 'Leap year',\n",
       " 'Not a leap year',\n",
       " 'Not a leap year',\n",
       " 'Not a leap year']"
      ]
     },
     "execution_count": 12,
     "metadata": {},
     "output_type": "execute_result"
    }
   ],
   "source": [
    "list3 "
   ]
  },
  {
   "cell_type": "markdown",
   "id": "77f3f22b",
   "metadata": {},
   "source": [
    "# filter function"
   ]
  },
  {
   "cell_type": "code",
   "execution_count": 13,
   "id": "361fa528",
   "metadata": {},
   "outputs": [],
   "source": [
    "list1= list(range(2000,2024))\n",
    "\n",
    "def fun(year):\n",
    "    if (year%4==0) and (year%100 != 0) or (year%400==0):\n",
    "        return year\n",
    "list3 = list(filter(fun,list1))"
   ]
  },
  {
   "cell_type": "code",
   "execution_count": 14,
   "id": "efcf606f",
   "metadata": {},
   "outputs": [
    {
     "data": {
      "text/plain": [
       "[2000, 2004, 2008, 2012, 2016, 2020]"
      ]
     },
     "execution_count": 14,
     "metadata": {},
     "output_type": "execute_result"
    }
   ],
   "source": [
    "list3"
   ]
  },
  {
   "cell_type": "code",
   "execution_count": null,
   "id": "24a13785",
   "metadata": {},
   "outputs": [],
   "source": []
  },
  {
   "cell_type": "markdown",
   "id": "5538b1fa",
   "metadata": {},
   "source": [
    "Task 2: Grade Calculator\n",
    "\n",
    "Write a program that takes a student's score as input (out of 100) and determines their grade based on the following conditions: If the score is 90 or above, the grade is 'A'. If the score is between 80 and 89, the grade is 'B'. If the score is between 70 and 79, the grade is 'C'. If the score is between 60 and 69, the grade is 'D'. If the score is below 60, the grade is 'F'. Display the grade corresponding to the entered score."
   ]
  },
  {
   "cell_type": "markdown",
   "id": "4d17e108",
   "metadata": {},
   "source": [
    "# function"
   ]
  },
  {
   "cell_type": "code",
   "execution_count": 15,
   "id": "bf0b8860",
   "metadata": {},
   "outputs": [
    {
     "name": "stdout",
     "output_type": "stream",
     "text": [
      "A\n"
     ]
    }
   ],
   "source": [
    "def grades(score):\n",
    "    \n",
    "    if (score>= 90 and score<= 100):\n",
    "        print(\"A\")\n",
    "    elif (score>= 80 and score<= 89):\n",
    "        print(\"B\")\n",
    "    elif (score>= 70 and score<= 79):\n",
    "        print(\"C\")\n",
    "    elif (score>= 60 and score<= 69):\n",
    "        print(\"D\")\n",
    "    elif (score< 60 and score>= 0):\n",
    "        print(\"F\")\n",
    "    elif (score>100 or score<0):\n",
    "        print(\"Enter valid marks\")\n",
    "        \n",
    "grades(90)"
   ]
  },
  {
   "cell_type": "markdown",
   "id": "d7ed6b08",
   "metadata": {},
   "source": [
    "# map function"
   ]
  },
  {
   "cell_type": "code",
   "execution_count": 19,
   "id": "e56bcd0e",
   "metadata": {},
   "outputs": [
    {
     "name": "stdout",
     "output_type": "stream",
     "text": [
      "35 of Grade:F\n",
      "31 of Grade:F\n",
      "20 of Grade:F\n",
      "69 of Grade:D\n",
      "80 of Grade:B\n",
      "100 of Grade:A\n",
      "65 of Grade:D\n"
     ]
    }
   ],
   "source": [
    "\n",
    "list1= (35,31,20,69,80,100,65)\n",
    "\n",
    "def grade(score):\n",
    "    if (score>= 90 and score<= 100):\n",
    "        print(f\"{score} of Grade:A\")\n",
    "    elif (score>= 80 and score<= 89):\n",
    "        print(f\"{score} of Grade:B\")\n",
    "    elif (score>= 70 and score<= 79):\n",
    "        print(f\"{score} of Grade:C\")\n",
    "    elif (score>= 60 and score<= 69):\n",
    "        print(f\"{score} of Grade:D\")\n",
    "    elif (score< 60 and score>= 0):\n",
    "        print(f\"{score} of Grade:F\")\n",
    "    elif (score>100 or score<0):\n",
    "        print(\"Enter valid marks\")\n",
    "        \n",
    "list2= list(map(grade,list1))"
   ]
  },
  {
   "cell_type": "code",
   "execution_count": null,
   "id": "4fbe137f",
   "metadata": {},
   "outputs": [],
   "source": []
  },
  {
   "cell_type": "markdown",
   "id": "607d3750",
   "metadata": {},
   "source": [
    "Task 3: Calculator Write a program that takes two numbers as input and performs a mathematical operation (+, -, *, /) based on the user's choice. Use a conditional statement to determine the operation to be performed. Display the result of the calculation."
   ]
  },
  {
   "cell_type": "markdown",
   "id": "4bc5cb64",
   "metadata": {},
   "source": [
    "# function"
   ]
  },
  {
   "cell_type": "code",
   "execution_count": 21,
   "id": "6deb4d64",
   "metadata": {},
   "outputs": [
    {
     "name": "stdout",
     "output_type": "stream",
     "text": [
      "Enter your option:+\n",
      "Enter a number:3\n",
      "Enter a number:6\n"
     ]
    },
    {
     "data": {
      "text/plain": [
       "9"
      ]
     },
     "execution_count": 21,
     "metadata": {},
     "output_type": "execute_result"
    }
   ],
   "source": [
    "option = input(\"Enter your option:\")\n",
    "def func(x,y):\n",
    "    if option == \"+\":\n",
    "        return x+y\n",
    "    elif option == \"-\":\n",
    "        return x-y\n",
    "    elif option == \"*\":\n",
    "        return x*y\n",
    "    elif option == \"/\":\n",
    "        return x/y\n",
    "x= int(input(\"Enter a number:\"))\n",
    "y= int(input(\"Enter a number:\"))\n",
    "func(x,y)"
   ]
  },
  {
   "cell_type": "code",
   "execution_count": null,
   "id": "d8cc9f30",
   "metadata": {},
   "outputs": [],
   "source": []
  },
  {
   "cell_type": "markdown",
   "id": "5766d381",
   "metadata": {},
   "source": [
    "Task 4: Reverse String Write a Python function to reverse a string."
   ]
  },
  {
   "cell_type": "markdown",
   "id": "9527a8f4",
   "metadata": {},
   "source": [
    "# function"
   ]
  },
  {
   "cell_type": "code",
   "execution_count": 22,
   "id": "13c771e3",
   "metadata": {},
   "outputs": [
    {
     "name": "stdout",
     "output_type": "stream",
     "text": [
      "Enter a string:manssoor\n"
     ]
    },
    {
     "data": {
      "text/plain": [
       "'roossnam'"
      ]
     },
     "execution_count": 22,
     "metadata": {},
     "output_type": "execute_result"
    }
   ],
   "source": [
    "string= input(\"Enter a string:\")\n",
    "def reverse(string):\n",
    "    return string[::-1]\n",
    "reverse(string)"
   ]
  },
  {
   "cell_type": "markdown",
   "id": "2e97e3f3",
   "metadata": {},
   "source": [
    "# lambda function"
   ]
  },
  {
   "cell_type": "code",
   "execution_count": 23,
   "id": "9d622ec2",
   "metadata": {},
   "outputs": [
    {
     "data": {
      "text/plain": [
       "'roosnam'"
      ]
     },
     "execution_count": 23,
     "metadata": {},
     "output_type": "execute_result"
    }
   ],
   "source": [
    "rev= lambda string: string[::-1]\n",
    "rev(\"mansoor\")"
   ]
  },
  {
   "cell_type": "markdown",
   "id": "4e9e85f0",
   "metadata": {},
   "source": [
    "# map function"
   ]
  },
  {
   "cell_type": "code",
   "execution_count": 24,
   "id": "4d2f2902",
   "metadata": {},
   "outputs": [
    {
     "data": {
      "text/plain": [
       "['roosnam', 'meehar', 'hsihtas']"
      ]
     },
     "execution_count": 24,
     "metadata": {},
     "output_type": "execute_result"
    }
   ],
   "source": [
    "list1= [\"mansoor\",\"raheem\",\"sathish\"]\n",
    "def rev(n):\n",
    "    return n[::-1]\n",
    "list2= list(map(rev,list1))\n",
    "list2"
   ]
  },
  {
   "cell_type": "code",
   "execution_count": null,
   "id": "ed3c26d0",
   "metadata": {},
   "outputs": [],
   "source": []
  },
  {
   "cell_type": "markdown",
   "id": "c8d9fa7f",
   "metadata": {},
   "source": [
    "Task 5: Palindrome Write a Python function that checks whether a passed string is a palindrome or not."
   ]
  },
  {
   "cell_type": "code",
   "execution_count": 26,
   "id": "c2532ed7",
   "metadata": {},
   "outputs": [
    {
     "name": "stdout",
     "output_type": "stream",
     "text": [
      "Enter the string:: madam\n"
     ]
    },
    {
     "data": {
      "text/plain": [
       "'palindrome'"
      ]
     },
     "execution_count": 26,
     "metadata": {},
     "output_type": "execute_result"
    }
   ],
   "source": [
    "string=input(\"Enter the string:: \")\n",
    "def palindrome(string):\n",
    "    if string==string[::-1]:\n",
    "        return \"palindrome\"\n",
    "    else:\n",
    "        return \"Not a palindrome\"\n",
    "palindrome(string)"
   ]
  },
  {
   "cell_type": "markdown",
   "id": "ddf9bd6f",
   "metadata": {},
   "source": [
    "# lambda function"
   ]
  },
  {
   "cell_type": "code",
   "execution_count": 27,
   "id": "493ade2d",
   "metadata": {},
   "outputs": [
    {
     "name": "stdout",
     "output_type": "stream",
     "text": [
      "Enter a string:amma\n",
      "palindrome\n"
     ]
    }
   ],
   "source": [
    "palindrome= lambda string: string==string[::-1]\n",
    "\n",
    "string = input(\"Enter a string:\")\n",
    "\n",
    "if palindrome(string)==True:\n",
    "    print(\"palindrome\")\n",
    "else:\n",
    "    print(\"Not a palindrome\")"
   ]
  },
  {
   "cell_type": "markdown",
   "id": "cf93c652",
   "metadata": {},
   "source": [
    "# map function"
   ]
  },
  {
   "cell_type": "code",
   "execution_count": 29,
   "id": "fd237209",
   "metadata": {},
   "outputs": [],
   "source": [
    "list1= [\"mansoor\",\"amma\", \"madam\" ,\"mom\",\"12321\"]\n",
    "\n",
    "def palindrome(string):\n",
    "    \n",
    "    if string==string[::-1]:\n",
    "        return \"palindrome\"\n",
    "    else:\n",
    "        return \"not a palindrome\""
   ]
  },
  {
   "cell_type": "code",
   "execution_count": 31,
   "id": "5cb625d8",
   "metadata": {},
   "outputs": [],
   "source": [
    "list2 = list(map(palindrome,list1))"
   ]
  },
  {
   "cell_type": "code",
   "execution_count": 32,
   "id": "056c6584",
   "metadata": {},
   "outputs": [
    {
     "data": {
      "text/plain": [
       "['not a palindrome', 'palindrome', 'palindrome', 'palindrome', 'palindrome']"
      ]
     },
     "execution_count": 32,
     "metadata": {},
     "output_type": "execute_result"
    }
   ],
   "source": [
    "list2"
   ]
  },
  {
   "cell_type": "markdown",
   "id": "3b005e5a",
   "metadata": {},
   "source": [
    "# filter function"
   ]
  },
  {
   "cell_type": "code",
   "execution_count": 34,
   "id": "537e7ee6",
   "metadata": {},
   "outputs": [],
   "source": [
    "list1= [\"mansoor\",\"amma\", \"madam\" ,\"mom\",\"12321\"]\n",
    "\n",
    "def function(string):\n",
    "    \n",
    "    if string==string[::-1]:\n",
    "        return \"palindrome\"\n",
    "    \n",
    "palindrome= list(filter(function,list1))"
   ]
  },
  {
   "cell_type": "code",
   "execution_count": 35,
   "id": "1cd8034d",
   "metadata": {},
   "outputs": [
    {
     "data": {
      "text/plain": [
       "['amma', 'madam', 'mom', '12321']"
      ]
     },
     "execution_count": 35,
     "metadata": {},
     "output_type": "execute_result"
    }
   ],
   "source": [
    "palindrome"
   ]
  },
  {
   "cell_type": "code",
   "execution_count": null,
   "id": "bc43a91b",
   "metadata": {},
   "outputs": [],
   "source": []
  },
  {
   "cell_type": "markdown",
   "id": "7e77f1d1",
   "metadata": {},
   "source": [
    "Task 6: Counting Write a Python function that accepts a string and counts the number of upper and lower case letters."
   ]
  },
  {
   "cell_type": "code",
   "execution_count": 42,
   "id": "782c9128",
   "metadata": {},
   "outputs": [
    {
     "name": "stdout",
     "output_type": "stream",
     "text": [
      "Enter a string:: Mansoor Ahammed\n",
      "['M', 'A']\n",
      "['a', 'n', 's', 'o', 'o', 'r', 'h', 'a', 'm', 'm', 'e', 'd']\n",
      "upper case letters are::  2\n",
      "lower case letters are::  12\n"
     ]
    }
   ],
   "source": [
    "string= input(\"Enter a string:: \")\n",
    "Upper=[]\n",
    "Lower=[]\n",
    "\n",
    "def count(string):\n",
    "    upper= list(map(chr, range(65, 97)))\n",
    "    lower= list(map(chr, range(97, 123)))\n",
    "    \n",
    "    for i in string:\n",
    "        if i in upper:\n",
    "            Upper.append(i)\n",
    "        elif i in lower:\n",
    "            Lower.append(i)\n",
    "            \n",
    "    print(Upper)\n",
    "    print(Lower)\n",
    "    print(\"upper case letters are:: \",len(Upper))\n",
    "    print(\"lower case letters are:: \",len(Lower))\n",
    "count(string)\n",
    "            "
   ]
  },
  {
   "cell_type": "code",
   "execution_count": null,
   "id": "4bf6984c",
   "metadata": {},
   "outputs": [],
   "source": []
  },
  {
   "cell_type": "code",
   "execution_count": null,
   "id": "aec4b20b",
   "metadata": {},
   "outputs": [],
   "source": []
  }
 ],
 "metadata": {
  "kernelspec": {
   "display_name": "Python 3 (ipykernel)",
   "language": "python",
   "name": "python3"
  },
  "language_info": {
   "codemirror_mode": {
    "name": "ipython",
    "version": 3
   },
   "file_extension": ".py",
   "mimetype": "text/x-python",
   "name": "python",
   "nbconvert_exporter": "python",
   "pygments_lexer": "ipython3",
   "version": "3.10.12"
  }
 },
 "nbformat": 4,
 "nbformat_minor": 5
}
