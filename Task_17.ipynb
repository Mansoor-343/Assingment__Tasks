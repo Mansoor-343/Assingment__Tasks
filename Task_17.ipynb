{
 "cells": [
  {
   "cell_type": "markdown",
   "id": "23b80205",
   "metadata": {},
   "source": [
    "use context manager\n",
    "\n",
    "Create a file Write a Python program that creates a text file named \"data.txt\" and add data about python programming (should contain at least 5 lines)\n",
    "\n",
    "Read and Display File Contents Write a Python program that reads a text file named \"data.txt\" and displays its contents on the screen.\n",
    "\n",
    "Count Words in a File Write a Python program that reads a text file named \"data.txt\" and counts the total number of words in the file. Display the word count on the screen.\n",
    "\n",
    "Search and Replace Create a Python program that reads a text file named \"data.txt\" and asks the user to enter a word to search for. If the word is found in the file, replace all occurrences of the word with a new word provided by the user.\n",
    "\n",
    "Append to a File Write a Python program that prompts the user to enter a sentence. Append this sentence to an existing file named \"notes.txt\". Make sure the newly added sentence starts on a new line."
   ]
  },
  {
   "cell_type": "code",
   "execution_count": null,
   "id": "c3352247",
   "metadata": {},
   "outputs": [],
   "source": []
  },
  {
   "cell_type": "markdown",
   "id": "36b7f70b",
   "metadata": {},
   "source": [
    "Create a file Write a Python program that creates a text file named \"data.txt\" and add data about python programming (should contain at least 5 lines)"
   ]
  },
  {
   "cell_type": "code",
   "execution_count": 2,
   "id": "e54e3459",
   "metadata": {},
   "outputs": [],
   "source": [
    "# created the file\n",
    "with open(\"data.txt\",\"w+\") as file1:\n",
    "    file1.write(\"Python is a computer programming language often used to build websites and software, automate tasks, and conduct data analysis. Python is a general-purpose language, meaning it can be used to create a variety of different programs and isn’t specialized for any specific problems. This versatility, along with its beginner-friendliness, has made it one of the most-used programming languages today.\")\n",
    "    "
   ]
  },
  {
   "cell_type": "code",
   "execution_count": null,
   "id": "db476589",
   "metadata": {},
   "outputs": [],
   "source": []
  },
  {
   "cell_type": "markdown",
   "id": "b7fcb897",
   "metadata": {},
   "source": [
    "Read and Display File Contents Write a Python program that reads a text file named \"data.txt\" and displays its contents on the screen."
   ]
  },
  {
   "cell_type": "code",
   "execution_count": 1,
   "id": "91d51efe",
   "metadata": {},
   "outputs": [
    {
     "name": "stdout",
     "output_type": "stream",
     "text": [
      "Python is a computer programming language often used to build websites and software, automate tasks, and conduct data analysis. Python is a general-purpose language, meaning it can be used to create a variety of different programs and isn’t specialized for any specific problems. This versatility, along with its beginner-friendliness, has made it one of the most-used programming languages today.\n"
     ]
    }
   ],
   "source": [
    "# read and display\n",
    "with open(\"data.txt\") as file2:\n",
    "    print(file2.read())"
   ]
  },
  {
   "cell_type": "code",
   "execution_count": null,
   "id": "5c5eb485",
   "metadata": {},
   "outputs": [],
   "source": []
  },
  {
   "cell_type": "markdown",
   "id": "d8f21a7c",
   "metadata": {},
   "source": [
    "Count Words in a File Write a Python program that reads a text file named \"data.txt\" and counts the total number of words in the file. Display the word count on the screen."
   ]
  },
  {
   "cell_type": "code",
   "execution_count": 2,
   "id": "e4a18eb0",
   "metadata": {},
   "outputs": [],
   "source": [
    "with open(\"data.txt\") as file3:\n",
    "    string = file3.read()\n",
    "    "
   ]
  },
  {
   "cell_type": "code",
   "execution_count": 3,
   "id": "2b7ef8e3",
   "metadata": {},
   "outputs": [
    {
     "data": {
      "text/plain": [
       "'Python is a computer programming language often used to build websites and software, automate tasks, and conduct data analysis. Python is a general-purpose language, meaning it can be used to create a variety of different programs and isn’t specialized for any specific problems. This versatility, along with its beginner-friendliness, has made it one of the most-used programming languages today.'"
      ]
     },
     "execution_count": 3,
     "metadata": {},
     "output_type": "execute_result"
    }
   ],
   "source": [
    "string"
   ]
  },
  {
   "cell_type": "code",
   "execution_count": 4,
   "id": "a919d1ff",
   "metadata": {},
   "outputs": [
    {
     "name": "stdout",
     "output_type": "stream",
     "text": [
      "59\n"
     ]
    }
   ],
   "source": [
    "count = len(string.split())\n",
    "print(count)\n"
   ]
  },
  {
   "cell_type": "code",
   "execution_count": null,
   "id": "c894e0ea",
   "metadata": {},
   "outputs": [],
   "source": []
  },
  {
   "cell_type": "markdown",
   "id": "18f8a63e",
   "metadata": {},
   "source": [
    "Search and Replace Create a Python program that reads a text file named \"data.txt\" and asks the user to enter a word to search for. If the word is found in the file, replace all occurrences of the word with a new word provided by the user."
   ]
  },
  {
   "cell_type": "code",
   "execution_count": 5,
   "id": "ea0a78ce",
   "metadata": {},
   "outputs": [
    {
     "data": {
      "text/plain": [
       "'Python is a computer programming language often used to build websites and software, automate tasks, and conduct data analysis. Python is a general-purpose language, meaning it can be used to create a variety of different programs and isn’t specialized for any specific problems. This versatility, along with its beginner-friendliness, has made it one of the most-used programming languages today.'"
      ]
     },
     "execution_count": 5,
     "metadata": {},
     "output_type": "execute_result"
    }
   ],
   "source": [
    "string"
   ]
  },
  {
   "cell_type": "code",
   "execution_count": 13,
   "id": "49117f14",
   "metadata": {},
   "outputs": [
    {
     "name": "stdout",
     "output_type": "stream",
     "text": [
      "Enter a number:: programming\n",
      "enter a replace_word::programming as well as a scripting language\n",
      "python is a computer programming as well as a scripting language language often takes to build websites and software, automate tasks, and conduct data analysis. python is a general-purpose language, meaning it can be takes to create a variety of different programs and isn’t specialized for any specific problems. This versatility, along with its beginner-friendliness, has made it one of the most-takes programming as well as a scripting language languages today.\n"
     ]
    }
   ],
   "source": [
    "word = input(\"Enter a number:: \")\n",
    "if word in string:\n",
    "    replace_word = input(\"enter a replace_word::\")\n",
    "    string = string.replace(word,replace_word)\n",
    "    print(string)    "
   ]
  },
  {
   "cell_type": "code",
   "execution_count": null,
   "id": "92cb402f",
   "metadata": {},
   "outputs": [],
   "source": []
  },
  {
   "cell_type": "markdown",
   "id": "4b27063e",
   "metadata": {},
   "source": [
    "Append to a File Write a Python program that prompts the user to enter a sentence. Append this sentence to an existing file named \"notes.txt\". Make sure the newly added sentence starts on a new line."
   ]
  },
  {
   "cell_type": "code",
   "execution_count": 1,
   "id": "7e11a1e9",
   "metadata": {},
   "outputs": [],
   "source": [
    "with open(\"notes.txt\",\"w\") as file4:\n",
    "    file4.write(\"This is short notes about python\")"
   ]
  },
  {
   "cell_type": "code",
   "execution_count": 2,
   "id": "4c74cf22",
   "metadata": {},
   "outputs": [
    {
     "name": "stdout",
     "output_type": "stream",
     "text": [
      "Enter a sentence to append ::python is interpreted programming language\n"
     ]
    }
   ],
   "source": [
    "with open(\"notes.txt\",\"a+\") as file5:\n",
    "    sentence = input(\"Enter a sentence to append ::\")\n",
    "    file5.write(f\"\\n{sentence}\")"
   ]
  },
  {
   "cell_type": "code",
   "execution_count": 3,
   "id": "13e86d2f",
   "metadata": {},
   "outputs": [
    {
     "name": "stdout",
     "output_type": "stream",
     "text": [
      "This is short notes about python\n",
      "python is interpreted programming language\n"
     ]
    }
   ],
   "source": [
    "with open(\"notes.txt\",) as file5:\n",
    "    print(file5.read())"
   ]
  },
  {
   "cell_type": "code",
   "execution_count": null,
   "id": "9af16b44",
   "metadata": {},
   "outputs": [],
   "source": []
  }
 ],
 "metadata": {
  "kernelspec": {
   "display_name": "Python 3 (ipykernel)",
   "language": "python",
   "name": "python3"
  },
  "language_info": {
   "codemirror_mode": {
    "name": "ipython",
    "version": 3
   },
   "file_extension": ".py",
   "mimetype": "text/x-python",
   "name": "python",
   "nbconvert_exporter": "python",
   "pygments_lexer": "ipython3",
   "version": "3.10.12"
  }
 },
 "nbformat": 4,
 "nbformat_minor": 5
}
