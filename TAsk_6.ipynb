{
 "cells": [
  {
   "cell_type": "markdown",
   "id": "5a54297e",
   "metadata": {},
   "source": [
    "Assignment Task 1:\n",
    "\n",
    "Tuple Basics Create a Python tuple containing the names of your favorite fruits. Write a Python program to print each fruit name from the tuple.\n",
    "\n",
    "Assignment Task 2: \n",
    "\n",
    "Tuple Operations Given two tuples, write a Python program to concatenate them into a single tuple and then find the length of the resulting tuple.\n",
    "\n",
    "Assignment Task 3:\n",
    "\n",
    "Set Creation Create a Python set containing the first 10 even numbers (2, 4, 6, ...). Write a program to display this set.\n",
    "\n",
    "Assignment Task 4: \n",
    "\n",
    "Set Operations Given two sets, write a Python program to find the union, intersection, and difference of these sets.\n",
    "\n",
    "Assignment Task 5: \n",
    "\n",
    "Tuple and Set Conversion Write a Python program that takes a tuple of integers and converts it into a set. Then, find and print the maximum and minimum values from the set.\n",
    "\n",
    "Assignment Task 6: \n",
    "\n",
    "Tuple Immutability Explain the concept of immutability in Python tuples with examples. Discuss why tuples are considered immutable data structures.\n",
    "\n",
    "Assignment Task 7: \n",
    "\n",
    "Set Operations and Methods Write a Python program that takes a set of numbers and performs the following operations:\n",
    "\n",
    "Add a new number to the set.\n",
    "Remove a number from the set.\n",
    "Check if a specific number is in the set.\n",
    "Find the size of the set.\n",
    "\n",
    "Assignment Task 8: \n",
    "\n",
    "Tuple Slicing Given a tuple of 10 elements, write a Python program to print the elements from the 3rd to the 7thposition using slicing.\n",
    "\n",
    "Assignment Task 9: \n",
    "\n",
    "Set Operations with Lists Create a Python list with duplicate elements and convert it into a set to remove duplicates. Then, write a program to count how many duplicates were removed.\n",
    "\n",
    "Assignment Task 10: \n",
    "\n",
    "Tuple and Set Combinations Create a tuple containing the names of your friend's favorite movies and a set containing the names of your favorite movies. Write a Python program to find and display common elements (movies that feature your"
   ]
  },
  {
   "cell_type": "markdown",
   "id": "9a875015",
   "metadata": {},
   "source": [
    "Assignment Task 1:\n",
    "\n",
    "Tuple Basics Create a Python tuple containing the names of your favorite fruits. Write a Python program to print each fruit name from the tuple."
   ]
  },
  {
   "cell_type": "code",
   "execution_count": 1,
   "id": "1c19bab0",
   "metadata": {},
   "outputs": [],
   "source": [
    "fruits = (\"mango\",\"apple\",\"banana\",\"grape\",\"kiwi\")"
   ]
  },
  {
   "cell_type": "code",
   "execution_count": 2,
   "id": "43af7ab3",
   "metadata": {},
   "outputs": [
    {
     "data": {
      "text/plain": [
       "('mango', 'apple', 'banana', 'grape', 'kiwi')"
      ]
     },
     "execution_count": 2,
     "metadata": {},
     "output_type": "execute_result"
    }
   ],
   "source": [
    "fruits"
   ]
  },
  {
   "cell_type": "code",
   "execution_count": 3,
   "id": "0261573d",
   "metadata": {},
   "outputs": [
    {
     "data": {
      "text/plain": [
       "tuple"
      ]
     },
     "execution_count": 3,
     "metadata": {},
     "output_type": "execute_result"
    }
   ],
   "source": [
    "type(fruits)"
   ]
  },
  {
   "cell_type": "code",
   "execution_count": 4,
   "id": "aa1e2567",
   "metadata": {},
   "outputs": [
    {
     "data": {
      "text/plain": [
       "'mango'"
      ]
     },
     "execution_count": 4,
     "metadata": {},
     "output_type": "execute_result"
    }
   ],
   "source": [
    "fruits[0]"
   ]
  },
  {
   "cell_type": "code",
   "execution_count": 5,
   "id": "7f6fc51d",
   "metadata": {},
   "outputs": [
    {
     "data": {
      "text/plain": [
       "'apple'"
      ]
     },
     "execution_count": 5,
     "metadata": {},
     "output_type": "execute_result"
    }
   ],
   "source": [
    "fruits[1]"
   ]
  },
  {
   "cell_type": "code",
   "execution_count": 6,
   "id": "2eda7e10",
   "metadata": {},
   "outputs": [
    {
     "data": {
      "text/plain": [
       "'banana'"
      ]
     },
     "execution_count": 6,
     "metadata": {},
     "output_type": "execute_result"
    }
   ],
   "source": [
    "fruits[2]"
   ]
  },
  {
   "cell_type": "code",
   "execution_count": 7,
   "id": "df72bc6c",
   "metadata": {},
   "outputs": [
    {
     "data": {
      "text/plain": [
       "'grape'"
      ]
     },
     "execution_count": 7,
     "metadata": {},
     "output_type": "execute_result"
    }
   ],
   "source": [
    "fruits[3]"
   ]
  },
  {
   "cell_type": "code",
   "execution_count": 8,
   "id": "34e86c36",
   "metadata": {},
   "outputs": [
    {
     "data": {
      "text/plain": [
       "'kiwi'"
      ]
     },
     "execution_count": 8,
     "metadata": {},
     "output_type": "execute_result"
    }
   ],
   "source": [
    "fruits[4]"
   ]
  },
  {
   "cell_type": "markdown",
   "id": "0f5020dc",
   "metadata": {},
   "source": [
    "Assignment Task 2:\n",
    "\n",
    "Tuple Operations Given two tuples, write a Python program to concatenate them into a single tuple and then find the length of the resulting tuple."
   ]
  },
  {
   "cell_type": "code",
   "execution_count": 9,
   "id": "2345c17d",
   "metadata": {},
   "outputs": [],
   "source": [
    "tuple1 = (1,2,3,4,5)\n",
    "tuple2 = (6,7,8,9,10)"
   ]
  },
  {
   "cell_type": "code",
   "execution_count": 12,
   "id": "58c42667",
   "metadata": {},
   "outputs": [],
   "source": [
    "a = tuple1 + tuple2"
   ]
  },
  {
   "cell_type": "code",
   "execution_count": 14,
   "id": "2246875f",
   "metadata": {},
   "outputs": [
    {
     "data": {
      "text/plain": [
       "(1, 2, 3, 4, 5, 6, 7, 8, 9, 10)"
      ]
     },
     "execution_count": 14,
     "metadata": {},
     "output_type": "execute_result"
    }
   ],
   "source": [
    "a"
   ]
  },
  {
   "cell_type": "code",
   "execution_count": 13,
   "id": "df12427f",
   "metadata": {},
   "outputs": [
    {
     "data": {
      "text/plain": [
       "10"
      ]
     },
     "execution_count": 13,
     "metadata": {},
     "output_type": "execute_result"
    }
   ],
   "source": [
    "len(a)"
   ]
  },
  {
   "cell_type": "markdown",
   "id": "c123c778",
   "metadata": {},
   "source": [
    "Assignment Task 3:\n",
    "\n",
    "Set Creation Create a Python set containing the first 10 even numbers (2, 4, 6, ...). Write a program to display this set."
   ]
  },
  {
   "cell_type": "code",
   "execution_count": 15,
   "id": "5c75fbef",
   "metadata": {},
   "outputs": [],
   "source": [
    "a = {2,4,6,8,10,12,14,16,18,20}"
   ]
  },
  {
   "cell_type": "code",
   "execution_count": 16,
   "id": "5bece33c",
   "metadata": {},
   "outputs": [
    {
     "data": {
      "text/plain": [
       "{2, 4, 6, 8, 10, 12, 14, 16, 18, 20}"
      ]
     },
     "execution_count": 16,
     "metadata": {},
     "output_type": "execute_result"
    }
   ],
   "source": [
    "a"
   ]
  },
  {
   "cell_type": "code",
   "execution_count": 17,
   "id": "88ecf9aa",
   "metadata": {},
   "outputs": [
    {
     "data": {
      "text/plain": [
       "set"
      ]
     },
     "execution_count": 17,
     "metadata": {},
     "output_type": "execute_result"
    }
   ],
   "source": [
    "type(a)"
   ]
  },
  {
   "cell_type": "markdown",
   "id": "1f6ec89f",
   "metadata": {},
   "source": [
    "Assignment Task 4:\n",
    "\n",
    "Set Operations Given two sets, write a Python program to find the union, intersection, and difference of these sets."
   ]
  },
  {
   "cell_type": "code",
   "execution_count": 18,
   "id": "490218cb",
   "metadata": {},
   "outputs": [],
   "source": [
    "set1 = {1,2,3,4,5,6,7,8,9,10}\n",
    "set2 = {5,6,7,8,9,10,11,12}"
   ]
  },
  {
   "cell_type": "code",
   "execution_count": 19,
   "id": "e36ae618",
   "metadata": {},
   "outputs": [
    {
     "data": {
      "text/plain": [
       "{1, 2, 3, 4, 5, 6, 7, 8, 9, 10, 11, 12}"
      ]
     },
     "execution_count": 19,
     "metadata": {},
     "output_type": "execute_result"
    }
   ],
   "source": [
    "set1.union(set2) # union"
   ]
  },
  {
   "cell_type": "code",
   "execution_count": 20,
   "id": "5a0c718e",
   "metadata": {},
   "outputs": [
    {
     "data": {
      "text/plain": [
       "{5, 6, 7, 8, 9, 10}"
      ]
     },
     "execution_count": 20,
     "metadata": {},
     "output_type": "execute_result"
    }
   ],
   "source": [
    "set1.intersection(set2) # intersection"
   ]
  },
  {
   "cell_type": "code",
   "execution_count": 22,
   "id": "ed40ce5b",
   "metadata": {},
   "outputs": [
    {
     "data": {
      "text/plain": [
       "{1, 2, 3, 4}"
      ]
     },
     "execution_count": 22,
     "metadata": {},
     "output_type": "execute_result"
    }
   ],
   "source": [
    "set1.difference(set2)  # difference"
   ]
  },
  {
   "cell_type": "markdown",
   "id": "137784f3",
   "metadata": {},
   "source": [
    "Assignment Task 5:\n",
    "\n",
    "Tuple and Set Conversion Write a Python program that takes a tuple of integers and converts it into a set. Then, find and print the maximum and minimum values from the set."
   ]
  },
  {
   "cell_type": "code",
   "execution_count": 23,
   "id": "292938ec",
   "metadata": {},
   "outputs": [],
   "source": [
    "tup = (1,2,3,4,5,6,7,8,9,10,11,12)"
   ]
  },
  {
   "cell_type": "code",
   "execution_count": 24,
   "id": "404dfa02",
   "metadata": {},
   "outputs": [
    {
     "data": {
      "text/plain": [
       "tuple"
      ]
     },
     "execution_count": 24,
     "metadata": {},
     "output_type": "execute_result"
    }
   ],
   "source": [
    "type(tup)"
   ]
  },
  {
   "cell_type": "code",
   "execution_count": 25,
   "id": "66ab09a6",
   "metadata": {},
   "outputs": [],
   "source": [
    "a = set(tup)"
   ]
  },
  {
   "cell_type": "code",
   "execution_count": 26,
   "id": "39a11655",
   "metadata": {},
   "outputs": [
    {
     "data": {
      "text/plain": [
       "{1, 2, 3, 4, 5, 6, 7, 8, 9, 10, 11, 12}"
      ]
     },
     "execution_count": 26,
     "metadata": {},
     "output_type": "execute_result"
    }
   ],
   "source": [
    "a"
   ]
  },
  {
   "cell_type": "code",
   "execution_count": 27,
   "id": "ee6ee0ef",
   "metadata": {},
   "outputs": [
    {
     "data": {
      "text/plain": [
       "set"
      ]
     },
     "execution_count": 27,
     "metadata": {},
     "output_type": "execute_result"
    }
   ],
   "source": [
    "type(a) "
   ]
  },
  {
   "cell_type": "code",
   "execution_count": 29,
   "id": "193a539a",
   "metadata": {},
   "outputs": [
    {
     "data": {
      "text/plain": [
       "12"
      ]
     },
     "execution_count": 29,
     "metadata": {},
     "output_type": "execute_result"
    }
   ],
   "source": [
    "max(a) # maximun value"
   ]
  },
  {
   "cell_type": "code",
   "execution_count": 30,
   "id": "a8d65c8a",
   "metadata": {},
   "outputs": [
    {
     "data": {
      "text/plain": [
       "1"
      ]
     },
     "execution_count": 30,
     "metadata": {},
     "output_type": "execute_result"
    }
   ],
   "source": [
    "min(a) # minimun value"
   ]
  },
  {
   "cell_type": "markdown",
   "id": "8d089662",
   "metadata": {},
   "source": [
    "Assignment Task 6:\n",
    "\n",
    "Tuple Immutability Explain the concept of immutability in Python tuples with examples. Discuss why tuples are considered immutable data structures."
   ]
  },
  {
   "cell_type": "markdown",
   "id": "009e6bbe",
   "metadata": {},
   "source": [
    "- Yes tuple is immutbale"
   ]
  },
  {
   "cell_type": "code",
   "execution_count": 31,
   "id": "ff707903",
   "metadata": {},
   "outputs": [],
   "source": [
    "tup = (1,2,3,4,5,6)"
   ]
  },
  {
   "cell_type": "markdown",
   "id": "c8e146ca",
   "metadata": {},
   "source": [
    "- its is immutable because we cannaot able add or remove or modify the tuple lets try some methods."
   ]
  },
  {
   "cell_type": "code",
   "execution_count": 32,
   "id": "fd046291",
   "metadata": {},
   "outputs": [
    {
     "ename": "AttributeError",
     "evalue": "'tuple' object has no attribute 'add'",
     "output_type": "error",
     "traceback": [
      "\u001b[1;31m---------------------------------------------------------------------------\u001b[0m",
      "\u001b[1;31mAttributeError\u001b[0m                            Traceback (most recent call last)",
      "Cell \u001b[1;32mIn[32], line 1\u001b[0m\n\u001b[1;32m----> 1\u001b[0m \u001b[43mtup\u001b[49m\u001b[38;5;241;43m.\u001b[39;49m\u001b[43madd\u001b[49m(\u001b[38;5;241m3\u001b[39m)\n",
      "\u001b[1;31mAttributeError\u001b[0m: 'tuple' object has no attribute 'add'"
     ]
    }
   ],
   "source": [
    "tup.add(3) # error because no attribute ass add "
   ]
  },
  {
   "cell_type": "code",
   "execution_count": 33,
   "id": "4375dba1",
   "metadata": {},
   "outputs": [
    {
     "ename": "AttributeError",
     "evalue": "'tuple' object has no attribute 'remove'",
     "output_type": "error",
     "traceback": [
      "\u001b[1;31m---------------------------------------------------------------------------\u001b[0m",
      "\u001b[1;31mAttributeError\u001b[0m                            Traceback (most recent call last)",
      "Cell \u001b[1;32mIn[33], line 1\u001b[0m\n\u001b[1;32m----> 1\u001b[0m \u001b[43mtup\u001b[49m\u001b[38;5;241;43m.\u001b[39;49m\u001b[43mremove\u001b[49m(\u001b[38;5;241m6\u001b[39m)\n",
      "\u001b[1;31mAttributeError\u001b[0m: 'tuple' object has no attribute 'remove'"
     ]
    }
   ],
   "source": [
    "tup.remove(6) # shows error because  from tuple we can't able remove value"
   ]
  },
  {
   "cell_type": "markdown",
   "id": "893260dd",
   "metadata": {},
   "source": [
    " - so we cannot able do methods which are add the value, remove the value, modify the value so this is called as the immutuable data structures."
   ]
  },
  {
   "cell_type": "markdown",
   "id": "41d4dac1",
   "metadata": {},
   "source": [
    "- set is used for constant values which is unchangeable which means companies and their founders ."
   ]
  },
  {
   "cell_type": "markdown",
   "id": "7d0c63c7",
   "metadata": {},
   "source": [
    "Assignment Task 7:\n",
    "\n",
    "Set Operations and Methods Write a Python program that takes a set of numbers and performs the following operations:\n",
    "\n",
    "Add a new number to the set. Remove a number from the set. Check if a specific number is in the set. Find the size of the set. "
   ]
  },
  {
   "cell_type": "code",
   "execution_count": 38,
   "id": "f89605b5",
   "metadata": {},
   "outputs": [],
   "source": [
    "a = {1,2,3,55,66,77,12,34,56,34}"
   ]
  },
  {
   "cell_type": "code",
   "execution_count": 39,
   "id": "1aadab28",
   "metadata": {},
   "outputs": [
    {
     "data": {
      "text/plain": [
       "{1, 2, 3, 12, 34, 55, 56, 66, 77}"
      ]
     },
     "execution_count": 39,
     "metadata": {},
     "output_type": "execute_result"
    }
   ],
   "source": [
    "a \n"
   ]
  },
  {
   "cell_type": "code",
   "execution_count": 42,
   "id": "fc1b63f5",
   "metadata": {},
   "outputs": [],
   "source": [
    "a.add(100)  # by add function we can add the number "
   ]
  },
  {
   "cell_type": "code",
   "execution_count": 43,
   "id": "bf80c857",
   "metadata": {},
   "outputs": [
    {
     "data": {
      "text/plain": [
       "{1, 2, 3, 12, 34, 55, 56, 66, 77, 100}"
      ]
     },
     "execution_count": 43,
     "metadata": {},
     "output_type": "execute_result"
    }
   ],
   "source": [
    "a"
   ]
  },
  {
   "cell_type": "code",
   "execution_count": 44,
   "id": "bd292443",
   "metadata": {},
   "outputs": [],
   "source": [
    "a.remove(3)  # by remove function we can remove the number "
   ]
  },
  {
   "cell_type": "code",
   "execution_count": 45,
   "id": "67c5ebdd",
   "metadata": {},
   "outputs": [
    {
     "data": {
      "text/plain": [
       "{1, 2, 12, 34, 55, 56, 66, 77, 100}"
      ]
     },
     "execution_count": 45,
     "metadata": {},
     "output_type": "execute_result"
    }
   ],
   "source": [
    "a."
   ]
  },
  {
   "cell_type": "code",
   "execution_count": 51,
   "id": "28adab06",
   "metadata": {},
   "outputs": [
    {
     "data": {
      "text/plain": [
       "9"
      ]
     },
     "execution_count": 51,
     "metadata": {},
     "output_type": "execute_result"
    }
   ],
   "source": [
    "len(a)  # size  of set is 9"
   ]
  },
  {
   "cell_type": "code",
   "execution_count": 49,
   "id": "51e1390b",
   "metadata": {},
   "outputs": [
    {
     "data": {
      "text/plain": [
       "True"
      ]
     },
     "execution_count": 49,
     "metadata": {},
     "output_type": "execute_result"
    }
   ],
   "source": [
    "2 in a"
   ]
  },
  {
   "cell_type": "markdown",
   "id": "00bcb7a4",
   "metadata": {},
   "source": [
    "Assignment Task 8:\n",
    "\n",
    "Tuple Slicing Given a tuple of 10 elements, write a Python program to print the elements from the 3rd to the 7thposition using slicing."
   ]
  },
  {
   "cell_type": "code",
   "execution_count": 52,
   "id": "40c2907a",
   "metadata": {},
   "outputs": [],
   "source": [
    "tup = (1,2,3,4,5,6,7,8,9,10)"
   ]
  },
  {
   "cell_type": "code",
   "execution_count": 54,
   "id": "44f744bb",
   "metadata": {},
   "outputs": [
    {
     "data": {
      "text/plain": [
       "(3, 4, 5, 6, 7)"
      ]
     },
     "execution_count": 54,
     "metadata": {},
     "output_type": "execute_result"
    }
   ],
   "source": [
    "tup[2:7]"
   ]
  },
  {
   "cell_type": "markdown",
   "id": "f17be8de",
   "metadata": {},
   "source": [
    "Assignment Task 9:\n",
    "\n",
    "Set Operations with Lists Create a Python list with duplicate elements and convert it into a set to remove duplicates. Then, write a program to count how many duplicates were removed."
   ]
  },
  {
   "cell_type": "code",
   "execution_count": 55,
   "id": "170d6c87",
   "metadata": {},
   "outputs": [],
   "source": [
    "list1 = [1,2,3,4,5,6,7,8,2,3,2,3,4,5,5,6,5,6]"
   ]
  },
  {
   "cell_type": "code",
   "execution_count": 56,
   "id": "5e65f963",
   "metadata": {},
   "outputs": [
    {
     "data": {
      "text/plain": [
       "[1, 2, 3, 4, 5, 6, 7, 8, 2, 3, 2, 3, 4, 5, 5, 6, 5, 6]"
      ]
     },
     "execution_count": 56,
     "metadata": {},
     "output_type": "execute_result"
    }
   ],
   "source": [
    "list1"
   ]
  },
  {
   "cell_type": "code",
   "execution_count": 57,
   "id": "c8330bd9",
   "metadata": {},
   "outputs": [],
   "source": [
    "a = set(list1)"
   ]
  },
  {
   "cell_type": "code",
   "execution_count": 58,
   "id": "f728a79d",
   "metadata": {},
   "outputs": [
    {
     "data": {
      "text/plain": [
       "{1, 2, 3, 4, 5, 6, 7, 8}"
      ]
     },
     "execution_count": 58,
     "metadata": {},
     "output_type": "execute_result"
    }
   ],
   "source": [
    "a "
   ]
  },
  {
   "cell_type": "code",
   "execution_count": 59,
   "id": "22d934dc",
   "metadata": {},
   "outputs": [
    {
     "data": {
      "text/plain": [
       "18"
      ]
     },
     "execution_count": 59,
     "metadata": {},
     "output_type": "execute_result"
    }
   ],
   "source": [
    "len(list1)"
   ]
  },
  {
   "cell_type": "code",
   "execution_count": 60,
   "id": "8f9d6580",
   "metadata": {},
   "outputs": [
    {
     "data": {
      "text/plain": [
       "8"
      ]
     },
     "execution_count": 60,
     "metadata": {},
     "output_type": "execute_result"
    }
   ],
   "source": [
    "len(a)"
   ]
  },
  {
   "cell_type": "code",
   "execution_count": 61,
   "id": "1760c1d7",
   "metadata": {},
   "outputs": [],
   "source": [
    "duplicates_removed = len(list1)-len(a)"
   ]
  },
  {
   "cell_type": "code",
   "execution_count": 62,
   "id": "613a89ed",
   "metadata": {},
   "outputs": [
    {
     "data": {
      "text/plain": [
       "10"
      ]
     },
     "execution_count": 62,
     "metadata": {},
     "output_type": "execute_result"
    }
   ],
   "source": [
    "duplicates_removed"
   ]
  },
  {
   "cell_type": "markdown",
   "id": "8733dae9",
   "metadata": {},
   "source": [
    "Assignment Task 10:\n",
    "\n",
    "Tuple and Set Combinations Create a tuple containing the names of your friend's favorite movies and a set containing the names of your favorite movies. Write a Python program to find and display common elements (movies that feature your"
   ]
  },
  {
   "cell_type": "code",
   "execution_count": 63,
   "id": "ea3c7dae",
   "metadata": {},
   "outputs": [],
   "source": [
    "frds_movies  = (\"Avengers\",\"NUN\",\"Khusi\",\"boys hostel\")"
   ]
  },
  {
   "cell_type": "code",
   "execution_count": 73,
   "id": "595acdd3",
   "metadata": {},
   "outputs": [],
   "source": [
    "my_movies = {\"Avengers\",\"flash\",\"spiderman\",\"Khusi\",\"boys hostel\"}"
   ]
  },
  {
   "cell_type": "code",
   "execution_count": 74,
   "id": "bd3e704d",
   "metadata": {},
   "outputs": [],
   "source": [
    "a = set(frds_movies)"
   ]
  },
  {
   "cell_type": "code",
   "execution_count": 75,
   "id": "ae0e2fa7",
   "metadata": {},
   "outputs": [
    {
     "data": {
      "text/plain": [
       "{'Avengers', 'Khusi', 'NUN', 'boys hostel'}"
      ]
     },
     "execution_count": 75,
     "metadata": {},
     "output_type": "execute_result"
    }
   ],
   "source": [
    "a"
   ]
  },
  {
   "cell_type": "code",
   "execution_count": 76,
   "id": "66b90ead",
   "metadata": {},
   "outputs": [
    {
     "data": {
      "text/plain": [
       "{'Avengers', 'Khusi', 'boys hostel'}"
      ]
     },
     "execution_count": 76,
     "metadata": {},
     "output_type": "execute_result"
    }
   ],
   "source": [
    "my_movies.intersection(a)  # common movies "
   ]
  },
  {
   "cell_type": "code",
   "execution_count": null,
   "id": "4908ab75",
   "metadata": {},
   "outputs": [],
   "source": []
  }
 ],
 "metadata": {
  "kernelspec": {
   "display_name": "Python 3 (ipykernel)",
   "language": "python",
   "name": "python3"
  },
  "language_info": {
   "codemirror_mode": {
    "name": "ipython",
    "version": 3
   },
   "file_extension": ".py",
   "mimetype": "text/x-python",
   "name": "python",
   "nbconvert_exporter": "python",
   "pygments_lexer": "ipython3",
   "version": "3.10.12"
  }
 },
 "nbformat": 4,
 "nbformat_minor": 5
}
